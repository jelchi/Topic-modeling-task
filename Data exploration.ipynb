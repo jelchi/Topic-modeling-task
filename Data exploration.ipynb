{
 "cells": [
  {
   "cell_type": "markdown",
   "metadata": {},
   "source": [
    "# Data exploration"
   ]
  },
  {
   "cell_type": "code",
   "execution_count": 74,
   "metadata": {},
   "outputs": [],
   "source": [
    "import pandas as pd\n",
    "\n",
    "import re\n",
    "\n",
    "import numpy as np\n",
    "\n",
    "np.random.seed(4)\n",
    "\n",
    "import string\n",
    "\n",
    "pd.set_option('display.max_rows',50)\n",
    "pd.set_option('display.max_columns',50)\n",
    "pd.set_option('display.width',5000)\n",
    "pd.set_option('max_colwidth', 500)\n",
    "import warnings\n",
    "warnings.filterwarnings(\"ignore\", category=DeprecationWarning)\n",
    "\n",
    "import gensim\n",
    "from gensim.parsing.preprocessing import STOPWORDS"
   ]
  },
  {
   "cell_type": "code",
   "execution_count": 2,
   "metadata": {},
   "outputs": [],
   "source": [
    "data = pd.read_csv('twcs.csv', sep = ',')"
   ]
  },
  {
   "cell_type": "code",
   "execution_count": 3,
   "metadata": {},
   "outputs": [
    {
     "data": {
      "text/plain": [
       "(2811774, 7)"
      ]
     },
     "execution_count": 3,
     "metadata": {},
     "output_type": "execute_result"
    }
   ],
   "source": [
    "data.shape"
   ]
  },
  {
   "cell_type": "code",
   "execution_count": 4,
   "metadata": {},
   "outputs": [
    {
     "data": {
      "text/html": [
       "<div>\n",
       "<style scoped>\n",
       "    .dataframe tbody tr th:only-of-type {\n",
       "        vertical-align: middle;\n",
       "    }\n",
       "\n",
       "    .dataframe tbody tr th {\n",
       "        vertical-align: top;\n",
       "    }\n",
       "\n",
       "    .dataframe thead th {\n",
       "        text-align: right;\n",
       "    }\n",
       "</style>\n",
       "<table border=\"1\" class=\"dataframe\">\n",
       "  <thead>\n",
       "    <tr style=\"text-align: right;\">\n",
       "      <th></th>\n",
       "      <th>tweet_id</th>\n",
       "      <th>author_id</th>\n",
       "      <th>inbound</th>\n",
       "      <th>created_at</th>\n",
       "      <th>text</th>\n",
       "      <th>response_tweet_id</th>\n",
       "      <th>in_response_to_tweet_id</th>\n",
       "    </tr>\n",
       "  </thead>\n",
       "  <tbody>\n",
       "    <tr>\n",
       "      <th>0</th>\n",
       "      <td>1</td>\n",
       "      <td>sprintcare</td>\n",
       "      <td>False</td>\n",
       "      <td>Tue Oct 31 22:10:47 +0000 2017</td>\n",
       "      <td>@115712 I understand. I would like to assist you. We would need to get you into a private secured link to further assist.</td>\n",
       "      <td>2</td>\n",
       "      <td>3.0</td>\n",
       "    </tr>\n",
       "    <tr>\n",
       "      <th>1</th>\n",
       "      <td>2</td>\n",
       "      <td>115712</td>\n",
       "      <td>True</td>\n",
       "      <td>Tue Oct 31 22:11:45 +0000 2017</td>\n",
       "      <td>@sprintcare and how do you propose we do that</td>\n",
       "      <td>NaN</td>\n",
       "      <td>1.0</td>\n",
       "    </tr>\n",
       "    <tr>\n",
       "      <th>2</th>\n",
       "      <td>3</td>\n",
       "      <td>115712</td>\n",
       "      <td>True</td>\n",
       "      <td>Tue Oct 31 22:08:27 +0000 2017</td>\n",
       "      <td>@sprintcare I have sent several private messages and no one is responding as usual</td>\n",
       "      <td>1</td>\n",
       "      <td>4.0</td>\n",
       "    </tr>\n",
       "    <tr>\n",
       "      <th>3</th>\n",
       "      <td>4</td>\n",
       "      <td>sprintcare</td>\n",
       "      <td>False</td>\n",
       "      <td>Tue Oct 31 21:54:49 +0000 2017</td>\n",
       "      <td>@115712 Please send us a Private Message so that we can further assist you. Just click ‘Message’ at the top of your profile.</td>\n",
       "      <td>3</td>\n",
       "      <td>5.0</td>\n",
       "    </tr>\n",
       "    <tr>\n",
       "      <th>4</th>\n",
       "      <td>5</td>\n",
       "      <td>115712</td>\n",
       "      <td>True</td>\n",
       "      <td>Tue Oct 31 21:49:35 +0000 2017</td>\n",
       "      <td>@sprintcare I did.</td>\n",
       "      <td>4</td>\n",
       "      <td>6.0</td>\n",
       "    </tr>\n",
       "    <tr>\n",
       "      <th>5</th>\n",
       "      <td>6</td>\n",
       "      <td>sprintcare</td>\n",
       "      <td>False</td>\n",
       "      <td>Tue Oct 31 21:46:24 +0000 2017</td>\n",
       "      <td>@115712 Can you please send us a private message, so that I can gain further details about your account?</td>\n",
       "      <td>5,7</td>\n",
       "      <td>8.0</td>\n",
       "    </tr>\n",
       "    <tr>\n",
       "      <th>6</th>\n",
       "      <td>8</td>\n",
       "      <td>115712</td>\n",
       "      <td>True</td>\n",
       "      <td>Tue Oct 31 21:45:10 +0000 2017</td>\n",
       "      <td>@sprintcare is the worst customer service</td>\n",
       "      <td>9,6,10</td>\n",
       "      <td>NaN</td>\n",
       "    </tr>\n",
       "    <tr>\n",
       "      <th>7</th>\n",
       "      <td>11</td>\n",
       "      <td>sprintcare</td>\n",
       "      <td>False</td>\n",
       "      <td>Tue Oct 31 22:10:35 +0000 2017</td>\n",
       "      <td>@115713 This is saddening to hear. Please shoot us a DM, so that we can look into this for you. -KC</td>\n",
       "      <td>NaN</td>\n",
       "      <td>12.0</td>\n",
       "    </tr>\n",
       "    <tr>\n",
       "      <th>8</th>\n",
       "      <td>12</td>\n",
       "      <td>115713</td>\n",
       "      <td>True</td>\n",
       "      <td>Tue Oct 31 22:04:47 +0000 2017</td>\n",
       "      <td>@sprintcare You gonna magically change your connectivity for me and my whole family ? 🤥 💯</td>\n",
       "      <td>11,13,14</td>\n",
       "      <td>15.0</td>\n",
       "    </tr>\n",
       "    <tr>\n",
       "      <th>9</th>\n",
       "      <td>15</td>\n",
       "      <td>sprintcare</td>\n",
       "      <td>False</td>\n",
       "      <td>Tue Oct 31 20:03:31 +0000 2017</td>\n",
       "      <td>@115713 We understand your concerns and we'd like for you to please send us a Direct Message, so that we can further assist you. -AA</td>\n",
       "      <td>12</td>\n",
       "      <td>16.0</td>\n",
       "    </tr>\n",
       "  </tbody>\n",
       "</table>\n",
       "</div>"
      ],
      "text/plain": [
       "   tweet_id   author_id  inbound                      created_at                                                                                                                                  text response_tweet_id  in_response_to_tweet_id\n",
       "0         1  sprintcare    False  Tue Oct 31 22:10:47 +0000 2017             @115712 I understand. I would like to assist you. We would need to get you into a private secured link to further assist.                 2                      3.0\n",
       "1         2      115712     True  Tue Oct 31 22:11:45 +0000 2017                                                                                         @sprintcare and how do you propose we do that               NaN                      1.0\n",
       "2         3      115712     True  Tue Oct 31 22:08:27 +0000 2017                                                    @sprintcare I have sent several private messages and no one is responding as usual                 1                      4.0\n",
       "3         4  sprintcare    False  Tue Oct 31 21:54:49 +0000 2017          @115712 Please send us a Private Message so that we can further assist you. Just click ‘Message’ at the top of your profile.                 3                      5.0\n",
       "4         5      115712     True  Tue Oct 31 21:49:35 +0000 2017                                                                                                                    @sprintcare I did.                 4                      6.0\n",
       "5         6  sprintcare    False  Tue Oct 31 21:46:24 +0000 2017                              @115712 Can you please send us a private message, so that I can gain further details about your account?               5,7                      8.0\n",
       "6         8      115712     True  Tue Oct 31 21:45:10 +0000 2017                                                                                             @sprintcare is the worst customer service            9,6,10                      NaN\n",
       "7        11  sprintcare    False  Tue Oct 31 22:10:35 +0000 2017                                   @115713 This is saddening to hear. Please shoot us a DM, so that we can look into this for you. -KC               NaN                     12.0\n",
       "8        12      115713     True  Tue Oct 31 22:04:47 +0000 2017                                             @sprintcare You gonna magically change your connectivity for me and my whole family ? 🤥 💯          11,13,14                     15.0\n",
       "9        15  sprintcare    False  Tue Oct 31 20:03:31 +0000 2017  @115713 We understand your concerns and we'd like for you to please send us a Direct Message, so that we can further assist you. -AA                12                     16.0"
      ]
     },
     "execution_count": 4,
     "metadata": {},
     "output_type": "execute_result"
    }
   ],
   "source": [
    "data.head(10)"
   ]
  },
  {
   "cell_type": "markdown",
   "metadata": {},
   "source": [
    "**Columns - descriptions from Kaggle**\n",
    "\n",
    "tweet_id -unique, anonymized ID for the tweet → index\n",
    "\n",
    "author_id - unique, anonymized user ID (if author is company than user ID is not anonymized!) → separate users from companies  \n",
    "\n",
    "inbound - whether the tweet is \"inbound\" to a company doing customer support on Twitter  \n",
    "\n",
    "created_at - date and time when the tweet was sent  → not neccessary\n",
    "\n",
    "text - tweet content \n",
    "\n",
    "response_tweet_id - IDs of tweets that are responses to this tweet, comma-separated  → used to connect conversations\n",
    "\n",
    "in_response_to_tweet_id - ID of the tweet this tweet is in response to, if any  → used to connect conversations\n"
   ]
  },
  {
   "cell_type": "code",
   "execution_count": 5,
   "metadata": {},
   "outputs": [
    {
     "data": {
      "text/plain": [
       "tweet_id                     int64\n",
       "author_id                   object\n",
       "inbound                       bool\n",
       "created_at                  object\n",
       "text                        object\n",
       "response_tweet_id           object\n",
       "in_response_to_tweet_id    float64\n",
       "dtype: object"
      ]
     },
     "execution_count": 5,
     "metadata": {},
     "output_type": "execute_result"
    }
   ],
   "source": [
    "data.dtypes"
   ]
  },
  {
   "cell_type": "markdown",
   "metadata": {},
   "source": [
    "Number of unique authors"
   ]
  },
  {
   "cell_type": "code",
   "execution_count": 7,
   "metadata": {},
   "outputs": [
    {
     "data": {
      "text/plain": [
       "702777"
      ]
     },
     "execution_count": 7,
     "metadata": {},
     "output_type": "execute_result"
    }
   ],
   "source": [
    "data.author_id.nunique()"
   ]
  },
  {
   "cell_type": "markdown",
   "metadata": {},
   "source": [
    "Number of unique companies (where author ID is not numeric)"
   ]
  },
  {
   "cell_type": "code",
   "execution_count": 8,
   "metadata": {},
   "outputs": [
    {
     "data": {
      "text/plain": [
       "108"
      ]
     },
     "execution_count": 8,
     "metadata": {},
     "output_type": "execute_result"
    }
   ],
   "source": [
    "data[data.author_id.str.isnumeric() == False].author_id.nunique()"
   ]
  },
  {
   "cell_type": "code",
   "execution_count": 9,
   "metadata": {},
   "outputs": [
    {
     "name": "stdout",
     "output_type": "stream",
     "text": [
      "Number of tweets by users: 1273931\n",
      "Number of tweets by companies: 1537843\n"
     ]
    }
   ],
   "source": [
    "print('Number of tweets by users:', data[data.author_id.str.isnumeric() == False].shape[0])\n",
    "print('Number of tweets by companies:', data[data.author_id.str.isnumeric() == True].shape[0])"
   ]
  },
  {
   "cell_type": "markdown",
   "metadata": {},
   "source": [
    "Most common authors (companies, as expected):"
   ]
  },
  {
   "cell_type": "code",
   "execution_count": 10,
   "metadata": {},
   "outputs": [
    {
     "data": {
      "text/plain": [
       "AmazonHelp         169840\n",
       "AppleSupport       106860\n",
       "Uber_Support        56270\n",
       "SpotifyCares        43265\n",
       "Delta               42253\n",
       "Tesco               38573\n",
       "AmericanAir         36764\n",
       "TMobileHelp         34317\n",
       "comcastcares        33031\n",
       "British_Airways     29361\n",
       "SouthwestAir        28977\n",
       "VirginTrains        27817\n",
       "Ask_Spectrum        25860\n",
       "XboxSupport         24557\n",
       "sprintcare          22381\n",
       "hulu_support        21872\n",
       "sainsburys          19466\n",
       "GWRHelp             19364\n",
       "AskPlayStation      19098\n",
       "ChipotleTweets      18749\n",
       "VerizonSupport      17966\n",
       "UPSHelp             17817\n",
       "ATVIAssist          17650\n",
       "O2                  16212\n",
       "Safaricom_Care      16077\n",
       "idea_cares          15724\n",
       "AskTarget           13218\n",
       "AirAsiaSupport      12829\n",
       "BofA_Help           12683\n",
       "SW_Help             12231\n",
       "Name: author_id, dtype: int64"
      ]
     },
     "execution_count": 10,
     "metadata": {},
     "output_type": "execute_result"
    }
   ],
   "source": [
    "data.author_id.value_counts()[:30]"
   ]
  },
  {
   "cell_type": "code",
   "execution_count": 17,
   "metadata": {},
   "outputs": [
    {
     "data": {
      "text/plain": [
       "MOO                630\n",
       "ask_progressive    612\n",
       "KeyBank_Help       555\n",
       "AskRobinhood       432\n",
       "mediatemplehelp    305\n",
       "JackBox            266\n",
       "OfficeSupport      218\n",
       "AskDSC             210\n",
       "CarlsJr            196\n",
       "HotelTonightCX     152\n",
       "Name: author_id, dtype: int64"
      ]
     },
     "execution_count": 17,
     "metadata": {},
     "output_type": "execute_result"
    }
   ],
   "source": [
    "data[data.author_id.str.isnumeric() == False].author_id.value_counts().tail(10) # some companies are very rare"
   ]
  },
  {
   "cell_type": "markdown",
   "metadata": {},
   "source": [
    "Connecting tweets and responses to get ratio of tweets directed to certain companies"
   ]
  },
  {
   "cell_type": "code",
   "execution_count": 56,
   "metadata": {},
   "outputs": [],
   "source": [
    "first_inbound = data[pd.isnull(data.in_response_to_tweet_id) & data.inbound] #first inbound messages\n",
    "\n",
    "inbounds_and_outbounds = pd.merge(first_inbound, data, left_on='tweet_id', \n",
    "                                  right_on='in_response_to_tweet_id') # all tweets in response merged\n",
    "inbounds_and_outbounds = inbounds_and_outbounds[inbounds_and_outbounds.inbound_y ^ True]\n",
    "\n",
    "perc_authors = inbounds_and_outbounds.author_id_y.value_counts().rename_axis('unique_values').to_frame('counts')\n",
    "\n",
    "perc_authors['Ratio'] = perc_authors.counts / inbounds_and_outbounds.shape[0] * 100\n",
    "\n",
    "perc_authors['Cum_sum'] = perc_authors.Ratio.cumsum()"
   ]
  },
  {
   "cell_type": "code",
   "execution_count": 58,
   "metadata": {},
   "outputs": [
    {
     "data": {
      "text/html": [
       "<div>\n",
       "<style scoped>\n",
       "    .dataframe tbody tr th:only-of-type {\n",
       "        vertical-align: middle;\n",
       "    }\n",
       "\n",
       "    .dataframe tbody tr th {\n",
       "        vertical-align: top;\n",
       "    }\n",
       "\n",
       "    .dataframe thead th {\n",
       "        text-align: right;\n",
       "    }\n",
       "</style>\n",
       "<table border=\"1\" class=\"dataframe\">\n",
       "  <thead>\n",
       "    <tr style=\"text-align: right;\">\n",
       "      <th></th>\n",
       "      <th>counts</th>\n",
       "      <th>Ratio</th>\n",
       "      <th>Cum_sum</th>\n",
       "    </tr>\n",
       "    <tr>\n",
       "      <th>unique_values</th>\n",
       "      <th></th>\n",
       "      <th></th>\n",
       "      <th></th>\n",
       "    </tr>\n",
       "  </thead>\n",
       "  <tbody>\n",
       "    <tr>\n",
       "      <th>AmazonHelp</th>\n",
       "      <td>84637</td>\n",
       "      <td>10.655559</td>\n",
       "      <td>10.655559</td>\n",
       "    </tr>\n",
       "    <tr>\n",
       "      <th>AppleSupport</th>\n",
       "      <td>74632</td>\n",
       "      <td>9.395958</td>\n",
       "      <td>20.051517</td>\n",
       "    </tr>\n",
       "    <tr>\n",
       "      <th>Uber_Support</th>\n",
       "      <td>40029</td>\n",
       "      <td>5.039538</td>\n",
       "      <td>25.091055</td>\n",
       "    </tr>\n",
       "    <tr>\n",
       "      <th>Delta</th>\n",
       "      <td>28485</td>\n",
       "      <td>3.586181</td>\n",
       "      <td>28.677236</td>\n",
       "    </tr>\n",
       "    <tr>\n",
       "      <th>SpotifyCares</th>\n",
       "      <td>26940</td>\n",
       "      <td>3.391670</td>\n",
       "      <td>32.068906</td>\n",
       "    </tr>\n",
       "    <tr>\n",
       "      <th>Tesco</th>\n",
       "      <td>24887</td>\n",
       "      <td>3.133203</td>\n",
       "      <td>35.202109</td>\n",
       "    </tr>\n",
       "    <tr>\n",
       "      <th>AmericanAir</th>\n",
       "      <td>24506</td>\n",
       "      <td>3.085236</td>\n",
       "      <td>38.287345</td>\n",
       "    </tr>\n",
       "    <tr>\n",
       "      <th>comcastcares</th>\n",
       "      <td>23841</td>\n",
       "      <td>3.001515</td>\n",
       "      <td>41.288860</td>\n",
       "    </tr>\n",
       "    <tr>\n",
       "      <th>SouthwestAir</th>\n",
       "      <td>20986</td>\n",
       "      <td>2.642078</td>\n",
       "      <td>43.930938</td>\n",
       "    </tr>\n",
       "    <tr>\n",
       "      <th>TMobileHelp</th>\n",
       "      <td>20065</td>\n",
       "      <td>2.526127</td>\n",
       "      <td>46.457065</td>\n",
       "    </tr>\n",
       "  </tbody>\n",
       "</table>\n",
       "</div>"
      ],
      "text/plain": [
       "               counts      Ratio    Cum_sum\n",
       "unique_values                              \n",
       "AmazonHelp      84637  10.655559  10.655559\n",
       "AppleSupport    74632   9.395958  20.051517\n",
       "Uber_Support    40029   5.039538  25.091055\n",
       "Delta           28485   3.586181  28.677236\n",
       "SpotifyCares    26940   3.391670  32.068906\n",
       "Tesco           24887   3.133203  35.202109\n",
       "AmericanAir     24506   3.085236  38.287345\n",
       "comcastcares    23841   3.001515  41.288860\n",
       "SouthwestAir    20986   2.642078  43.930938\n",
       "TMobileHelp     20065   2.526127  46.457065"
      ]
     },
     "execution_count": 58,
     "metadata": {},
     "output_type": "execute_result"
    }
   ],
   "source": [
    "perc_authors.head(10)"
   ]
  },
  {
   "cell_type": "code",
   "execution_count": 59,
   "metadata": {},
   "outputs": [
    {
     "data": {
      "text/html": [
       "<div>\n",
       "<style scoped>\n",
       "    .dataframe tbody tr th:only-of-type {\n",
       "        vertical-align: middle;\n",
       "    }\n",
       "\n",
       "    .dataframe tbody tr th {\n",
       "        vertical-align: top;\n",
       "    }\n",
       "\n",
       "    .dataframe thead th {\n",
       "        text-align: right;\n",
       "    }\n",
       "</style>\n",
       "<table border=\"1\" class=\"dataframe\">\n",
       "  <thead>\n",
       "    <tr style=\"text-align: right;\">\n",
       "      <th></th>\n",
       "      <th>counts</th>\n",
       "      <th>Ratio</th>\n",
       "      <th>Cum_sum</th>\n",
       "    </tr>\n",
       "    <tr>\n",
       "      <th>unique_values</th>\n",
       "      <th></th>\n",
       "      <th></th>\n",
       "      <th></th>\n",
       "    </tr>\n",
       "  </thead>\n",
       "  <tbody>\n",
       "    <tr>\n",
       "      <th>AskVirginMoney</th>\n",
       "      <td>370</td>\n",
       "      <td>0.046582</td>\n",
       "      <td>99.768979</td>\n",
       "    </tr>\n",
       "    <tr>\n",
       "      <th>OPPOCareIN</th>\n",
       "      <td>340</td>\n",
       "      <td>0.042805</td>\n",
       "      <td>99.811784</td>\n",
       "    </tr>\n",
       "    <tr>\n",
       "      <th>AskRobinhood</th>\n",
       "      <td>311</td>\n",
       "      <td>0.039154</td>\n",
       "      <td>99.850938</td>\n",
       "    </tr>\n",
       "    <tr>\n",
       "      <th>AskTigogh</th>\n",
       "      <td>277</td>\n",
       "      <td>0.034874</td>\n",
       "      <td>99.885811</td>\n",
       "    </tr>\n",
       "    <tr>\n",
       "      <th>JackBox</th>\n",
       "      <td>201</td>\n",
       "      <td>0.025305</td>\n",
       "      <td>99.911117</td>\n",
       "    </tr>\n",
       "    <tr>\n",
       "      <th>mediatemplehelp</th>\n",
       "      <td>190</td>\n",
       "      <td>0.023920</td>\n",
       "      <td>99.935037</td>\n",
       "    </tr>\n",
       "    <tr>\n",
       "      <th>AskDSC</th>\n",
       "      <td>189</td>\n",
       "      <td>0.023795</td>\n",
       "      <td>99.958832</td>\n",
       "    </tr>\n",
       "    <tr>\n",
       "      <th>CarlsJr</th>\n",
       "      <td>138</td>\n",
       "      <td>0.017374</td>\n",
       "      <td>99.976205</td>\n",
       "    </tr>\n",
       "    <tr>\n",
       "      <th>HotelTonightCX</th>\n",
       "      <td>131</td>\n",
       "      <td>0.016493</td>\n",
       "      <td>99.992698</td>\n",
       "    </tr>\n",
       "    <tr>\n",
       "      <th>OfficeSupport</th>\n",
       "      <td>58</td>\n",
       "      <td>0.007302</td>\n",
       "      <td>100.000000</td>\n",
       "    </tr>\n",
       "  </tbody>\n",
       "</table>\n",
       "</div>"
      ],
      "text/plain": [
       "                 counts     Ratio     Cum_sum\n",
       "unique_values                                \n",
       "AskVirginMoney      370  0.046582   99.768979\n",
       "OPPOCareIN          340  0.042805   99.811784\n",
       "AskRobinhood        311  0.039154   99.850938\n",
       "AskTigogh           277  0.034874   99.885811\n",
       "JackBox             201  0.025305   99.911117\n",
       "mediatemplehelp     190  0.023920   99.935037\n",
       "AskDSC              189  0.023795   99.958832\n",
       "CarlsJr             138  0.017374   99.976205\n",
       "HotelTonightCX      131  0.016493   99.992698\n",
       "OfficeSupport        58  0.007302  100.000000"
      ]
     },
     "execution_count": 59,
     "metadata": {},
     "output_type": "execute_result"
    }
   ],
   "source": [
    "perc_authors.tail(10)"
   ]
  },
  {
   "cell_type": "code",
   "execution_count": 68,
   "metadata": {},
   "outputs": [
    {
     "name": "stdout",
     "output_type": "stream",
     "text": [
      "Number of companies in 85th percentile of tweets: 41 perc: 0.38\n",
      "Number of companies in 90th percentile of tweets: 48 perc: 0.44\n",
      "Number of companies in 95th percentile of tweets: 61 perc: 0.56\n"
     ]
    }
   ],
   "source": [
    "print('Number of companies in 85th percentile of tweets:', perc_authors[perc_authors.Cum_sum <= 85].shape[0], 'perc:', round(perc_authors[perc_authors.Cum_sum <= 85].shape[0]/ perc_authors.shape[0],2))\n",
    "print('Number of companies in 90th percentile of tweets:', perc_authors[perc_authors.Cum_sum <= 90].shape[0], 'perc:', round(perc_authors[perc_authors.Cum_sum <= 90].shape[0]/ perc_authors.shape[0],2))\n",
    "print('Number of companies in 95th percentile of tweets:', perc_authors[perc_authors.Cum_sum <= 95].shape[0], 'perc:', round(perc_authors[perc_authors.Cum_sum <= 95].shape[0]/ perc_authors.shape[0],2))"
   ]
  },
  {
   "cell_type": "code",
   "execution_count": 69,
   "metadata": {},
   "outputs": [],
   "source": [
    "#choosing 90th percentile because 95th maybe includes too many companies - too many different topics"
   ]
  },
  {
   "cell_type": "markdown",
   "metadata": {},
   "source": [
    "Analysis of companies' responses"
   ]
  },
  {
   "cell_type": "code",
   "execution_count": 70,
   "metadata": {},
   "outputs": [
    {
     "data": {
      "text/plain": [
       "396                                @115854 We're here for you. Which version of the iOS are you running? Check from Settings &gt; General &gt; About.\n",
       "398    @115854 Lets take a closer look into this issue. Select the following link to join us in a DM and we'll go from there. https://t.co/GDrqU22YpT\n",
       "401                                                                    @115855 Let's go to DM for the next steps. DM us here: https://t.co/GDrqU22YpT\n",
       "403                                                                                              @115855 Any steps tried since it started last night?\n",
       "405        @115855 That's great it has iOS 11.1 as we can rule out being outdated. Any steps tried since this started? Do you recall when it started?\n",
       "Name: text, dtype: object"
      ]
     },
     "execution_count": 70,
     "metadata": {},
     "output_type": "execute_result"
    }
   ],
   "source": [
    "data[data.author_id == 'AppleSupport'].text.head(5)"
   ]
  },
  {
   "cell_type": "code",
   "execution_count": 71,
   "metadata": {},
   "outputs": [
    {
     "data": {
      "text/plain": [
       "463                      @115872 Happy to follow up! Contact us via https://t.co/1xM0TILvAI so we can connect.\n",
       "465              @115872 We apologize for the trouble! Send us a DM with your email address and we'll connect.\n",
       "467    @115874 We're here to help! Send us a note here, https://t.co/WFtPA6RjWt and our team will be in touch.\n",
       "469      @115875 We’re here to help, Travis! Send us a note via https://t.co/dwDjAokZht and we'll be in touch.\n",
       "471                      @115876 For more info about UberEats availability click here; https://t.co/3A9YFZQFaF\n",
       "Name: text, dtype: object"
      ]
     },
     "execution_count": 71,
     "metadata": {},
     "output_type": "execute_result"
    }
   ],
   "source": [
    "data[data.author_id == 'Uber_Support'].text.head(5)"
   ]
  },
  {
   "cell_type": "code",
   "execution_count": 79,
   "metadata": {},
   "outputs": [
    {
     "data": {
      "text/plain": [
       "2811209                                                                                        @149099 Hi! We've just sent a DM your way. Let's carry on chatting there /PL\n",
       "2811211                                      @823708 Hey Thomas, help's here! Can you DM us your account's email address? We'll check backstage /GK https://t.co/ldFdZR1cbT\n",
       "2811214                                                  @823514 Can you send us a DM with your account's email address? We'll check things out /JO https://t.co/ldFdZRiNAt\n",
       "2811216            @823709 Hey Benedict! Can you DM us yours and your family members' accounts' email addresses or usernames? We'll take a look /NS https://t.co/ldFdZRiNAt\n",
       "2811503    @823786 Hey Paul! Could you DM us your account's username or email address, as well as your wife's? We'll take a look under the hood /GU https://t.co/ldFdZRiNAt\n",
       "Name: text, dtype: object"
      ]
     },
     "execution_count": 79,
     "metadata": {},
     "output_type": "execute_result"
    }
   ],
   "source": [
    "data[data.author_id == 'SpotifyCares'].text.tail(5)"
   ]
  },
  {
   "cell_type": "markdown",
   "metadata": {},
   "source": [
    "Seems like companies answers are generic - We’re here to help, Send us a DM, Sorry... - further analysis after preprocessing"
   ]
  },
  {
   "cell_type": "markdown",
   "metadata": {},
   "source": [
    "# Number of words in a tweet"
   ]
  },
  {
   "cell_type": "code",
   "execution_count": 21,
   "metadata": {},
   "outputs": [
    {
     "name": "stdout",
     "output_type": "stream",
     "text": [
      "Max numbers of words in a tweet: 137\n",
      "Min numbers of words in a tweet: 1\n",
      "Mean numbers of words in a tweet: 19.46\n"
     ]
    },
    {
     "data": {
      "image/png": "[encoded data removed]",
      "text/plain": [
       "<Figure size 432x288 with 1 Axes>"
      ]
     },
     "metadata": {
      "needs_background": "light"
     },
     "output_type": "display_data"
    }
   ],
   "source": [
    "lenghts = data.text.apply(lambda x: len(x.split()))\n",
    "\n",
    "print('Max numbers of words in a tweet:', max(lenghts))\n",
    "print('Min numbers of words in a tweet:', min(lenghts))\n",
    "print('Mean numbers of words in a tweet:', round(np.mean(lenghts),2))\n",
    "\n",
    "import matplotlib.pyplot as plt\n",
    "fig = plt.figure()\n",
    "ax = plt.subplot()\n",
    "lenghts.value_counts().plot(kind = 'bar', ax = ax)\n",
    "plt.title('Barplot - number of words in a tweet')\n",
    "ax.set_xlim(-0.5,20)\n",
    "plt.show()"
   ]
  },
  {
   "cell_type": "markdown",
   "metadata": {},
   "source": [
    "# After preprocessing of the text"
   ]
  },
  {
   "cell_type": "markdown",
   "metadata": {},
   "source": [
    "Dataset after removing the links, numbers, mentions, emoticons etc. and keeping only nouns, verbs, adverbs and adjectives"
   ]
  },
  {
   "cell_type": "code",
   "execution_count": 18,
   "metadata": {},
   "outputs": [],
   "source": [
    "data_new = pd.read_csv('twcs_better.csv', sep = ',')"
   ]
  },
  {
   "cell_type": "code",
   "execution_count": 20,
   "metadata": {},
   "outputs": [
    {
     "data": {
      "text/html": [
       "<div>\n",
       "<style scoped>\n",
       "    .dataframe tbody tr th:only-of-type {\n",
       "        vertical-align: middle;\n",
       "    }\n",
       "\n",
       "    .dataframe tbody tr th {\n",
       "        vertical-align: top;\n",
       "    }\n",
       "\n",
       "    .dataframe thead th {\n",
       "        text-align: right;\n",
       "    }\n",
       "</style>\n",
       "<table border=\"1\" class=\"dataframe\">\n",
       "  <thead>\n",
       "    <tr style=\"text-align: right;\">\n",
       "      <th></th>\n",
       "      <th>tweet_id</th>\n",
       "      <th>author_id</th>\n",
       "      <th>inbound</th>\n",
       "      <th>created_at</th>\n",
       "      <th>text</th>\n",
       "      <th>response_tweet_id</th>\n",
       "      <th>in_response_to_tweet_id</th>\n",
       "      <th>clean_text</th>\n",
       "      <th>lemma_text</th>\n",
       "    </tr>\n",
       "  </thead>\n",
       "  <tbody>\n",
       "    <tr>\n",
       "      <th>0</th>\n",
       "      <td>1</td>\n",
       "      <td>sprintcare</td>\n",
       "      <td>False</td>\n",
       "      <td>Tue Oct 31 22:10:47 +0000 2017</td>\n",
       "      <td>@115712 I understand. I would like to assist you. We would need to get you into a private secured link to further assist.</td>\n",
       "      <td>2</td>\n",
       "      <td>3.0</td>\n",
       "      <td>i understand i would like to assist you we would need to get you into a private secured link to further assist</td>\n",
       "      <td>['understand', 'like', 'assist', 'need', 'get', 'private', 'secure', 'link', 'far', 'assist']</td>\n",
       "    </tr>\n",
       "    <tr>\n",
       "      <th>1</th>\n",
       "      <td>2</td>\n",
       "      <td>115712</td>\n",
       "      <td>True</td>\n",
       "      <td>Tue Oct 31 22:11:45 +0000 2017</td>\n",
       "      <td>@sprintcare and how do you propose we do that</td>\n",
       "      <td>NaN</td>\n",
       "      <td>1.0</td>\n",
       "      <td>and how do you propose we do that</td>\n",
       "      <td>['how', 'propose', 'do']</td>\n",
       "    </tr>\n",
       "    <tr>\n",
       "      <th>2</th>\n",
       "      <td>3</td>\n",
       "      <td>115712</td>\n",
       "      <td>True</td>\n",
       "      <td>Tue Oct 31 22:08:27 +0000 2017</td>\n",
       "      <td>@sprintcare I have sent several private messages and no one is responding as usual</td>\n",
       "      <td>1</td>\n",
       "      <td>4.0</td>\n",
       "      <td>i have sent several private messages and no one is responding as usual</td>\n",
       "      <td>['send', 'several', 'private', 'message', 'one', 'respond', 'usual']</td>\n",
       "    </tr>\n",
       "    <tr>\n",
       "      <th>3</th>\n",
       "      <td>4</td>\n",
       "      <td>sprintcare</td>\n",
       "      <td>False</td>\n",
       "      <td>Tue Oct 31 21:54:49 +0000 2017</td>\n",
       "      <td>@115712 Please send us a Private Message so that we can further assist you. Just click ‘Message’ at the top of your profile.</td>\n",
       "      <td>3</td>\n",
       "      <td>5.0</td>\n",
       "      <td>please send us a private message so that we can further assist you just click message at the top of your profile</td>\n",
       "      <td>['send', 'private', 'message', 'far', 'assist', 'just', 'click', 'message', 'top', 'profile']</td>\n",
       "    </tr>\n",
       "    <tr>\n",
       "      <th>4</th>\n",
       "      <td>5</td>\n",
       "      <td>115712</td>\n",
       "      <td>True</td>\n",
       "      <td>Tue Oct 31 21:49:35 +0000 2017</td>\n",
       "      <td>@sprintcare I did.</td>\n",
       "      <td>4</td>\n",
       "      <td>6.0</td>\n",
       "      <td>i did</td>\n",
       "      <td>['do']</td>\n",
       "    </tr>\n",
       "  </tbody>\n",
       "</table>\n",
       "</div>"
      ],
      "text/plain": [
       "   tweet_id   author_id  inbound                      created_at                                                                                                                          text response_tweet_id  in_response_to_tweet_id                                                                                                        clean_text                                                                                     lemma_text\n",
       "0         1  sprintcare    False  Tue Oct 31 22:10:47 +0000 2017     @115712 I understand. I would like to assist you. We would need to get you into a private secured link to further assist.                 2                      3.0    i understand i would like to assist you we would need to get you into a private secured link to further assist  ['understand', 'like', 'assist', 'need', 'get', 'private', 'secure', 'link', 'far', 'assist']\n",
       "1         2      115712     True  Tue Oct 31 22:11:45 +0000 2017                                                                                 @sprintcare and how do you propose we do that               NaN                      1.0                                                                                 and how do you propose we do that                                                                       ['how', 'propose', 'do']\n",
       "2         3      115712     True  Tue Oct 31 22:08:27 +0000 2017                                            @sprintcare I have sent several private messages and no one is responding as usual                 1                      4.0                                            i have sent several private messages and no one is responding as usual                           ['send', 'several', 'private', 'message', 'one', 'respond', 'usual']\n",
       "3         4  sprintcare    False  Tue Oct 31 21:54:49 +0000 2017  @115712 Please send us a Private Message so that we can further assist you. Just click ‘Message’ at the top of your profile.                 3                      5.0  please send us a private message so that we can further assist you just click message at the top of your profile  ['send', 'private', 'message', 'far', 'assist', 'just', 'click', 'message', 'top', 'profile']\n",
       "4         5      115712     True  Tue Oct 31 21:49:35 +0000 2017                                                                                                            @sprintcare I did.                 4                      6.0                                                                                                             i did                                                                                         ['do']"
      ]
     },
     "execution_count": 20,
     "metadata": {},
     "output_type": "execute_result"
    }
   ],
   "source": [
    "data_new.head(5)"
   ]
  },
  {
   "cell_type": "code",
   "execution_count": 40,
   "metadata": {},
   "outputs": [],
   "source": [
    "def lemma(text):\n",
    "    words = []\n",
    "    text = re.sub('\\]|\\[|\\,|\\'', '', text)\n",
    "    text = re.sub('\\\\\\\\ud200', '', text)\n",
    "    text = re.sub('。', '', text)\n",
    "    for i in text.split():\n",
    "        if i:\n",
    "            words.append(i)\n",
    "    return words"
   ]
  },
  {
   "cell_type": "code",
   "execution_count": 41,
   "metadata": {},
   "outputs": [],
   "source": [
    "data_new['lemma_text_new'] = data_new[\"lemma_text\"].apply(lambda x: lemma(x))"
   ]
  },
  {
   "cell_type": "code",
   "execution_count": 55,
   "metadata": {},
   "outputs": [
    {
     "name": "stdout",
     "output_type": "stream",
     "text": [
      "Max numbers of words in a tweet: 105\n",
      "Min numbers of words in a tweet: 0\n",
      "Mean numbers of words in a tweet: 8.8\n"
     ]
    },
    {
     "data": {
      "image/png": "[encoded data removed]",
      "text/plain": [
       "<Figure size 432x288 with 1 Axes>"
      ]
     },
     "metadata": {
      "needs_background": "light"
     },
     "output_type": "display_data"
    }
   ],
   "source": [
    "lenghts = data_new.lemma_text_new.apply(lambda x: len(x))\n",
    "\n",
    "print('Max numbers of words in a tweet:', max(lenghts))\n",
    "print('Min numbers of words in a tweet:', min(lenghts))\n",
    "print('Mean numbers of words in a tweet:', round(np.mean(lenghts),2))\n",
    "\n",
    "import matplotlib.pyplot as plt\n",
    "fig = plt.figure()\n",
    "ax = plt.subplot()\n",
    "lenghts.value_counts().plot(kind = 'bar', ax = ax)\n",
    "plt.title('Barplot - number of words in a tweet')\n",
    "ax.set_xlim(-0.5,20)\n",
    "plt.show()"
   ]
  },
  {
   "cell_type": "code",
   "execution_count": 46,
   "metadata": {},
   "outputs": [],
   "source": [
    "dictionary = gensim.corpora.Dictionary(data_new['lemma_text_new'])\n",
    "dictionary.filter_extremes(no_below=500, no_above=0.7)"
   ]
  },
  {
   "cell_type": "markdown",
   "metadata": {},
   "source": [
    "Most common words in dataset - **remove** be, have, do, so,m... because they do not add meaning to the topic"
   ]
  },
  {
   "cell_type": "code",
   "execution_count": 47,
   "metadata": {},
   "outputs": [
    {
     "data": {
      "image/png": "[encoded data removed]",
      "text/plain": [
       "<Figure size 720x360 with 1 Axes>"
      ]
     },
     "metadata": {
      "needs_background": "light"
     },
     "output_type": "display_data"
    }
   ],
   "source": [
    "cleansed_words_df = pd.DataFrame.from_dict(dictionary.token2id, orient='index')\n",
    "cleansed_words_df.rename(columns={0: 'id'}, inplace=True)\n",
    "\n",
    "cleansed_words_df['count'] = list(map(lambda id_: dictionary.dfs.get(id_), cleansed_words_df.id))\n",
    "del cleansed_words_df['id']\n",
    "cleansed_words_df.sort_values('count', ascending=False, inplace=True)\n",
    "cleansed_words_df.iloc[0:30].plot(kind = 'bar', rot=60, figsize=(10,5))\n",
    "plt.xticks(fontsize=14)\n",
    "plt.tight_layout()\n",
    "plt.show()"
   ]
  },
  {
   "cell_type": "code",
   "execution_count": 75,
   "metadata": {},
   "outputs": [],
   "source": [
    "my_stop_words = STOPWORDS.union(set(['do', 'so', 'be', 'go', 'i', 'm', 're', 'have','why', 'when', 'how', 're', 'then', 's', 'get', 'try',\n",
    "                                    'e', 'aa', 'fuck', 'r', 'fucking', ]))"
   ]
  },
  {
   "cell_type": "markdown",
   "metadata": {},
   "source": [
    "# Removal of companies"
   ]
  },
  {
   "cell_type": "code",
   "execution_count": 49,
   "metadata": {},
   "outputs": [],
   "source": [
    "dictionary_authors = gensim.corpora.Dictionary(data_new.loc[data.author_id.str.isnumeric() == False,'lemma_text_new'])"
   ]
  },
  {
   "cell_type": "code",
   "execution_count": 53,
   "metadata": {},
   "outputs": [
    {
     "data": {
      "image/png": "[encoded data removed]",
      "text/plain": [
       "<Figure size 720x360 with 1 Axes>"
      ]
     },
     "metadata": {
      "needs_background": "light"
     },
     "output_type": "display_data"
    }
   ],
   "source": [
    "cleansed_words_df = pd.DataFrame.from_dict(dictionary_authors.token2id, orient='index')\n",
    "cleansed_words_df.rename(columns={0: 'id'}, inplace=True)\n",
    "\n",
    "cleansed_words_df['count'] = list(map(lambda id_: dictionary_authors.dfs.get(id_), cleansed_words_df.id))\n",
    "del cleansed_words_df['id']\n",
    "cleansed_words_df.sort_values('count', ascending=False, inplace=True)\n",
    "cleansed_words_df.iloc[0:30].plot(kind = 'bar', rot=60, figsize=(10,5))\n",
    "plt.xticks(fontsize=14)\n",
    "plt.tight_layout()\n",
    "plt.show()"
   ]
  },
  {
   "cell_type": "markdown",
   "metadata": {},
   "source": [
    "Responses from companies are mostly generic - most common words are DM, be, help, send, sorry- they don't add any meaning to the topics - better determining of the user's problems if companies are left out"
   ]
  }
 ],
 "metadata": {
  "kernelspec": {
   "display_name": "Python 3",
   "language": "python",
   "name": "python3"
  },
  "language_info": {
   "codemirror_mode": {
    "name": "ipython",
    "version": 3
   },
   "file_extension": ".py",
   "mimetype": "text/x-python",
   "name": "python",
   "nbconvert_exporter": "python",
   "pygments_lexer": "ipython3",
   "version": "3.8.5"
  }
 },
 "nbformat": 4,
 "nbformat_minor": 4
}
