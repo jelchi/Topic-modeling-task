{
 "cells": [
  {
   "cell_type": "code",
   "execution_count": 34,
   "metadata": {},
   "outputs": [],
   "source": [
    "#import of needed packages\n",
    "import pandas as pd\n",
    "\n",
    "import re\n",
    "\n",
    "import numpy as np\n",
    "\n",
    "import gensim\n",
    "\n",
    "import spacy\n",
    "\n",
    "from gensim.utils import simple_preprocess\n",
    "from gensim.parsing.preprocessing import STOPWORDS\n",
    "\n",
    "np.random.seed(4)\n",
    "\n",
    "import string\n",
    "#from spellchecker import SpellChecker\n",
    "pd.set_option('display.max_rows',50)\n",
    "pd.set_option('display.max_columns',50)\n",
    "pd.set_option('display.width',5000)\n",
    "pd.set_option('max_colwidth', 500)\n",
    "\n",
    "import warnings\n",
    "warnings.filterwarnings(\"ignore\", category=DeprecationWarning) \n",
    "warnings.simplefilter(action='ignore', category=FutureWarning)\n",
    "\n",
    "from gensim.models import CoherenceModel\n",
    "from gensim import corpora, models\n",
    "\n",
    "from matplotlib import pyplot as plt\n",
    "import spacy\n",
    "from gensim.corpora.dictionary import Dictionary"
   ]
  },
  {
   "cell_type": "code",
   "execution_count": 78,
   "metadata": {},
   "outputs": [],
   "source": [
    "nlp = spacy.load(\"en_core_web_sm\") #loading package needed for lemmatizing words and part-of-speech tagging"
   ]
  },
  {
   "cell_type": "markdown",
   "metadata": {},
   "source": [
    "Importing data"
   ]
  },
  {
   "cell_type": "code",
   "execution_count": 79,
   "metadata": {},
   "outputs": [],
   "source": [
    "#data_tweets = pd.read_csv('twcs.csv', sep = ',') "
   ]
  },
  {
   "cell_type": "markdown",
   "metadata": {},
   "source": [
    "Preprocessing of the text data"
   ]
  },
  {
   "cell_type": "code",
   "execution_count": 80,
   "metadata": {},
   "outputs": [],
   "source": [
    "def preprocess(text):\n",
    "    if type(text) is not str:\n",
    "        return\n",
    "    result = []\n",
    "    text = text.lower() #lowercase\n",
    "    text = re.sub('http://\\S+|https://\\S+', '', text)  # remove urls\n",
    "    text = re.sub('@\\S+', '', text)  #remove mentions\n",
    "    text = re.sub('_{2}\\w+_{2}', '', text) #remove masked data\n",
    "    text = re.sub('\\d', '', text) #remove digits\n",
    "    text = re.sub('’|‘', '', text) #remove additional punctuation\n",
    "    \n",
    "    #remove emojis\n",
    "    regrex_pattern = re.compile(pattern = \"[\"\n",
    "        u\"\\U0001F600-\\U0001F64F\"  # emoticons\n",
    "        u\"\\U0001F300-\\U0001F5FF\"  # symbols & pictographs\n",
    "        u\"\\U0001F680-\\U0001F6FF\"  # transport & map symbols\n",
    "        u\"\\U0001F1E0-\\U0001F1FF\"  # flags (iOS)\n",
    "                           \"]+\", flags = re.UNICODE)\n",
    "    text = regrex_pattern.sub(r'',text)\n",
    "    \n",
    "    text = text.translate(str.maketrans('', '', string.punctuation)) #remove punctuation\n",
    "            \n",
    "    return \" \".join(text.split())"
   ]
  },
  {
   "cell_type": "code",
   "execution_count": 81,
   "metadata": {},
   "outputs": [],
   "source": [
    "data_tweets['clean_text'] = data_tweets[\"text\"].apply(lambda x: preprocess(x))"
   ]
  },
  {
   "cell_type": "code",
   "execution_count": 83,
   "metadata": {},
   "outputs": [],
   "source": [
    "def lemmatize(text):\n",
    "    lemmatized_text = []\n",
    "    text_nlp = nlp(text)\n",
    "    lemmatized_text = [str(token.lemma_) for token in text_nlp # only nouns, verbs, adjectives and adverbs \n",
    "                  if (token.pos_ in ['NOUN', 'ADV', 'VERB', 'ADJ']) and token.text not in nlp.Defaults.stop_words] \n",
    "   \n",
    "    return lemmatized_text"
   ]
  },
  {
   "cell_type": "code",
   "execution_count": null,
   "metadata": {},
   "outputs": [],
   "source": [
    "import time\n",
    "start_time = time.time()\n",
    "data_tweets['lemma_text'] = data_tweets[\"clean_text\"].apply(lambda x: lemmatize(x))\n",
    "print(\"--- %s seconds ---\" % (time.time() - start_time)) #cca. 3 sata"
   ]
  },
  {
   "cell_type": "code",
   "execution_count": null,
   "metadata": {},
   "outputs": [],
   "source": [
    "#data_tweets.to_csv('twcs_better.csv', sep = ',', index = False)"
   ]
  },
  {
   "cell_type": "markdown",
   "metadata": {},
   "source": [
    "## Extracting the most common companies to reduce noise in data"
   ]
  },
  {
   "cell_type": "code",
   "execution_count": null,
   "metadata": {},
   "outputs": [],
   "source": [
    "#data_tweets = pd.read_csv('twcs_better.csv', sep = ',')"
   ]
  },
  {
   "cell_type": "code",
   "execution_count": 47,
   "metadata": {},
   "outputs": [],
   "source": [
    "first_inbound = data_tweets[pd.isnull(data_tweets.in_response_to_tweet_id) & data_tweets.inbound] #first inbound messages"
   ]
  },
  {
   "cell_type": "code",
   "execution_count": 48,
   "metadata": {},
   "outputs": [],
   "source": [
    "inbounds_and_outbounds = pd.merge(first_inbound, data_tweets, left_on='tweet_id', \n",
    "                                  right_on='in_response_to_tweet_id') # all tweets in response merged\n",
    "inbounds_and_outbounds = inbounds_and_outbounds[inbounds_and_outbounds.inbound_y ^ True]"
   ]
  },
  {
   "cell_type": "code",
   "execution_count": 49,
   "metadata": {},
   "outputs": [],
   "source": [
    "perc_authors = inbounds_and_outbounds.author_id_y.value_counts().rename_axis('unique_values').to_frame('counts')\n",
    "\n",
    "perc_authors['Ratio'] = perc_authors.counts / inbounds_and_outbounds.shape[0] * 100\n",
    "\n",
    "perc_authors['Cum_sum'] = perc_authors.Ratio.cumsum()"
   ]
  },
  {
   "cell_type": "code",
   "execution_count": 50,
   "metadata": {},
   "outputs": [],
   "source": [
    "list_comp = perc_authors[perc_authors['Cum_sum'] <= 90].index.values.tolist() #taking companies where cumulative sum of ratio of tweets <= 90%"
   ]
  },
  {
   "cell_type": "code",
   "execution_count": 51,
   "metadata": {},
   "outputs": [
    {
     "name": "stdout",
     "output_type": "stream",
     "text": [
      "1800036\n"
     ]
    }
   ],
   "source": [
    "list_of_tweets = inbounds_and_outbounds[inbounds_and_outbounds.author_id_y.isin(list_comp)].tweet_id_x.unique().tolist()\n",
    "list_of_tweets_2 = data_tweets[data_tweets.author_id.isin(list_comp)].tweet_id.unique().tolist()\n",
    "list_of_tweets_final = list_of_tweets + list_of_tweets_2\n",
    "print(len(list_of_tweets_final))"
   ]
  },
  {
   "cell_type": "code",
   "execution_count": 52,
   "metadata": {},
   "outputs": [],
   "source": [
    "data_mini = data_tweets[data_tweets.tweet_id.isin(list_of_tweets_final)].copy()"
   ]
  },
  {
   "cell_type": "code",
   "execution_count": null,
   "metadata": {},
   "outputs": [],
   "source": [
    "#data_mini.to_csv('twcs_mini.csv', sep = ',', index = False)"
   ]
  },
  {
   "cell_type": "markdown",
   "metadata": {},
   "source": [
    "Working with smaller dataset - only top 48 companies"
   ]
  },
  {
   "cell_type": "code",
   "execution_count": 64,
   "metadata": {},
   "outputs": [],
   "source": [
    "data_mini = pd.read_csv('twcs_mini.csv', sep = ',')"
   ]
  },
  {
   "cell_type": "code",
   "execution_count": 65,
   "metadata": {},
   "outputs": [
    {
     "name": "stdout",
     "output_type": "stream",
     "text": [
      "(1800036, 9)\n"
     ]
    }
   ],
   "source": [
    "print(data_mini.shape)"
   ]
  },
  {
   "cell_type": "markdown",
   "metadata": {},
   "source": [
    "Import of extracted small dataset for testing relevance of predicted topics (this tweets will be deleted from training dataset)"
   ]
  },
  {
   "cell_type": "code",
   "execution_count": 66,
   "metadata": {},
   "outputs": [],
   "source": [
    "data_test= pd.read_csv('data_test.csv', sep = ',')"
   ]
  },
  {
   "cell_type": "code",
   "execution_count": 67,
   "metadata": {},
   "outputs": [
    {
     "data": {
      "text/plain": [
       "(11, 9)"
      ]
     },
     "execution_count": 67,
     "metadata": {},
     "output_type": "execute_result"
    }
   ],
   "source": [
    "data_mini[data_mini.tweet_id.isin(data_test.tweet_id)].shape"
   ]
  },
  {
   "cell_type": "code",
   "execution_count": 68,
   "metadata": {},
   "outputs": [],
   "source": [
    "data_mini = data_mini[~data_mini.tweet_id.isin(data_test.tweet_id)].copy()"
   ]
  },
  {
   "cell_type": "code",
   "execution_count": 69,
   "metadata": {},
   "outputs": [
    {
     "name": "stdout",
     "output_type": "stream",
     "text": [
      "(1800025, 9)\n"
     ]
    }
   ],
   "source": [
    "print(data_mini.shape)"
   ]
  },
  {
   "cell_type": "markdown",
   "metadata": {},
   "source": [
    "## Selecting only customers' tweets because company answers are mostly too generic to extract a topic"
   ]
  },
  {
   "cell_type": "code",
   "execution_count": 70,
   "metadata": {},
   "outputs": [],
   "source": [
    "data_mini = data_mini[data_mini.author_id.str.isnumeric() == True].copy()"
   ]
  },
  {
   "cell_type": "code",
   "execution_count": 71,
   "metadata": {},
   "outputs": [
    {
     "name": "stdout",
     "output_type": "stream",
     "text": [
      "(658775, 9)\n"
     ]
    }
   ],
   "source": [
    "#dataset is also faster to train when leaving only 'questions'\n",
    "print(data_mini.shape)"
   ]
  },
  {
   "cell_type": "code",
   "execution_count": 72,
   "metadata": {},
   "outputs": [
    {
     "data": {
      "text/html": [
       "<div>\n",
       "<style scoped>\n",
       "    .dataframe tbody tr th:only-of-type {\n",
       "        vertical-align: middle;\n",
       "    }\n",
       "\n",
       "    .dataframe tbody tr th {\n",
       "        vertical-align: top;\n",
       "    }\n",
       "\n",
       "    .dataframe thead th {\n",
       "        text-align: right;\n",
       "    }\n",
       "</style>\n",
       "<table border=\"1\" class=\"dataframe\">\n",
       "  <thead>\n",
       "    <tr style=\"text-align: right;\">\n",
       "      <th></th>\n",
       "      <th>tweet_id</th>\n",
       "      <th>author_id</th>\n",
       "      <th>inbound</th>\n",
       "      <th>created_at</th>\n",
       "      <th>text</th>\n",
       "      <th>response_tweet_id</th>\n",
       "      <th>in_response_to_tweet_id</th>\n",
       "      <th>clean_text</th>\n",
       "      <th>lemma_text</th>\n",
       "    </tr>\n",
       "  </thead>\n",
       "  <tbody>\n",
       "    <tr>\n",
       "      <th>3</th>\n",
       "      <td>8</td>\n",
       "      <td>115712</td>\n",
       "      <td>True</td>\n",
       "      <td>Tue Oct 31 21:45:10 +0000 2017</td>\n",
       "      <td>@sprintcare is the worst customer service</td>\n",
       "      <td>9,6,10</td>\n",
       "      <td>NaN</td>\n",
       "      <td>is the worst customer service</td>\n",
       "      <td>['bad', 'customer', 'service']</td>\n",
       "    </tr>\n",
       "    <tr>\n",
       "      <th>7</th>\n",
       "      <td>18</td>\n",
       "      <td>115713</td>\n",
       "      <td>True</td>\n",
       "      <td>Tue Oct 31 19:56:01 +0000 2017</td>\n",
       "      <td>@115714 y’all lie about your “great” connection. 5 bars LTE, still won’t load something. Smh.</td>\n",
       "      <td>17</td>\n",
       "      <td>NaN</td>\n",
       "      <td>yall lie about your “great” connection bars lte still wont load something smh</td>\n",
       "      <td>['lie', 'great', 'connection', 'bar', 'lte', 'still', 'load', 'smh']</td>\n",
       "    </tr>\n",
       "    <tr>\n",
       "      <th>9</th>\n",
       "      <td>20</td>\n",
       "      <td>115715</td>\n",
       "      <td>True</td>\n",
       "      <td>Tue Oct 31 22:03:34 +0000 2017</td>\n",
       "      <td>@115714 whenever I contact customer support, they tell me I have shortcode enabled on my account, but I have never in the 4 years I've tried https://t.co/0G98RtNxPK</td>\n",
       "      <td>19</td>\n",
       "      <td>NaN</td>\n",
       "      <td>whenever i contact customer support they tell me i have shortcode enabled on my account but i have never in the years ive tried</td>\n",
       "      <td>['whenever', 'contact', 'customer', 'support', 'tell', 'have', 'shortcode', 'enable', 'account', 'never', 'year', 'try']</td>\n",
       "    </tr>\n",
       "    <tr>\n",
       "      <th>14</th>\n",
       "      <td>29</td>\n",
       "      <td>115716</td>\n",
       "      <td>True</td>\n",
       "      <td>Tue Oct 31 22:01:35 +0000 2017</td>\n",
       "      <td>actually that's a broken link you sent me and incorrect information https://t.co/V4yfrHR8VI</td>\n",
       "      <td>28</td>\n",
       "      <td>NaN</td>\n",
       "      <td>actually thats a broken link you sent me and incorrect information</td>\n",
       "      <td>['actually', 's', 'broken', 'link', 'send', 'incorrect', 'information']</td>\n",
       "    </tr>\n",
       "    <tr>\n",
       "      <th>16</th>\n",
       "      <td>31</td>\n",
       "      <td>115717</td>\n",
       "      <td>True</td>\n",
       "      <td>Tue Oct 31 22:06:54 +0000 2017</td>\n",
       "      <td>Yo @Ask_Spectrum, your customer service reps are super nice— but imma start trippin if y’all don’t get my service going!</td>\n",
       "      <td>30</td>\n",
       "      <td>NaN</td>\n",
       "      <td>yo your customer service reps are super nice— but imma start trippin if yall dont get my service going</td>\n",
       "      <td>['customer', 'service', 'rep', 'super', 'nice', 'imma', 'start', 'trippin', 'get', 'service', 'go']</td>\n",
       "    </tr>\n",
       "  </tbody>\n",
       "</table>\n",
       "</div>"
      ],
      "text/plain": [
       "    tweet_id author_id  inbound                      created_at                                                                                                                                                                  text response_tweet_id  in_response_to_tweet_id                                                                                                                       clean_text                                                                                                                lemma_text\n",
       "3          8    115712     True  Tue Oct 31 21:45:10 +0000 2017                                                                                                                             @sprintcare is the worst customer service            9,6,10                      NaN                                                                                                    is the worst customer service                                                                                            ['bad', 'customer', 'service']\n",
       "7         18    115713     True  Tue Oct 31 19:56:01 +0000 2017                                                                         @115714 y’all lie about your “great” connection. 5 bars LTE, still won’t load something. Smh.                17                      NaN                                                    yall lie about your “great” connection bars lte still wont load something smh                                                      ['lie', 'great', 'connection', 'bar', 'lte', 'still', 'load', 'smh']\n",
       "9         20    115715     True  Tue Oct 31 22:03:34 +0000 2017  @115714 whenever I contact customer support, they tell me I have shortcode enabled on my account, but I have never in the 4 years I've tried https://t.co/0G98RtNxPK                19                      NaN  whenever i contact customer support they tell me i have shortcode enabled on my account but i have never in the years ive tried  ['whenever', 'contact', 'customer', 'support', 'tell', 'have', 'shortcode', 'enable', 'account', 'never', 'year', 'try']\n",
       "14        29    115716     True  Tue Oct 31 22:01:35 +0000 2017                                                                           actually that's a broken link you sent me and incorrect information https://t.co/V4yfrHR8VI                28                      NaN                                                               actually thats a broken link you sent me and incorrect information                                                   ['actually', 's', 'broken', 'link', 'send', 'incorrect', 'information']\n",
       "16        31    115717     True  Tue Oct 31 22:06:54 +0000 2017                                              Yo @Ask_Spectrum, your customer service reps are super nice— but imma start trippin if y’all don’t get my service going!                30                      NaN                           yo your customer service reps are super nice— but imma start trippin if yall dont get my service going                       ['customer', 'service', 'rep', 'super', 'nice', 'imma', 'start', 'trippin', 'get', 'service', 'go']"
      ]
     },
     "execution_count": 72,
     "metadata": {},
     "output_type": "execute_result"
    }
   ],
   "source": [
    "data_mini.head(5)"
   ]
  },
  {
   "cell_type": "code",
   "execution_count": 73,
   "metadata": {},
   "outputs": [],
   "source": [
    "data_mini.reset_index(inplace = True)"
   ]
  },
  {
   "cell_type": "markdown",
   "metadata": {},
   "source": [
    "Additional removal of some words that do not add meaning to topics and some symbols"
   ]
  },
  {
   "cell_type": "code",
   "execution_count": 74,
   "metadata": {},
   "outputs": [],
   "source": [
    "def lemma(text):\n",
    "    words = []\n",
    "    text = re.sub('\\]|\\[|\\,|\\'', '', text)\n",
    "    text = re.sub('\\\\\\\\ud200', '', text)\n",
    "    text = re.sub('。', '', text)\n",
    "    for i in text.split():\n",
    "        if i:\n",
    "            words.append(i)\n",
    "    return words"
   ]
  },
  {
   "cell_type": "code",
   "execution_count": 75,
   "metadata": {},
   "outputs": [],
   "source": [
    "data_mini['lemma_text_new'] = data_mini[\"lemma_text\"].apply(lambda x: lemma(x))"
   ]
  },
  {
   "cell_type": "code",
   "execution_count": 76,
   "metadata": {},
   "outputs": [],
   "source": [
    "my_stop_words = STOPWORDS.union(set(['do', 'so', 'be', 'go', 'i', 'm', 're', 'have','why', 'when', 'how', 're', 'then', 's', 'get', 'try',\n",
    "                                    'e', 'aa', 'fuck', 'r', 'fucking', ]))"
   ]
  },
  {
   "cell_type": "code",
   "execution_count": 77,
   "metadata": {},
   "outputs": [],
   "source": [
    "def remove_more_stop(text):\n",
    "    new_text = []\n",
    "    for word in text:\n",
    "        if (word not in my_stop_words):\n",
    "            new_text.append(word)\n",
    "    return new_text"
   ]
  },
  {
   "cell_type": "code",
   "execution_count": 78,
   "metadata": {},
   "outputs": [],
   "source": [
    "data = data_mini[['lemma_text_new']].copy()"
   ]
  },
  {
   "cell_type": "code",
   "execution_count": 79,
   "metadata": {},
   "outputs": [],
   "source": [
    "data['lemma_text_new'] = data.lemma_text_new.apply(lambda x: remove_more_stop(x))"
   ]
  },
  {
   "cell_type": "markdown",
   "metadata": {},
   "source": [
    "Creating dictionary"
   ]
  },
  {
   "cell_type": "code",
   "execution_count": 18,
   "metadata": {},
   "outputs": [],
   "source": [
    "dictionary = gensim.corpora.Dictionary(data.lemma_text_new)"
   ]
  },
  {
   "cell_type": "code",
   "execution_count": 19,
   "metadata": {},
   "outputs": [
    {
     "name": "stdout",
     "output_type": "stream",
     "text": [
      "154775\n"
     ]
    }
   ],
   "source": [
    "print(len(dictionary))"
   ]
  },
  {
   "cell_type": "code",
   "execution_count": 20,
   "metadata": {},
   "outputs": [],
   "source": [
    "#filtering rare and too common words in dictionary\n",
    "dictionary.filter_extremes(no_below=500, no_above=0.7) "
   ]
  },
  {
   "cell_type": "code",
   "execution_count": 21,
   "metadata": {},
   "outputs": [
    {
     "name": "stdout",
     "output_type": "stream",
     "text": [
      "1278\n"
     ]
    }
   ],
   "source": [
    "print(len(dictionary))"
   ]
  },
  {
   "cell_type": "code",
   "execution_count": 61,
   "metadata": {},
   "outputs": [],
   "source": [
    "#dictionary.save('dictionary')"
   ]
  },
  {
   "cell_type": "code",
   "execution_count": 92,
   "metadata": {},
   "outputs": [],
   "source": [
    "#dictionary = Dictionary.load('dictionary')"
   ]
  },
  {
   "cell_type": "markdown",
   "metadata": {},
   "source": [
    "Most common words in dictionary"
   ]
  },
  {
   "cell_type": "code",
   "execution_count": 22,
   "metadata": {},
   "outputs": [
    {
     "data": {
      "image/png": "[encoded data removed]",
      "text/plain": [
       "<Figure size 720x360 with 1 Axes>"
      ]
     },
     "metadata": {
      "needs_background": "light"
     },
     "output_type": "display_data"
    }
   ],
   "source": [
    "cleansed_words_df = pd.DataFrame.from_dict(dictionary.token2id, orient='index')\n",
    "cleansed_words_df.rename(columns={0: 'id'}, inplace=True)\n",
    "\n",
    "cleansed_words_df['count'] = list(map(lambda id_: dictionary.dfs.get(id_), cleansed_words_df.id))\n",
    "del cleansed_words_df['id']\n",
    "cleansed_words_df.sort_values('count', ascending=False, inplace=True)\n",
    "cleansed_words_df.iloc[0:30].plot(kind = 'bar', rot=60, figsize=(10,5))\n",
    "plt.xticks(fontsize=14)\n",
    "plt.tight_layout()\n",
    "plt.show()"
   ]
  },
  {
   "cell_type": "markdown",
   "metadata": {},
   "source": [
    "Creating corpus"
   ]
  },
  {
   "cell_type": "code",
   "execution_count": 23,
   "metadata": {},
   "outputs": [],
   "source": [
    "bow_corpus = [dictionary.doc2bow(doc) for doc in data.lemma_text_new]"
   ]
  },
  {
   "cell_type": "markdown",
   "metadata": {},
   "source": [
    "TF-IDF"
   ]
  },
  {
   "cell_type": "code",
   "execution_count": 24,
   "metadata": {},
   "outputs": [],
   "source": [
    "tfidf = models.TfidfModel(bow_corpus)\n",
    "#tfidf.save('tfidf')\n",
    "corpus_tfidf = tfidf[bow_corpus]"
   ]
  },
  {
   "cell_type": "code",
   "execution_count": 293,
   "metadata": {},
   "outputs": [],
   "source": [
    "#tfidf = models.TfidfModel.load('tfidf')"
   ]
  },
  {
   "cell_type": "markdown",
   "metadata": {},
   "source": [
    "Choosing number of topics and hyperparameters by coherence score"
   ]
  },
  {
   "cell_type": "code",
   "execution_count": 25,
   "metadata": {},
   "outputs": [],
   "source": [
    "alpha = ['symmetric', 'asymmetric']\n",
    "eta = ['symmetric', 'auto']\n",
    "min_topics = 5\n",
    "max_topics = 16\n",
    "topics_num = list(range(min_topics, max_topics))\n",
    "model_indexes = range(44)"
   ]
  },
  {
   "cell_type": "code",
   "execution_count": 26,
   "metadata": {},
   "outputs": [
    {
     "name": "stdout",
     "output_type": "stream",
     "text": [
      "Index: 0 num. topics: 5 alpha: symmetric eta symmetric coherence: 0.3848132780980559\n",
      "Index: 1 num. topics: 5 alpha: symmetric eta auto coherence: 0.3347742366425899\n",
      "Index: 2 num. topics: 5 alpha: asymmetric eta symmetric coherence: 0.36062740284322575\n",
      "Index: 3 num. topics: 5 alpha: asymmetric eta auto coherence: 0.33287836657966796\n",
      "Index: 4 num. topics: 6 alpha: symmetric eta symmetric coherence: 0.3988665039318799\n",
      "Index: 5 num. topics: 6 alpha: symmetric eta auto coherence: 0.3706457151364537\n",
      "Index: 6 num. topics: 6 alpha: asymmetric eta symmetric coherence: 0.27555181350020946\n",
      "Index: 7 num. topics: 6 alpha: asymmetric eta auto coherence: 0.3126870305290125\n",
      "Index: 8 num. topics: 7 alpha: symmetric eta symmetric coherence: 0.42303739393745415\n",
      "Index: 9 num. topics: 7 alpha: symmetric eta auto coherence: 0.4262531862812836\n",
      "Index: 10 num. topics: 7 alpha: asymmetric eta symmetric coherence: 0.2931590915039316\n",
      "Index: 11 num. topics: 7 alpha: asymmetric eta auto coherence: 0.2862752624317089\n",
      "Index: 12 num. topics: 8 alpha: symmetric eta symmetric coherence: 0.4405737618392389\n",
      "Index: 13 num. topics: 8 alpha: symmetric eta auto coherence: 0.4306137678353893\n",
      "Index: 14 num. topics: 8 alpha: asymmetric eta symmetric coherence: 0.2993077699798849\n",
      "Index: 15 num. topics: 8 alpha: asymmetric eta auto coherence: 0.30331804179416644\n",
      "Index: 16 num. topics: 9 alpha: symmetric eta symmetric coherence: 0.4612009955771463\n",
      "Index: 17 num. topics: 9 alpha: symmetric eta auto coherence: 0.43817130952731315\n",
      "Index: 18 num. topics: 9 alpha: asymmetric eta symmetric coherence: 0.2887413124974764\n",
      "Index: 19 num. topics: 9 alpha: asymmetric eta auto coherence: 0.2619139397128454\n",
      "Index: 20 num. topics: 10 alpha: symmetric eta symmetric coherence: 0.4528355779300541\n",
      "Index: 21 num. topics: 10 alpha: symmetric eta auto coherence: 0.4734205361824899\n",
      "Index: 22 num. topics: 10 alpha: asymmetric eta symmetric coherence: 0.3086189199091926\n",
      "Index: 23 num. topics: 10 alpha: asymmetric eta auto coherence: 0.31973523456166497\n",
      "Index: 24 num. topics: 11 alpha: symmetric eta symmetric coherence: 0.45277444593166005\n",
      "Index: 25 num. topics: 11 alpha: symmetric eta auto coherence: 0.45214298116810736\n",
      "Index: 26 num. topics: 11 alpha: asymmetric eta symmetric coherence: 0.3199558039501427\n",
      "Index: 27 num. topics: 11 alpha: asymmetric eta auto coherence: 0.3337120610846425\n",
      "Index: 28 num. topics: 12 alpha: symmetric eta symmetric coherence: 0.4289200840678668\n",
      "Index: 29 num. topics: 12 alpha: symmetric eta auto coherence: 0.48867448974051264\n",
      "Index: 30 num. topics: 12 alpha: asymmetric eta symmetric coherence: 0.3165665452977305\n",
      "Index: 31 num. topics: 12 alpha: asymmetric eta auto coherence: 0.3086489016795915\n",
      "Index: 32 num. topics: 13 alpha: symmetric eta symmetric coherence: 0.44596478298276987\n",
      "Index: 33 num. topics: 13 alpha: symmetric eta auto coherence: 0.4423110969096387\n",
      "Index: 34 num. topics: 13 alpha: asymmetric eta symmetric coherence: 0.25839279268708804\n",
      "Index: 35 num. topics: 13 alpha: asymmetric eta auto coherence: 0.3023884664995587\n",
      "Index: 36 num. topics: 14 alpha: symmetric eta symmetric coherence: 0.4449224585668811\n",
      "Index: 37 num. topics: 14 alpha: symmetric eta auto coherence: 0.46005181845940385\n",
      "Index: 38 num. topics: 14 alpha: asymmetric eta symmetric coherence: 0.3044148358090172\n",
      "Index: 39 num. topics: 14 alpha: asymmetric eta auto coherence: 0.3256551165870369\n",
      "Index: 40 num. topics: 15 alpha: symmetric eta symmetric coherence: 0.4372185206801984\n",
      "Index: 41 num. topics: 15 alpha: symmetric eta auto coherence: 0.4533540113327069\n",
      "Index: 42 num. topics: 15 alpha: asymmetric eta symmetric coherence: 0.30911446221410493\n",
      "Index: 43 num. topics: 15 alpha: asymmetric eta auto coherence: 0.3331631280251894\n"
     ]
    }
   ],
   "source": [
    "coherence_values = []\n",
    "i=0\n",
    "for num_topics in topics_num:\n",
    "    for a in alpha:\n",
    "        for e in eta:\n",
    "            model = gensim.models.LdaMulticore(corpus_tfidf, num_topics=num_topics, id2word=dictionary, passes=2, \n",
    "                                               workers=4, alpha = a , eta = e)\n",
    "            coherencemodel = CoherenceModel(model=model,texts = data.lemma_text_new, corpus=corpus_tfidf, coherence='c_v')\n",
    "            coherence_values.append(coherencemodel.get_coherence())\n",
    "            print('Index:', i, 'num. topics:', num_topics, 'alpha:', a, 'eta', e, 'coherence:', coherencemodel.get_coherence())\n",
    "            i=i+1"
   ]
  },
  {
   "cell_type": "code",
   "execution_count": 27,
   "metadata": {},
   "outputs": [],
   "source": [
    "max_by_topic = []\n",
    "start = 0\n",
    "stop =  start + 4\n",
    "while start <= 40:\n",
    "    max_by_topic.append(max(coherence_values[start:stop]))\n",
    "    start = start + 4\n",
    "    stop = stop + 4"
   ]
  },
  {
   "cell_type": "code",
   "execution_count": 28,
   "metadata": {},
   "outputs": [
    {
     "data": {
      "image/png": "[encoded data removed]",
      "text/plain": [
       "<Figure size 432x288 with 1 Axes>"
      ]
     },
     "metadata": {
      "needs_background": "light"
     },
     "output_type": "display_data"
    }
   ],
   "source": [
    "plt.plot(topics_num,max_by_topic)\n",
    "plt.xlabel(\"Number of topics\")\n",
    "plt.ylabel(\"Coherence score\")\n",
    "\n",
    "plt.show()"
   ]
  },
  {
   "cell_type": "markdown",
   "metadata": {},
   "source": [
    "## Final model with chosen hyperparameters"
   ]
  },
  {
   "cell_type": "markdown",
   "metadata": {},
   "source": [
    "Model is chosen based on coherence score and topic relevance"
   ]
  },
  {
   "cell_type": "code",
   "execution_count": 29,
   "metadata": {},
   "outputs": [],
   "source": [
    "lda_model = gensim.models.LdaMulticore(corpus_tfidf, num_topics=12, id2word=dictionary, passes=2, workers=1, random_state = 13,\n",
    "                                            alpha = 'symmetric', eta = 'auto')"
   ]
  },
  {
   "cell_type": "markdown",
   "metadata": {},
   "source": [
    "Topics:"
   ]
  },
  {
   "cell_type": "code",
   "execution_count": 30,
   "metadata": {},
   "outputs": [
    {
     "data": {
      "text/plain": [
       "[(0,\n",
       "  '0.039*\"dm\" + 0.023*\"question\" + 0.022*\"send\" + 0.021*\"answer\" + 0.021*\"reply\" + 0.019*\"check\" + 0.016*\"read\" + 0.016*\"respond\" + 0.015*\"response\" + 0.015*\"line\"'),\n",
       " (1,\n",
       "  '0.053*\"flight\" + 0.024*\"fly\" + 0.021*\"thank\" + 0.017*\"seat\" + 0.016*\"delay\" + 0.016*\"ticket\" + 0.015*\"book\" + 0.014*\"travel\" + 0.012*\"plane\" + 0.012*\"bag\"'),\n",
       " (2,\n",
       "  '0.024*\"play\" + 0.022*\"game\" + 0.018*\"app\" + 0.018*\"music\" + 0.016*\"spotify\" + 0.016*\"watch\" + 0.013*\"tv\" + 0.013*\"download\" + 0.012*\"load\" + 0.012*\"speed\"'),\n",
       " (3,\n",
       "  '0.030*\"account\" + 0.019*\"help\" + 0.018*\"log\" + 0.017*\"password\" + 0.016*\"sign\" + 0.015*\"reset\" + 0.015*\"number\" + 0.014*\"device\" + 0.014*\"connect\" + 0.014*\"network\"'),\n",
       " (4,\n",
       "  '0.036*\"iphone\" + 0.033*\"fix\" + 0.032*\"update\" + 0.029*\"phone\" + 0.022*\"shit\" + 0.020*\"io\" + 0.017*\"i️\" + 0.016*\"new\" + 0.015*\"battery\" + 0.013*\"slow\"'),\n",
       " (5,\n",
       "  '0.030*\"train\" + 0.017*\"complaint\" + 0.014*\"report\" + 0.014*\"chat\" + 0.013*\"follow\" + 0.013*\"connection\" + 0.013*\"hold\" + 0.012*\"late\" + 0.012*\"poor\" + 0.011*\"claim\"'),\n",
       " (6,\n",
       "  '0.037*\"️\" + 0.031*\"que\" + 0.025*\"love\" + 0.017*\"\\\\u200d\" + 0.016*\"chipotle\" + 0.016*\"eat\" + 0.016*\"bring\" + 0.015*\"good\" + 0.015*\"food\" + 0.013*\"lol\"'),\n",
       " (7,\n",
       "  '0.028*\"charge\" + 0.023*\"driver\" + 0.020*\"cancel\" + 0.020*\"money\" + 0.019*\"card\" + 0.018*\"account\" + 0.018*\"ride\" + 0.017*\"uber\" + 0.016*\"credit\" + 0.014*\"bank\"'),\n",
       " (8,\n",
       "  '0.041*\"package\" + 0.034*\"delivery\" + 0.033*\"order\" + 0.033*\"deliver\" + 0.025*\"day\" + 0.018*\"item\" + 0.018*\"amazon\" + 0.017*\"today\" + 0.016*\"prime\" + 0.013*\"arrive\"'),\n",
       " (9,\n",
       "  '0.020*\"code\" + 0.017*\"website\" + 0.016*\"email\" + 0.015*\"error\" + 0.015*\"add\" + 0.013*\"use\" + 0.013*\"card\" + 0.013*\"help\" + 0.013*\"address\" + 0.012*\"account\"'),\n",
       " (10,\n",
       "  '0.055*\"internet\" + 0.037*\"outage\" + 0.035*\"help\" + 0.023*\"work\" + 0.021*\"area\" + 0.019*\"need\" + 0.017*\"soon\" + 0.016*\"issue\" + 0.015*\"cable\" + 0.015*\"🤔\"'),\n",
       " (11,\n",
       "  '0.046*\"service\" + 0.040*\"customer\" + 0.026*\"bad\" + 0.015*\"experience\" + 0.014*\"suck\" + 0.012*\"terrible\" + 0.012*\"company\" + 0.012*\"season\" + 0.011*\"talk\" + 0.011*\"care\"')]"
      ]
     },
     "execution_count": 30,
     "metadata": {},
     "output_type": "execute_result"
    }
   ],
   "source": [
    "lda_model.show_topics(num_topics=12, num_words=10, log=False, formatted=True)"
   ]
  },
  {
   "cell_type": "markdown",
   "metadata": {},
   "source": [
    "Visualization of the topics:"
   ]
  },
  {
   "cell_type": "code",
   "execution_count": 31,
   "metadata": {},
   "outputs": [
    {
     "data": {
      "text/html": [
       "\n",
       "<link rel=\"stylesheet\" type=\"text/css\" href=\"https://cdn.jsdelivr.net/gh/bmabey/pyLDAvis@3.3.1/pyLDAvis/js/ldavis.v1.0.0.css\">\n",
       "\n",
       "\n",
       "<div id=\"ldavis_el1719614701746709123551094870\"></div>\n",
       "<script type=\"text/javascript\">\n",
       "\n",
       "var ldavis_el1719614701746709123551094870_data = {\"mdsDat\": {\"x\": [-0.17844197807652412, -0.09767436879317772, -0.008579861879330773, 0.07982404229097598, -0.11622752187410934, 0.1485777857559312, 0.1498607356778737, 0.21914430185284267, -0.050628640179410336, -0.2553773986414443, 0.021392275131186987, 0.08813062873518655], \"y\": [0.056174236635152835, 0.053487810386677916, 0.10216188620648212, -0.23636691890152953, -0.011487182293368212, -0.17421952179566497, 0.029455970678380065, 0.007103159150013883, 0.13300834629007732, -0.20199426575528487, 0.18979083033224345, 0.05288564906682064], \"topics\": [1, 2, 3, 4, 5, 6, 7, 8, 9, 10, 11, 12], \"cluster\": [1, 1, 1, 1, 1, 1, 1, 1, 1, 1, 1, 1], \"Freq\": [10.431449032656412, 10.403912369035098, 9.82033534188493, 9.711814143664517, 9.283496046524544, 8.781376630875206, 7.7063918265881615, 7.45216901889198, 6.908356921911753, 6.727267678497049, 6.422198515156401, 6.351232474313939]}, \"tinfo\": {\"Term\": [\"flight\", \"internet\", \"package\", \"deliver\", \"delivery\", \"dm\", \"\\ufe0f\", \"iphone\", \"outage\", \"account\", \"service\", \"fly\", \"customer\", \"que\", \"train\", \"charge\", \"fix\", \"play\", \"update\", \"order\", \"card\", \"shit\", \"io\", \"help\", \"question\", \"love\", \"seat\", \"money\", \"driver\", \"bad\", \"fly\", \"seat\", \"plane\", \"airline\", \"class\", \"gate\", \"airport\", \"mile\", \"amazing\", \"boarding\", \"board\", \"crew\", \"luggage\", \"attendant\", \"reservation\", \"disappoint\", \"pilot\", \"journey\", \"baggage\", \"delta\", \"special\", \"gold\", \"kindle\", \"birthday\", \"middle\", \"advance\", \"safe\", \"priority\", \"baby\", \"vous\", \"flight\", \"travel\", \"passenger\", \"bag\", \"ticket\", \"early\", \"sit\", \"delay\", \"book\", \"holiday\", \"tomorrow\", \"thank\", \"great\", \"hour\", \"check\", \"home\", \"change\", \"time\", \"today\", \"deliver\", \"stock\", \"shipping\", \"ship\", \"product\", \"parcel\", \"promise\", \"seller\", \"post\", \"result\", \"damage\", \"collect\", \"reschedule\", \"guarantee\", \"consider\", \"rd\", \"argo\", \"forward\", \"visit\", \"dog\", \"disgusting\", \"meet\", \"condition\", \"size\", \"courier\", \"player\", \"remote\", \"fit\", \"label\", \"cheat\", \"package\", \"delivery\", \"item\", \"prime\", \"amazon\", \"arrive\", \"sell\", \"order\", \"pm\", \"date\", \"suppose\", \"expect\", \"return\", \"day\", \"location\", \"today\", \"pick\", \"house\", \"store\", \"place\", \"receive\", \"come\", \"wait\", \"tell\", \"time\", \"buy\", \"pay\", \"bank\", \"por\", \"chase\", \"paypal\", \"trash\", \"head\", \"balance\", \"ring\", \"cancellation\", \"student\", \"laptop\", \"transaction\", \"fraud\", \"double\", \"reward\", \"step\", \"membership\", \"mistake\", \"cash\", \"contract\", \"machine\", \"regular\", \"\\u2764\", \"worth\", \"kick\", \"deposit\", \"bundle\", \"unlock\", \"immediately\", \"debit\", \"ride\", \"fee\", \"uber\", \"credit\", \"charge\", \"money\", \"door\", \"driver\", \"card\", \"car\", \"trip\", \"cancel\", \"drive\", \"transfer\", \"refund\", \"account\", \"\\u00a3\", \"cost\", \"pay\", \"steal\", \"twice\", \"month\", \"payment\", \"use\", \"want\", \"help\", \"price\", \"time\", \"i\\ufe0f\", \"battery\", \"lyft\", \"die\", \"glitch\", \"freeze\", \"bug\", \"type\", \"tired\", \"x\", \"ipad\", \"macbook\", \"software\", \"fare\", \"count\", \"route\", \"shut\", \"smh\", \"pull\", \"street\", \"demand\", \"mad\", \"letter\", \"limit\", \"actual\", \"iphonex\", \"lately\", \"mcdonalds\", \"charger\", \"forever\", \"io\", \"damn\", \"shit\", \"iphone\", \"slow\", \"update\", \"fix\", \"cool\", \"phone\", \"screen\", \"annoying\", \"pro\", \"new\", \"turn\", \"life\", \"gon\", \"apple\", \"app\", \"work\", \"happen\", \"time\", \"season\", \"lie\", \"rep\", \"treat\", \"ass\", \"comcast\", \"believe\", \"weekend\", \"helpful\", \"absolute\", \"halloween\", \"entire\", \"extremely\", \"crap\", \"short\", \"excuse\", \"totally\", \"host\", \"probably\", \"provider\", \"situation\", \"shitty\", \"lovely\", \"group\", \"fact\", \"platform\", \"supervisor\", \"omg\", \"excellent\", \"non\", \"horrible\", \"terrible\", \"awful\", \"talk\", \"hang\", \"suck\", \"experience\", \"customer\", \"bad\", \"service\", \"company\", \"job\", \"care\", \"employee\", \"spectrum\", \"absolutely\", \"continue\", \"deal\", \"pretty\", \"ridiculous\", \"people\", \"time\", \"hell\", \"good\", \"year\", \"nice\", \"phone\", \"switch\", \"thank\", \"great\", \"guy\", \"music\", \"speed\", \"song\", \"load\", \"crash\", \"episode\", \"playlist\", \"listen\", \"video\", \"ad\", \"\\ud83e\\udd2c\", \"server\", \"stream\", \"picture\", \"feature\", \"album\", \"bar\", \"web\", \"commercial\", \"port\", \"wanna\", \"match\", \"mbps\", \"party\", \"fun\", \"finish\", \"sierra\", \"impossible\", \"upload\", \"monthly\", \"play\", \"download\", \"game\", \"photo\", \"spotify\", \"hate\", \"watch\", \"tv\", \"app\", \"delete\", \"high\", \"apple\", \"work\", \"live\", \"fix\", \"page\", \"new\", \"promo\", \"target\", \"easy\", \"dollar\", \"sim\", \"activate\", \"fake\", \"packaging\", \"map\", \"pop\", \"win\", \"redeem\", \"pour\", \"paper\", \"plastic\", \"promotion\", \"expensive\", \"difference\", \"afternoon\", \"control\", \"simple\", \"collection\", \"mobilecarexi\", \"incorrect\", \"la\", \"automatically\", \"red\", \"yr\", \"acct\", \"billing\", \"gift\", \"code\", \"recently\", \"link\", \"frustrating\", \"light\", \"user\", \"website\", \"click\", \"mail\", \"booking\", \"family\", \"error\", \"add\", \"address\", \"notification\", \"premium\", \"list\", \"email\", \"purchase\", \"friend\", \"card\", \"access\", \"online\", \"use\", \"wifi\", \"account\", \"help\", \"work\", \"buy\", \"app\", \"free\", \"mobile\", \"receive\", \"password\", \"reset\", \"device\", \"asap\", \"ps\", \"login\", \"kill\", \"small\", \"throw\", \"scam\", \"huge\", \"assistance\", \"sprint\", \"form\", \"disappear\", \"busy\", \"branch\", \"modem\", \"playstation\", \"remember\", \"imessage\", \"spot\", \"router\", \"streaming\", \"properly\", \"mpesa\", \"matter\", \"customerservice\", \"ban\", \"road\", \"log\", \"trouble\", \"block\", \"text\", \"sign\", \"network\", \"forget\", \"connect\", \"account\", \"number\", \"contact\", \"message\", \"help\", \"email\", \"problem\", \"set\", \"phone\", \"change\", \"need\", \"work\", \"use\", \"complaint\", \"follow\", \"station\", \"manager\", \"city\", \"direct\", \"shopping\", \"carriage\", \"print\", \"solve\", \"cod\", \"disconnect\", \"piss\", \"present\", \"carry\", \"resolution\", \"recent\", \"serve\", \"fault\", \"honestly\", \"surprise\", \"level\", \"coupon\", \"handle\", \"bullshit\", \"restore\", \"major\", \"mind\", \"urgent\", \"future\", \"report\", \"train\", \"chat\", \"solution\", \"poor\", \"sale\", \"connection\", \"claim\", \"file\", \"stand\", \"hold\", \"late\", \"black\", \"run\", \"status\", \"miss\", \"minute\", \"min\", \"service\", \"que\", \"\\\\u200d\", \"chipotle\", \"eat\", \"lol\", \"mcdonald\", \"search\", \"chicken\", \"awesome\", \"normal\", \"pack\", \"bowl\", \"burrito\", \"word\", \"truck\", \"loyal\", \"glad\", \"\\u2642\", \"daughter\", \"girl\", \"hot\", \"meal\", \"lunch\", \"cold\", \"true\", \"large\", \"chip\", \"news\", \"roll\", \"space\", \"\\ufe0f\", \"bring\", \"channel\", \"food\", \"love\", \"little\", \"seriously\", \"feel\", \"good\", \"chance\", \"shop\", \"want\", \"thank\", \"dm\", \"reply\", \"read\", \"respond\", \"real\", \"kindly\", \"tweet\", \"evening\", \"assist\", \"quick\", \"couple\", \"exist\", \"regard\", \"coach\", \"waterloo\", \"pie\", \"nearly\", \"moment\", \"write\", \"ignore\", \"valid\", \"bonus\", \"southwest\", \"crazy\", \"launch\", \"hrs\", \"advice\", \"dead\", \"original\", \"difficult\", \"answer\", \"stupid\", \"question\", \"security\", \"response\", \"walk\", \"tmobile\", \"line\", \"send\", \"check\", \"person\", \"plan\", \"support\", \"help\", \"email\", \"need\", \"thank\", \"outage\", \"area\", \"soon\", \"\\ud83e\\udd14\", \"understand\", \"mobilecare\", \"tracking\", \"finally\", \"figure\", \"state\", \"confirmation\", \"act\", \"movie\", \"rate\", \"country\", \"destination\", \"raise\", \"frustrated\", \"shipment\", \"eta\", \"hulu\", \"unavailable\", \"echo\", \"representative\", \"final\", \"international\", \"adobe\", \"com\", \"trust\", \"pre\", \"track\", \"internet\", \"cable\", \"past\", \"wonder\", \"site\", \"information\", \"process\", \"payment\", \"help\", \"resolve\", \"work\", \"need\", \"issue\", \"appreciate\", \"save\", \"service\", \"drop\", \"ready\"], \"Freq\": [9426.0, 6881.0, 6335.0, 4913.0, 5445.0, 3580.0, 3897.0, 6326.0, 3330.0, 8125.0, 11424.0, 3591.0, 8557.0, 2941.0, 4002.0, 5270.0, 7536.0, 3042.0, 6605.0, 7547.0, 4334.0, 3600.0, 3051.0, 12200.0, 2609.0, 4421.0, 2529.0, 3538.0, 5471.0, 5242.0, 3590.4241112338077, 2528.5197156867193, 1774.5494646296866, 1461.1917939611687, 1274.6357775476458, 1234.8443207556043, 1221.8064878122275, 1152.0390441000225, 1149.2115606000514, 1037.670973846287, 1012.7551936450792, 958.0509994770646, 879.5224961714711, 825.2679820309311, 817.351894587028, 757.8535200037736, 694.2978489279775, 679.3136028014582, 676.5718610437286, 650.5887439822015, 643.2555903720797, 641.9497993320535, 625.5982233849899, 620.5490180122724, 615.9805714701517, 598.0257555841545, 594.7364218174329, 581.2383200508275, 556.6657818522425, 544.8952008578522, 7820.203010497387, 2094.692765657748, 1112.3701835601196, 1701.1603089775474, 2312.4194464344573, 1472.4179802128174, 1275.266979788046, 2410.871319018495, 2287.5261502346234, 1112.6967860265574, 1444.5016515836332, 3116.084016099588, 1419.7174062283825, 1620.0092910040776, 1402.4802219091669, 1211.8150651589563, 1152.826809249071, 1241.877343888673, 1035.079262947877, 4912.092004300005, 1565.4795384144793, 1534.4643976847817, 1524.5893230275508, 1422.402324782156, 1146.5595327668786, 743.8249802132015, 667.5437316390901, 665.4653713082797, 637.1394739999939, 615.5533151452681, 611.6647301913541, 556.9930937742795, 556.0024660592724, 532.9619624420936, 531.7796279826123, 508.2258605024333, 506.2238605579481, 479.8355694781535, 456.95903324642927, 428.7072332865264, 420.65198401942706, 383.1031784427318, 372.3494278717295, 354.1874168659449, 351.71350493358653, 311.8853743991155, 309.03912414834446, 296.36923192084896, 289.0312285276384, 6061.904551243553, 5034.132017220874, 2654.188277916821, 2375.7589021104227, 2579.920584496082, 1921.943674315721, 1495.802657478835, 4916.303175026055, 1525.0630523034686, 1297.4181680752852, 1415.4568556065703, 946.7562557273327, 1399.7176324487207, 3621.104841441427, 745.014378094139, 2480.9926351952026, 1093.9670110265952, 946.186655934951, 1683.819827184254, 1007.6744254803646, 1338.6973516806568, 1431.9668832029429, 1300.9959624851258, 1272.9949139869184, 1411.1852000482447, 1102.65083622639, 1081.494037388532, 1980.1200436737024, 1253.2886441414992, 915.297123675324, 908.6097083319459, 881.7818527725225, 742.856029220978, 741.8916126846512, 736.1639532969826, 707.3231152926509, 696.8065151299596, 701.8117845219635, 686.252500861758, 685.3380561064934, 665.9545718590236, 663.3939064613089, 633.6286552376147, 618.216050406278, 611.6429487485937, 603.1449625657232, 594.618171405427, 578.1056695484332, 577.7987832608484, 573.2957561606331, 560.4876391308699, 559.6502234163615, 557.2732625713079, 552.2995168287563, 538.0271036263293, 524.8278862064402, 523.5080033026231, 2465.116763112468, 1791.1797170710643, 2393.5121203522376, 2170.052685566084, 3909.293468172873, 2734.0791294517016, 1255.6052116293886, 3264.423427756308, 2707.262666422676, 1439.0157593297297, 1731.7882552787553, 2849.5455320848973, 1260.2299316679416, 828.207572353904, 1934.9403751706536, 2517.331836978312, 1035.2822828683181, 817.3293240813758, 1754.3564696146389, 863.2882805017908, 890.5496995191857, 1302.5113663299612, 1039.6054892330537, 1133.266653415572, 1098.112282201819, 1057.390976901404, 883.4879489298461, 988.0805049499858, 2314.4483219174817, 2065.6244229483477, 1688.491726974101, 1588.4036751482465, 1541.9935872581002, 1428.2392347164878, 1315.5252535305262, 1297.211081620553, 1123.4398743987538, 1026.6000063630224, 1004.3413597919305, 939.4936791221519, 898.0286199350159, 882.9493167005968, 866.1193319602498, 828.6682676958762, 807.5987632797543, 1140.8945812692875, 773.9273991337079, 744.4277628060877, 743.5327054411657, 686.3698943568648, 663.9122892469246, 658.8363499223104, 653.4176104125185, 638.4952718940763, 632.6994201731017, 629.7438488286269, 620.8085107431932, 612.3811314755721, 2805.951706601948, 1262.253144529277, 3031.865926715535, 4953.958023688178, 1810.001749662313, 4382.349885517024, 4482.0857269565395, 971.1113788908516, 3944.4352278946644, 1545.9226983254853, 1019.4065157171199, 874.1886114639335, 2185.056135494265, 1371.6016024779758, 1151.8237297314813, 1116.2154005054888, 1344.1006416651312, 1571.8607975657935, 1491.0059166150688, 1094.5921665652234, 1050.9569997632357, 1522.0411153813723, 1105.1929814167104, 944.4419265369438, 918.6288662548486, 880.2396194128656, 817.6895503243338, 776.7037545929637, 776.4651680183704, 767.0576730697081, 747.7480703787343, 726.0317355602069, 708.8474442077242, 695.7313629703199, 673.6823286888367, 645.8466367995067, 601.8537568289298, 593.542389428534, 573.9176493025369, 564.2533326422644, 562.2482018712268, 547.4956700658947, 543.7675636137017, 529.9297870542265, 457.0345820623019, 454.65131696510394, 448.68864133165596, 439.88403795164743, 419.40925283950935, 418.59751387945084, 413.069024201383, 1105.534308914295, 1574.524532152296, 775.8445002507119, 1469.065227527523, 991.1930239606614, 1877.5214045768519, 2006.0488918288, 5316.5440267387885, 3435.4476786223386, 6090.315473392662, 1559.6907989146773, 1092.7715487545263, 1437.4177188925798, 924.8662621823814, 700.4603826311878, 872.4133188954659, 780.6669596908577, 1203.7627086027899, 843.8766144904799, 852.800755924725, 1059.7772100332022, 1252.4548078593111, 816.0202397947347, 1003.904321871332, 931.9999946435495, 852.0485259269111, 1016.7758809358522, 843.9300960668315, 886.3673597513574, 853.4022706793422, 858.0811131175464, 2231.8931848269053, 1521.2083763621354, 1487.4749561183144, 1533.70360344282, 1292.1469251198932, 1261.185938734298, 1153.9273966089338, 1095.445353358691, 1066.4508513335984, 980.0066900888135, 976.9098852893899, 945.206851176072, 894.2315294397398, 849.3736445401893, 826.2570055964147, 814.376254231604, 801.3713758059431, 784.9606603797422, 773.1435213747417, 759.355498974347, 756.5990405586214, 740.9731476862576, 711.9791665995074, 670.2509056149514, 652.3195132852617, 629.0155680663771, 611.2806273738083, 598.0553341472763, 596.0171339416372, 567.776256051876, 2975.2458052151087, 1571.8088540200954, 2728.3976667382867, 976.4234446416691, 2007.7524014028497, 1420.9241567647546, 1985.1168200772577, 1597.7696426672321, 2292.285682624825, 1018.0710759472299, 951.600558980437, 1238.224713062671, 1361.184336827818, 1007.2669304900353, 1149.192067076564, 882.8503000632478, 904.2296096351354, 840.806633512025, 798.5771083826188, 778.3356362443603, 770.5441402787332, 752.2580218907981, 743.2051007762701, 714.6996760497483, 670.3988291591081, 624.2624570497863, 622.1312464208943, 614.2875826290713, 613.9255572178758, 550.7058729099967, 546.7279110745073, 543.1604851409797, 530.7892940690591, 520.2969066850693, 519.0436597445597, 518.454371573481, 507.0874238549114, 487.587273289683, 476.44753753467126, 471.06739393257084, 465.922488113443, 458.752332800228, 457.756521636895, 442.6824072935955, 425.32116300055867, 423.93081677776803, 423.8661530555214, 1314.9019964022718, 2135.0691177701274, 747.5326429232294, 1200.7371534511794, 841.3828670274734, 702.5817554563207, 765.9750108081249, 1829.761867600782, 794.5259998385394, 874.8341267738422, 995.6458720901037, 1125.8329935945942, 1655.4010424081519, 1647.0255410892885, 1379.986109037991, 944.1141174810584, 1032.2193279777837, 881.4056473921032, 1703.9260609235423, 1185.0446446423414, 1015.5886110386273, 1392.3818347350843, 968.1024789705173, 1232.9360297945705, 1430.686429392729, 957.4090397305556, 1354.1020286842397, 1380.470198019146, 1170.5481861116018, 960.0990099389551, 991.5447799618211, 898.9522220783975, 815.1317832226367, 827.4820462084886, 1748.7214545532972, 1630.1132154661354, 1506.2985828261149, 1284.8404931687794, 995.82562557828, 957.1865540353754, 892.602556480155, 830.1826172912713, 829.6552582341398, 786.512611077035, 764.2247649047439, 753.4122832528378, 749.3848338812585, 702.7562431504336, 692.0151337703246, 664.7544626290664, 629.6854291742083, 615.5241978612656, 606.9274985964823, 602.1306237153175, 573.5973353560856, 565.0297646234259, 560.788149315828, 553.3965264061685, 544.2861236187061, 529.4798893457044, 513.7823612862222, 511.4205432734613, 510.2177264672037, 504.8209413620497, 1901.4093885362927, 1094.9675564589384, 1007.850748161949, 1288.4792510147365, 1691.310247512103, 1454.3202154306796, 868.1430382442607, 1472.2045447070434, 3207.9732827464486, 1628.0727445986572, 1329.6633605110783, 1231.2543093931251, 1972.4382089055866, 1355.208837580343, 1288.4183414366028, 850.7867557138139, 1372.2245176795166, 1145.716532788624, 1141.1564684527675, 1034.517845640169, 890.3952719615946, 1658.9400570610442, 1290.6373998495992, 1012.2820489149884, 908.8454881502198, 901.224837121385, 895.5035885311818, 878.7878270622422, 854.5238169876895, 848.4595903775455, 767.4398216367558, 720.928049597972, 707.5277726792042, 702.9530323983572, 702.3298251252677, 700.1724150577214, 675.1227703870403, 669.968491967613, 662.2052218258659, 655.659724013816, 634.3797411066485, 617.8456687374917, 608.6516538550991, 583.8800982401507, 565.5238071476836, 544.235263450852, 544.0967881244261, 514.1931757142844, 511.9387281851749, 510.8479105447496, 509.9268970780311, 1395.504249993861, 2924.236790927503, 1392.5434917813604, 764.5492801139455, 1169.6289075772654, 1035.0318010135568, 1272.6801417349257, 1053.465822254728, 880.3746696059092, 777.3488446005492, 1229.6651790571748, 1180.693363929001, 938.7930429115621, 1030.3913976545427, 827.740384729482, 969.3963177322709, 897.4732076595039, 839.6751273155655, 930.7830580974784, 2940.741251670529, 1626.0319537130154, 1570.066607976347, 1563.841634126165, 1210.1165764282132, 1138.9377713353576, 1090.4347318394252, 1074.1245944197642, 1005.7649951298984, 987.3107217292729, 974.227652187154, 970.0640712617159, 946.901868726563, 820.4354482674959, 798.7774311305782, 770.0782725696349, 757.6710710140705, 754.8014921607776, 740.3234527335372, 727.441298940472, 711.4239992181741, 695.7924346759731, 676.3208118976072, 641.03697333854, 630.1977660010937, 611.7056684702668, 587.3741105569856, 582.408773361708, 548.853892200866, 538.0627964475564, 3523.6906484735223, 1485.4793482681973, 939.6858405856385, 1434.0142315185026, 2364.645427627139, 1111.2740982239632, 1151.8422293927738, 1032.752534199895, 1468.5748443289342, 849.5804260606146, 831.7391430186123, 1071.134936147262, 868.3888184574757, 3579.47480149013, 1887.992657237394, 1473.909616124618, 1419.6144818034768, 1343.2786251787275, 1266.5932786614967, 1207.8937927931956, 1072.0408573031264, 948.5248811523564, 910.2110357300758, 856.5928687491192, 822.4258292700912, 1200.1576037390787, 788.4982174596528, 747.7916192899609, 707.5465204913728, 688.0873076491508, 682.4554659842236, 658.4972480822946, 645.6816873955636, 610.8858116334912, 583.1271028089482, 573.0395613362531, 564.1511054612364, 557.24973837534, 553.6435072778952, 549.3634837121087, 545.3303805124615, 535.7465007089459, 530.0194128887275, 1902.196949199894, 879.681468087428, 2060.380917274899, 849.8127817676268, 1396.2072946586254, 772.2638701090898, 1039.4409345658216, 1381.478937183901, 1999.4570738617413, 1748.6559137081474, 927.9701681977881, 1012.8569283232024, 1024.2923933855775, 1094.1053699797449, 945.0869605942172, 897.0503029765696, 848.835344556217, 3329.367431100437, 1871.8624088904326, 1557.364048198943, 1373.4151057411862, 1126.8222625548422, 1105.1208772979105, 1031.8095638989091, 1014.4839562425709, 921.6364561774178, 885.7534387894298, 789.1595423227127, 772.4742004677547, 760.8922300167108, 747.0620030861763, 709.2718359108417, 685.7358090637643, 665.1771395982854, 638.7983058002123, 624.0176437651444, 599.1887773418787, 575.8822900128456, 535.5902132593828, 535.2541720937179, 534.4959758122482, 532.3382289876932, 508.5382923974552, 499.24757260518885, 495.08262137936686, 484.3045206758124, 480.1488632258441, 1121.7707186036616, 4922.374867980221, 1385.3659804842246, 1105.2202620901478, 1288.1699143243563, 1243.1264993253296, 878.5783089195352, 848.3990743466941, 1237.8442855320147, 3148.518255936874, 943.636163266482, 2041.5171891743637, 1715.4160098319421, 1416.067843425343, 821.2583183840387, 802.3586297722997, 1086.9198964294067, 814.5127116684635, 773.7284415694517], \"Total\": [9426.0, 6881.0, 6335.0, 4913.0, 5445.0, 3580.0, 3897.0, 6326.0, 3330.0, 8125.0, 11424.0, 3591.0, 8557.0, 2941.0, 4002.0, 5270.0, 7536.0, 3042.0, 6605.0, 7547.0, 4334.0, 3600.0, 3051.0, 12200.0, 2609.0, 4421.0, 2529.0, 3538.0, 5471.0, 5242.0, 3591.335839309772, 2529.4291504308007, 1775.4588983547294, 1462.101232521604, 1275.5452202401593, 1235.7537566979627, 1222.7159279455364, 1152.9484874583616, 1150.1210072054291, 1038.5806093914578, 1013.6646304440765, 958.9604320450269, 880.4319312544502, 826.1774138930936, 818.2615081837432, 758.7629702435362, 695.2072823264344, 680.2230474887191, 677.4812955754928, 651.4981794319889, 644.1650366042235, 642.8592406560925, 626.5076656575517, 621.4584626595032, 616.8900182620424, 598.9351963907312, 595.6458667807182, 582.1477631576007, 557.5752193668634, 545.8046341104257, 9426.256592673235, 2332.4760004269124, 1190.305294983039, 2059.7243136859265, 3073.8201091648975, 1866.7195522128586, 1569.2930182775121, 3905.351760165906, 3679.0580951659813, 1394.7931194927214, 2118.666691640728, 10062.841546724841, 3371.1909674183808, 5827.786084446087, 5100.532376418197, 3860.1865058782273, 4882.6046671505155, 9664.264104935924, 6767.704625431053, 4913.014864618286, 1566.4023939429183, 1535.3872527535452, 1525.5121787853418, 1423.3251921518254, 1147.4823860496422, 744.7478455706379, 668.4665888448518, 666.3882388865084, 638.0623440477897, 616.4761764026598, 612.5875894896067, 557.9159573230925, 556.925321477505, 533.8848395398741, 532.7024970708575, 509.14871700713655, 507.1467351298534, 480.75844185322313, 457.8818948175962, 429.63009303188124, 421.5748536979528, 384.0260409719868, 373.27228594823174, 355.1102696915372, 352.6363792543573, 312.8082502295005, 309.96198765553106, 297.2920890468937, 289.95408948726697, 6335.316172088461, 5445.1313220635275, 2938.7502686241005, 2678.007063175385, 3204.61218112561, 2313.0427130103126, 1797.5509947930548, 7547.528716099091, 2014.5516371629003, 1681.3526083336396, 2037.8740674428154, 1234.1462368669534, 2210.8041295341527, 9022.216340044444, 914.56204336738, 6767.704625431053, 1826.0423396349802, 1455.202072448183, 4178.858704966258, 1737.9572611598448, 4167.757405363545, 5193.327758062546, 5191.403842079109, 5526.069550774324, 9664.264104935924, 4837.294735489195, 6571.638952303204, 1981.0331375639093, 1254.201730437387, 916.2102167095617, 909.5228007872918, 882.6949495278719, 743.7691293094146, 742.804702072946, 737.0770512668026, 708.2362074487144, 697.719607847743, 702.7357829341074, 687.1655878590431, 686.251149207775, 666.8676677378423, 664.3070031415836, 634.5417665897746, 619.1291468310861, 612.5560455424663, 604.0580578194877, 595.531263361601, 579.0187735134963, 578.7118890296846, 574.2088600786868, 561.4007374069503, 560.5633287935411, 558.1863533701498, 553.2126118138617, 538.9402044276444, 525.7409875157167, 524.4210889051432, 2579.4284121251108, 1939.2610232745656, 2819.619127331625, 2586.255219944757, 5270.457847745307, 3538.815689217955, 1461.411661228893, 5471.269551383585, 4334.772473317577, 1926.3810509768764, 2574.6960166643617, 5305.599481427373, 1727.7745211406589, 973.6201395944438, 3708.7746739795302, 8125.762326209682, 1534.50278172396, 1040.1245497487628, 6571.638952303204, 1204.1424143303802, 1319.8377112467037, 4382.946815376003, 2278.2766318145596, 7016.23868477394, 6447.583254450104, 12200.704797743143, 2175.8136103566976, 9664.264104935924, 2315.3358639976973, 2066.5119603187363, 1689.379272380099, 1589.2912127355119, 1542.88113154434, 1429.1267804985876, 1316.412798732686, 1298.098629241746, 1124.3426720645434, 1027.4875467740173, 1005.2289547809085, 940.3812196752563, 898.9165971311429, 883.836873608582, 867.0068836725139, 829.5558220010005, 808.4869456830818, 1142.174701784384, 774.8149479137314, 745.3153205709983, 744.4202521082244, 687.2574392346229, 664.7998384006858, 659.7239040731461, 654.3051633077497, 639.3828109757654, 633.588031503939, 630.6313933794556, 621.6960501215304, 613.2686767455938, 3051.7063766424562, 1350.6604782485535, 3600.827776260721, 6326.233365413269, 2129.0403687224016, 6605.544607695897, 7536.254079882853, 1151.4440320439112, 9645.763479152467, 2383.986715301328, 1265.9655070238175, 995.6671838306935, 6735.110017928365, 2628.814596952583, 1842.738523180519, 1720.3664592746416, 3073.2460778083623, 6876.218791499437, 9493.441969800775, 4229.615439505877, 9664.264104935924, 1522.9506377970877, 1106.1025073440953, 945.3514483996239, 919.5383875496177, 881.1491401615093, 818.5990714656066, 777.6132831628256, 777.3746955654142, 767.9672125082283, 748.6575910716628, 726.9412613102514, 709.7569735432736, 696.6408909643658, 674.59185467479, 646.7561676763797, 602.7632828077242, 594.4555497237268, 574.8271858504203, 565.1628569555072, 563.1577213242072, 548.4051947622476, 544.6770824434972, 530.8393075118045, 457.94410984900935, 455.5608441802433, 449.5981665562157, 440.7935577736438, 420.3187721880194, 419.50703022586697, 413.9785464324056, 1152.0109099799554, 1705.2512420088094, 817.9218124405596, 1651.2100079795068, 1095.4636929969759, 2395.5792164053146, 2627.204246454566, 8557.324280317944, 5242.932073186936, 11424.840986669888, 2075.630999583678, 1340.4689721703194, 1981.5220518748274, 1095.1276428978672, 756.9568623084984, 1113.7214836956678, 927.9085238903672, 2512.1728116347317, 1155.7988681517702, 1345.8820641319978, 3309.983218004165, 9664.264104935924, 1231.6948365621881, 5530.60531918888, 3718.5706011228735, 1809.7546232103812, 9645.763479152467, 2297.691532601727, 10062.841546724841, 3371.1909674183808, 5675.394941981253, 2232.79708509915, 1522.112230150017, 1488.3788039541223, 1534.7048105405129, 1293.0507836920524, 1262.0898631615896, 1154.8312436313493, 1096.349208049724, 1067.3547045096225, 980.9105412336032, 977.8137443304907, 946.1107029768008, 895.1353802073207, 850.2775055335779, 827.16086347478, 815.2801007198277, 802.2752314384114, 785.8645232059357, 774.047371020149, 760.2593560166712, 757.5029071712859, 741.8770059211438, 712.8830138450911, 671.1547598684834, 653.2233692942843, 629.919427637155, 612.1844755120391, 598.9591948090061, 596.9209819658197, 568.6801210098116, 3042.8436125518647, 1809.6147903674184, 3480.7759318791213, 1064.8770608852333, 2694.530785993849, 1799.6612514102892, 2981.2453378082614, 2372.7933623712756, 6876.218791499437, 1410.2652579536743, 1264.9472915103531, 3073.2460778083623, 9493.441969800775, 2441.168537985543, 7536.254079882853, 1634.500881918785, 6735.110017928365, 841.7109196085995, 799.4814005273756, 779.2399333232272, 771.4484388089196, 753.1623099451282, 744.109390917387, 715.603967247797, 671.3031190312267, 625.1667502755948, 623.0355484349399, 615.1918735445327, 614.8298426115674, 551.6101568265661, 547.6322043610597, 544.0647739088591, 531.6935828502948, 521.2012073881513, 519.9479564529788, 519.3586715573502, 507.99172242068704, 488.4915713047569, 477.3518282500161, 471.9716826721089, 466.82678056637553, 459.6566175207171, 458.6608205803433, 443.5866975147993, 426.2254596544487, 424.83510815222473, 424.77044698237194, 1530.8450652085728, 2684.6250273744467, 819.2603770430584, 1439.623615325167, 967.1823583650572, 798.0383514254065, 915.0602357408891, 3059.029696157751, 966.5558989451763, 1108.8616884123933, 1343.1188440079613, 1622.0217411826238, 2905.13674218601, 2923.568891574678, 2256.8026179579856, 1349.4074853452555, 1673.655201886813, 1329.2994853144537, 5402.110377106503, 2643.626367535056, 1932.3430899196162, 4334.772473317577, 1906.9264474448682, 3833.149456058075, 7016.23868477394, 1952.7423130323762, 8125.762326209682, 12200.704797743143, 9493.441969800775, 4837.294735489195, 6876.218791499437, 2956.0563011397803, 1355.3346135460915, 4167.757405363545, 1749.6344523402795, 1631.0128040852617, 1507.1981814921012, 1285.740087216713, 996.7252155889885, 958.0861388816948, 893.5021494233422, 831.0822192054189, 830.5548609174328, 787.4122030254503, 765.1243628617988, 754.3118738328234, 750.2844270599414, 703.6558396373013, 692.9147274046164, 665.654062899884, 630.5850226561952, 616.4237863246236, 607.827084684247, 603.03021540914, 574.496924226476, 565.9293581217831, 561.6877386735185, 554.2961161190104, 545.1857147398081, 530.379473836643, 514.6819567960443, 512.3201395638698, 511.1173111022846, 505.7205339682232, 1994.1353875538352, 1212.9125041159773, 1204.3987414947865, 1650.4991603524466, 2353.2812307972167, 1972.141477592921, 1009.7756560439814, 2172.714624795236, 8125.762326209682, 4225.25284759011, 3319.114021974423, 3159.2218996909937, 12200.704797743143, 5402.110377106503, 4818.68655746316, 1513.425074025922, 9645.763479152467, 4882.6046671505155, 8982.872318249458, 9493.441969800775, 7016.23868477394, 1659.8352675767135, 1291.5326148919744, 1013.1772533620256, 909.7406953443981, 902.1200497416954, 896.3987967076544, 879.6830361001656, 855.4190169927203, 849.3548015497813, 768.3350300355423, 721.8232528233633, 708.4229831842157, 703.848241391588, 703.2250376160122, 701.0676237827888, 676.0179796780465, 670.8637055536648, 663.1004289390025, 656.5549329615731, 635.2749525192494, 618.740877557543, 609.5468613659729, 584.7753020473688, 566.4190180473203, 545.1304724963841, 544.9920013461359, 515.0883853187831, 512.833936234969, 511.74311669606215, 510.82210858128553, 1549.4388313699446, 4002.087083125819, 1765.7066961544913, 853.9120047249212, 1473.188912935546, 1290.8733669528262, 1863.228026473432, 1430.1794362053668, 1097.7179126441015, 952.3326473414751, 2680.0903232970413, 3266.66804649803, 1844.0697048281277, 2497.830156359397, 1428.975653003746, 2882.016745170691, 3897.620176475453, 2638.3471376279185, 11424.840986669888, 2941.638442084267, 1626.9291460409759, 1570.9637988475395, 1564.7388307633462, 1211.0137770208707, 1139.8349615588224, 1091.331940222269, 1075.0217852192557, 1006.6621967770669, 988.2079298397205, 975.1248523089577, 970.961262810955, 947.7990604205745, 821.3326511412001, 799.6746367272326, 770.9754817498851, 758.5682729348723, 755.6986826775009, 741.2206551264953, 728.3384954273852, 712.3211999164026, 696.68962991571, 677.2180068855225, 641.9341745390414, 631.0949664493572, 612.6028719469289, 588.27130409288, 583.305973834456, 549.7510894323186, 538.9599984983925, 3897.7215793336254, 1670.3684893592801, 1013.2656160881896, 2022.459244504189, 4421.461571063801, 1479.1225108340664, 1754.7393912518155, 1798.8729429073258, 5530.60531918888, 1331.9385201291213, 1496.116663567559, 6447.583254450104, 10062.841546724841, 3580.371505977757, 1888.8893665976839, 1474.8063330990908, 1420.511192625687, 1344.1894816422675, 1267.489987808557, 1208.790503789261, 1072.9375718511972, 949.4215894173158, 911.107749227672, 857.4954433584319, 823.3227334481526, 1201.4822981395141, 789.3949254179925, 748.6883274437107, 708.4432262063528, 688.9840240725954, 683.3521807091736, 659.3939621494189, 646.5783993791405, 611.7825294555182, 584.0238141037066, 573.9362766951258, 565.0478246364551, 558.1464506848577, 554.5402204403883, 550.2601977695338, 546.2270949862515, 536.6432217029313, 530.9161264760609, 2152.595092071787, 956.2345570414855, 2609.422094515075, 944.0340591418128, 1891.6243868122945, 875.6892508179222, 1418.1003572830816, 2667.9091935317847, 5218.551551134116, 5100.532376418197, 1526.917987807395, 2185.634167979557, 3263.123722451404, 12200.704797743143, 5402.110377106503, 8982.872318249458, 10062.841546724841, 3330.2664892597227, 1872.76147656242, 1558.2631194332337, 1374.3141720781675, 1127.721339037011, 1106.0199371453652, 1032.7086301628606, 1015.3830313317712, 922.5355240910616, 886.6525122552899, 790.0586106938164, 773.373269776225, 761.7912936274016, 747.9610711441888, 710.1709026318105, 686.6348796500555, 666.076206097145, 639.6973751156816, 624.9167104058201, 600.0878370278864, 576.7813550405242, 536.4892757450608, 536.1532338531609, 535.395040808932, 533.2372951171592, 509.437357507682, 500.14663520476284, 495.9816787368234, 485.20358825864304, 481.04792875210984, 1235.4189352840572, 6881.014939606063, 1608.93068088155, 1329.5663453697161, 1641.1686637922778, 1860.551670095611, 1220.3396245461563, 1183.5732902270947, 2278.2766318145596, 12200.704797743143, 1572.2378436216018, 9493.441969800775, 8982.872318249458, 6125.924840079963, 1276.3991092823353, 1245.6944410362353, 11424.840986669888, 2061.3730271516442, 1133.8909838080247], \"Category\": [\"Default\", \"Default\", \"Default\", \"Default\", \"Default\", \"Default\", \"Default\", \"Default\", \"Default\", \"Default\", \"Default\", \"Default\", \"Default\", \"Default\", \"Default\", \"Default\", \"Default\", \"Default\", \"Default\", \"Default\", \"Default\", \"Default\", \"Default\", \"Default\", \"Default\", \"Default\", \"Default\", \"Default\", \"Default\", \"Default\", \"Topic1\", \"Topic1\", \"Topic1\", \"Topic1\", \"Topic1\", \"Topic1\", \"Topic1\", \"Topic1\", \"Topic1\", \"Topic1\", \"Topic1\", \"Topic1\", \"Topic1\", \"Topic1\", \"Topic1\", \"Topic1\", \"Topic1\", \"Topic1\", \"Topic1\", \"Topic1\", \"Topic1\", \"Topic1\", \"Topic1\", \"Topic1\", \"Topic1\", \"Topic1\", \"Topic1\", \"Topic1\", \"Topic1\", \"Topic1\", \"Topic1\", \"Topic1\", \"Topic1\", \"Topic1\", \"Topic1\", \"Topic1\", \"Topic1\", \"Topic1\", \"Topic1\", \"Topic1\", \"Topic1\", \"Topic1\", \"Topic1\", \"Topic1\", \"Topic1\", \"Topic1\", \"Topic1\", \"Topic1\", \"Topic1\", \"Topic2\", \"Topic2\", \"Topic2\", \"Topic2\", \"Topic2\", \"Topic2\", \"Topic2\", \"Topic2\", \"Topic2\", \"Topic2\", \"Topic2\", \"Topic2\", \"Topic2\", \"Topic2\", \"Topic2\", \"Topic2\", \"Topic2\", \"Topic2\", \"Topic2\", \"Topic2\", \"Topic2\", \"Topic2\", \"Topic2\", \"Topic2\", \"Topic2\", \"Topic2\", \"Topic2\", \"Topic2\", \"Topic2\", \"Topic2\", \"Topic2\", \"Topic2\", \"Topic2\", \"Topic2\", \"Topic2\", \"Topic2\", \"Topic2\", \"Topic2\", \"Topic2\", \"Topic2\", \"Topic2\", \"Topic2\", \"Topic2\", \"Topic2\", \"Topic2\", \"Topic2\", \"Topic2\", \"Topic2\", \"Topic2\", \"Topic2\", \"Topic2\", \"Topic2\", \"Topic2\", \"Topic2\", \"Topic2\", \"Topic2\", \"Topic2\", \"Topic3\", \"Topic3\", \"Topic3\", \"Topic3\", \"Topic3\", \"Topic3\", \"Topic3\", \"Topic3\", \"Topic3\", \"Topic3\", \"Topic3\", \"Topic3\", \"Topic3\", \"Topic3\", \"Topic3\", \"Topic3\", \"Topic3\", \"Topic3\", \"Topic3\", \"Topic3\", \"Topic3\", \"Topic3\", \"Topic3\", \"Topic3\", \"Topic3\", \"Topic3\", \"Topic3\", \"Topic3\", \"Topic3\", \"Topic3\", \"Topic3\", \"Topic3\", \"Topic3\", \"Topic3\", \"Topic3\", \"Topic3\", \"Topic3\", \"Topic3\", \"Topic3\", \"Topic3\", \"Topic3\", \"Topic3\", \"Topic3\", \"Topic3\", \"Topic3\", \"Topic3\", \"Topic3\", \"Topic3\", \"Topic3\", \"Topic3\", \"Topic3\", \"Topic3\", \"Topic3\", \"Topic3\", \"Topic3\", \"Topic3\", \"Topic3\", \"Topic3\", \"Topic4\", \"Topic4\", \"Topic4\", \"Topic4\", \"Topic4\", \"Topic4\", \"Topic4\", \"Topic4\", \"Topic4\", \"Topic4\", \"Topic4\", \"Topic4\", \"Topic4\", \"Topic4\", \"Topic4\", \"Topic4\", \"Topic4\", \"Topic4\", \"Topic4\", \"Topic4\", \"Topic4\", \"Topic4\", \"Topic4\", \"Topic4\", \"Topic4\", \"Topic4\", \"Topic4\", \"Topic4\", \"Topic4\", \"Topic4\", \"Topic4\", \"Topic4\", \"Topic4\", \"Topic4\", \"Topic4\", \"Topic4\", \"Topic4\", \"Topic4\", \"Topic4\", \"Topic4\", \"Topic4\", \"Topic4\", \"Topic4\", \"Topic4\", \"Topic4\", \"Topic4\", \"Topic4\", \"Topic4\", \"Topic4\", \"Topic4\", \"Topic4\", \"Topic5\", \"Topic5\", \"Topic5\", \"Topic5\", \"Topic5\", \"Topic5\", \"Topic5\", \"Topic5\", \"Topic5\", \"Topic5\", \"Topic5\", \"Topic5\", \"Topic5\", \"Topic5\", \"Topic5\", \"Topic5\", \"Topic5\", \"Topic5\", \"Topic5\", \"Topic5\", \"Topic5\", \"Topic5\", \"Topic5\", \"Topic5\", \"Topic5\", \"Topic5\", \"Topic5\", \"Topic5\", \"Topic5\", \"Topic5\", \"Topic5\", \"Topic5\", \"Topic5\", \"Topic5\", \"Topic5\", \"Topic5\", \"Topic5\", \"Topic5\", \"Topic5\", \"Topic5\", \"Topic5\", \"Topic5\", \"Topic5\", \"Topic5\", \"Topic5\", \"Topic5\", \"Topic5\", \"Topic5\", \"Topic5\", \"Topic5\", \"Topic5\", \"Topic5\", \"Topic5\", \"Topic5\", \"Topic5\", \"Topic5\", \"Topic5\", \"Topic5\", \"Topic5\", \"Topic5\", \"Topic5\", \"Topic6\", \"Topic6\", \"Topic6\", \"Topic6\", \"Topic6\", \"Topic6\", \"Topic6\", \"Topic6\", \"Topic6\", \"Topic6\", \"Topic6\", \"Topic6\", \"Topic6\", \"Topic6\", \"Topic6\", \"Topic6\", \"Topic6\", \"Topic6\", \"Topic6\", \"Topic6\", \"Topic6\", \"Topic6\", \"Topic6\", \"Topic6\", \"Topic6\", \"Topic6\", \"Topic6\", \"Topic6\", \"Topic6\", \"Topic6\", \"Topic6\", \"Topic6\", \"Topic6\", \"Topic6\", \"Topic6\", \"Topic6\", \"Topic6\", \"Topic6\", \"Topic6\", \"Topic6\", \"Topic6\", \"Topic6\", \"Topic6\", \"Topic6\", \"Topic6\", \"Topic6\", \"Topic6\", \"Topic7\", \"Topic7\", \"Topic7\", \"Topic7\", \"Topic7\", \"Topic7\", \"Topic7\", \"Topic7\", \"Topic7\", \"Topic7\", \"Topic7\", \"Topic7\", \"Topic7\", \"Topic7\", \"Topic7\", \"Topic7\", \"Topic7\", \"Topic7\", \"Topic7\", \"Topic7\", \"Topic7\", \"Topic7\", \"Topic7\", \"Topic7\", \"Topic7\", \"Topic7\", \"Topic7\", \"Topic7\", \"Topic7\", \"Topic7\", \"Topic7\", \"Topic7\", \"Topic7\", \"Topic7\", \"Topic7\", \"Topic7\", \"Topic7\", \"Topic7\", \"Topic7\", \"Topic7\", \"Topic7\", \"Topic7\", \"Topic7\", \"Topic7\", \"Topic7\", \"Topic7\", \"Topic7\", \"Topic7\", \"Topic7\", \"Topic7\", \"Topic7\", \"Topic7\", \"Topic7\", \"Topic7\", \"Topic7\", \"Topic7\", \"Topic7\", \"Topic7\", \"Topic7\", \"Topic7\", \"Topic7\", \"Topic7\", \"Topic7\", \"Topic7\", \"Topic8\", \"Topic8\", \"Topic8\", \"Topic8\", \"Topic8\", \"Topic8\", \"Topic8\", \"Topic8\", \"Topic8\", \"Topic8\", \"Topic8\", \"Topic8\", \"Topic8\", \"Topic8\", \"Topic8\", \"Topic8\", \"Topic8\", \"Topic8\", \"Topic8\", \"Topic8\", \"Topic8\", \"Topic8\", \"Topic8\", \"Topic8\", \"Topic8\", \"Topic8\", \"Topic8\", \"Topic8\", \"Topic8\", \"Topic8\", \"Topic8\", \"Topic8\", \"Topic8\", \"Topic8\", \"Topic8\", \"Topic8\", \"Topic8\", \"Topic8\", \"Topic8\", \"Topic8\", \"Topic8\", \"Topic8\", \"Topic8\", \"Topic8\", \"Topic8\", \"Topic8\", \"Topic8\", \"Topic8\", \"Topic8\", \"Topic8\", \"Topic8\", \"Topic9\", \"Topic9\", \"Topic9\", \"Topic9\", \"Topic9\", \"Topic9\", \"Topic9\", \"Topic9\", \"Topic9\", \"Topic9\", \"Topic9\", \"Topic9\", \"Topic9\", \"Topic9\", \"Topic9\", \"Topic9\", \"Topic9\", \"Topic9\", \"Topic9\", \"Topic9\", \"Topic9\", \"Topic9\", \"Topic9\", \"Topic9\", \"Topic9\", \"Topic9\", \"Topic9\", \"Topic9\", \"Topic9\", \"Topic9\", \"Topic9\", \"Topic9\", \"Topic9\", \"Topic9\", \"Topic9\", \"Topic9\", \"Topic9\", \"Topic9\", \"Topic9\", \"Topic9\", \"Topic9\", \"Topic9\", \"Topic9\", \"Topic9\", \"Topic9\", \"Topic9\", \"Topic9\", \"Topic9\", \"Topic9\", \"Topic10\", \"Topic10\", \"Topic10\", \"Topic10\", \"Topic10\", \"Topic10\", \"Topic10\", \"Topic10\", \"Topic10\", \"Topic10\", \"Topic10\", \"Topic10\", \"Topic10\", \"Topic10\", \"Topic10\", \"Topic10\", \"Topic10\", \"Topic10\", \"Topic10\", \"Topic10\", \"Topic10\", \"Topic10\", \"Topic10\", \"Topic10\", \"Topic10\", \"Topic10\", \"Topic10\", \"Topic10\", \"Topic10\", \"Topic10\", \"Topic10\", \"Topic10\", \"Topic10\", \"Topic10\", \"Topic10\", \"Topic10\", \"Topic10\", \"Topic10\", \"Topic10\", \"Topic10\", \"Topic10\", \"Topic10\", \"Topic10\", \"Topic11\", \"Topic11\", \"Topic11\", \"Topic11\", \"Topic11\", \"Topic11\", \"Topic11\", \"Topic11\", \"Topic11\", \"Topic11\", \"Topic11\", \"Topic11\", \"Topic11\", \"Topic11\", \"Topic11\", \"Topic11\", \"Topic11\", \"Topic11\", \"Topic11\", \"Topic11\", \"Topic11\", \"Topic11\", \"Topic11\", \"Topic11\", \"Topic11\", \"Topic11\", \"Topic11\", \"Topic11\", \"Topic11\", \"Topic11\", \"Topic11\", \"Topic11\", \"Topic11\", \"Topic11\", \"Topic11\", \"Topic11\", \"Topic11\", \"Topic11\", \"Topic11\", \"Topic11\", \"Topic11\", \"Topic11\", \"Topic11\", \"Topic11\", \"Topic11\", \"Topic11\", \"Topic11\", \"Topic12\", \"Topic12\", \"Topic12\", \"Topic12\", \"Topic12\", \"Topic12\", \"Topic12\", \"Topic12\", \"Topic12\", \"Topic12\", \"Topic12\", \"Topic12\", \"Topic12\", \"Topic12\", \"Topic12\", \"Topic12\", \"Topic12\", \"Topic12\", \"Topic12\", \"Topic12\", \"Topic12\", \"Topic12\", \"Topic12\", \"Topic12\", \"Topic12\", \"Topic12\", \"Topic12\", \"Topic12\", \"Topic12\", \"Topic12\", \"Topic12\", \"Topic12\", \"Topic12\", \"Topic12\", \"Topic12\", \"Topic12\", \"Topic12\", \"Topic12\", \"Topic12\", \"Topic12\", \"Topic12\", \"Topic12\", \"Topic12\", \"Topic12\", \"Topic12\", \"Topic12\", \"Topic12\", \"Topic12\", \"Topic12\"], \"logprob\": [30.0, 29.0, 28.0, 27.0, 26.0, 25.0, 24.0, 23.0, 22.0, 21.0, 20.0, 19.0, 18.0, 17.0, 16.0, 15.0, 14.0, 13.0, 12.0, 11.0, 10.0, 9.0, 8.0, 7.0, 6.0, 5.0, 4.0, 3.0, 2.0, 1.0, -3.7166, -4.0673, -4.4213, -4.6156, -4.7522, -4.784, -4.7946, -4.8534, -4.8558, -4.9579, -4.9822, -5.0378, -5.1233, -5.1869, -5.1966, -5.2722, -5.3598, -5.3816, -5.3856, -5.4248, -5.4361, -5.4381, -5.4639, -5.472, -5.4794, -5.509, -5.5145, -5.5375, -5.5807, -5.6021, -2.9382, -4.2555, -4.8884, -4.4636, -4.1566, -4.608, -4.7517, -4.1149, -4.1674, -4.8881, -4.6271, -3.8583, -4.6444, -4.5125, -4.6567, -4.8028, -4.8527, -4.7783, -4.9604, -3.4006, -4.5441, -4.5641, -4.5705, -4.6399, -4.8555, -5.2882, -5.3964, -5.3995, -5.443, -5.4775, -5.4838, -5.5775, -5.5792, -5.6216, -5.6238, -5.6691, -5.673, -5.7266, -5.7754, -5.8392, -5.8582, -5.9517, -5.9802, -6.0302, -6.0372, -6.1574, -6.1665, -6.2084, -6.2335, -3.1902, -3.376, -4.0161, -4.1269, -4.0445, -4.3389, -4.5896, -3.3997, -4.5702, -4.7319, -4.6448, -5.047, -4.656, -3.7055, -5.2866, -4.0836, -4.9024, -5.0476, -4.4712, -4.9846, -4.7006, -4.6332, -4.7291, -4.7509, -4.6478, -4.8945, -4.9139, -4.2514, -4.7088, -5.023, -5.0304, -5.0603, -5.2318, -5.2331, -5.2408, -5.2808, -5.2958, -5.2886, -5.311, -5.3124, -5.3411, -5.3449, -5.3908, -5.4154, -5.4261, -5.4401, -5.4544, -5.4825, -5.4831, -5.4909, -5.5135, -5.515, -5.5192, -5.5282, -5.5544, -5.5792, -5.5817, -4.0323, -4.3517, -4.0618, -4.1598, -3.5712, -3.9287, -4.7069, -3.7514, -3.9386, -4.5706, -4.3854, -3.8874, -4.7032, -5.123, -4.2744, -4.0113, -4.8999, -5.1362, -4.3724, -5.0815, -5.0504, -4.6702, -4.8957, -4.8094, -4.8409, -4.8787, -5.0584, -4.9465, -4.0842, -4.198, -4.3996, -4.4607, -4.4903, -4.567, -4.6492, -4.6632, -4.807, -4.8972, -4.9191, -4.9858, -5.031, -5.0479, -5.0671, -5.1113, -5.1371, -4.7916, -5.1797, -5.2186, -5.2198, -5.2998, -5.333, -5.3407, -5.349, -5.3721, -5.3812, -5.3859, -5.4001, -5.4138, -3.8917, -4.6905, -3.8142, -3.3232, -4.3301, -3.4458, -3.4233, -4.9527, -3.5511, -4.4878, -4.9042, -5.0579, -4.1418, -4.6074, -4.7821, -4.8135, -4.6277, -4.4712, -4.524, -4.833, -4.8737, -4.4583, -4.7783, -4.9355, -4.9632, -5.0059, -5.0796, -5.131, -5.1313, -5.1435, -5.169, -5.1985, -5.2224, -5.2411, -5.2733, -5.3155, -5.386, -5.4, -5.4336, -5.4506, -5.4541, -5.4807, -5.4875, -5.5133, -5.6613, -5.6665, -5.6797, -5.6996, -5.7472, -5.7492, -5.7624, -4.778, -4.4244, -5.1321, -4.4937, -4.8872, -4.2484, -4.1821, -3.2075, -3.6442, -3.0716, -4.4338, -4.7896, -4.5155, -4.9564, -5.2343, -5.0148, -5.1259, -4.6929, -5.0481, -5.0375, -4.8203, -4.6532, -5.0816, -4.8744, -4.9487, -5.0384, -4.8617, -5.048, -4.9989, -5.0368, -5.0314, -4.0199, -4.4032, -4.4256, -4.395, -4.5664, -4.5907, -4.6795, -4.7315, -4.7584, -4.8429, -4.8461, -4.8791, -4.9345, -4.986, -5.0136, -5.028, -5.0441, -5.0648, -5.08, -5.098, -5.1016, -5.1225, -5.1624, -5.2228, -5.2499, -5.2863, -5.3149, -5.3368, -5.3402, -5.3887, -3.7324, -4.3705, -3.819, -4.8466, -4.1257, -4.4714, -4.137, -4.3541, -3.9932, -4.8048, -4.8723, -4.609, -4.5143, -4.8155, -4.6836, -4.9473, -4.9234, -4.8655, -4.917, -4.9427, -4.9528, -4.9768, -4.9889, -5.028, -5.092, -5.1633, -5.1667, -5.1794, -5.18, -5.2887, -5.2959, -5.3025, -5.3255, -5.3455, -5.3479, -5.349, -5.3712, -5.4104, -5.4335, -5.4449, -5.4559, -5.4714, -5.4735, -5.507, -5.547, -5.5503, -5.5505, -4.4184, -3.9336, -4.9831, -4.5092, -4.8648, -5.0451, -4.9587, -4.0879, -4.9221, -4.8258, -4.6965, -4.5736, -4.1881, -4.1931, -4.37, -4.7496, -4.6604, -4.8184, -4.1592, -4.5223, -4.6767, -4.3611, -4.7245, -4.4827, -4.334, -4.7356, -4.389, -4.3697, -4.5346, -4.7328, -4.7006, -4.7986, -4.8965, -4.8815, -4.0997, -4.1699, -4.2489, -4.4079, -4.6628, -4.7023, -4.7722, -4.8447, -4.8453, -4.8987, -4.9275, -4.9417, -4.9471, -5.0113, -5.0267, -5.0669, -5.1211, -5.1439, -5.1579, -5.1659, -5.2144, -5.2295, -5.237, -5.2503, -5.2669, -5.2944, -5.3245, -5.3291, -5.3315, -5.3421, -4.016, -4.5679, -4.6508, -4.4051, -4.1331, -4.284, -4.8, -4.2718, -3.4929, -4.1712, -4.3737, -4.4505, -3.9793, -4.3546, -4.4052, -4.8202, -4.3421, -4.5225, -4.5265, -4.6246, -4.7747, -4.0766, -4.3277, -4.5706, -4.6784, -4.6868, -4.6932, -4.712, -4.74, -4.7471, -4.8475, -4.91, -4.9288, -4.9353, -4.9362, -4.9392, -4.9757, -4.9833, -4.995, -5.0049, -5.0379, -5.0643, -5.0793, -5.1209, -5.1528, -5.1912, -5.1914, -5.248, -5.2524, -5.2545, -5.2563, -4.2495, -3.5098, -4.2517, -4.8513, -4.4261, -4.5484, -4.3417, -4.5307, -4.7102, -4.8347, -4.3761, -4.4167, -4.646, -4.5529, -4.7719, -4.6139, -4.691, -4.7575, -4.6545, -3.4776, -4.0701, -4.1051, -4.1091, -4.3655, -4.4261, -4.4697, -4.4847, -4.5505, -4.569, -4.5824, -4.5866, -4.6108, -4.7542, -4.7809, -4.8175, -4.8337, -4.8375, -4.8569, -4.8745, -4.8967, -4.9189, -4.9473, -5.0009, -5.018, -5.0477, -5.0883, -5.0968, -5.1562, -5.176, -3.2967, -4.1605, -4.6184, -4.1958, -3.6956, -4.4507, -4.4149, -4.524, -4.1719, -4.7193, -4.7405, -4.4875, -4.6974, -3.2346, -3.8743, -4.1219, -4.1594, -4.2147, -4.2735, -4.321, -4.4403, -4.5627, -4.6039, -4.6646, -4.7053, -4.3274, -4.7475, -4.8005, -4.8558, -4.8837, -4.8919, -4.9276, -4.9473, -5.0027, -5.0492, -5.0666, -5.0823, -5.0946, -5.1011, -5.1088, -5.1162, -5.1339, -5.1447, -3.8668, -4.638, -3.7869, -4.6726, -4.1761, -4.7683, -4.4711, -4.1867, -3.817, -3.951, -4.5846, -4.4971, -4.4858, -4.4199, -4.5663, -4.6185, -4.6737, -3.2959, -3.8718, -4.0557, -4.1814, -4.3793, -4.3988, -4.4674, -4.4843, -4.5803, -4.62, -4.7355, -4.7569, -4.772, -4.7903, -4.8422, -4.876, -4.9064, -4.9469, -4.9703, -5.0109, -5.0506, -5.1231, -5.1237, -5.1252, -5.1292, -5.1749, -5.1934, -5.2018, -5.2238, -5.2324, -4.3838, -2.9049, -4.1728, -4.3987, -4.2455, -4.2811, -4.6282, -4.6631, -4.2853, -3.3518, -4.5567, -3.785, -3.9591, -4.1508, -4.6956, -4.7189, -4.4154, -4.7039, -4.7553], \"loglift\": [30.0, 29.0, 28.0, 27.0, 26.0, 25.0, 24.0, 23.0, 22.0, 21.0, 20.0, 19.0, 18.0, 17.0, 16.0, 15.0, 14.0, 13.0, 12.0, 11.0, 10.0, 9.0, 8.0, 7.0, 6.0, 5.0, 4.0, 3.0, 2.0, 1.0, 2.2601, 2.26, 2.2598, 2.2597, 2.2596, 2.2596, 2.2596, 2.2596, 2.2596, 2.2595, 2.2594, 2.2594, 2.2593, 2.2592, 2.2592, 2.2591, 2.259, 2.259, 2.259, 2.2589, 2.2589, 2.2589, 2.2589, 2.2589, 2.2589, 2.2588, 2.2588, 2.2588, 2.2587, 2.2587, 2.0736, 2.1528, 2.1926, 2.0691, 1.9757, 2.0231, 2.0529, 1.778, 1.7852, 2.0344, 1.8773, 1.0881, 1.3955, 0.9801, 0.9692, 1.1017, 0.8169, 0.2085, 0.3827, 2.2628, 2.2624, 2.2624, 2.2624, 2.2623, 2.2622, 2.2617, 2.2616, 2.2616, 2.2615, 2.2615, 2.2615, 2.2613, 2.2613, 2.2613, 2.2613, 2.2612, 2.2612, 2.2611, 2.261, 2.2608, 2.2608, 2.2606, 2.2605, 2.2604, 2.2604, 2.26, 2.26, 2.2599, 2.2598, 2.2189, 2.1845, 2.1611, 2.1432, 2.0462, 2.0778, 2.0792, 1.8343, 1.9846, 2.0038, 1.8985, 1.9979, 1.8059, 1.3501, 2.0579, 1.2595, 1.7506, 1.8325, 1.354, 1.7179, 1.1273, 0.9747, 0.8791, 0.7949, 0.339, 0.7843, 0.4586, 2.3203, 2.32, 2.3197, 2.3197, 2.3197, 2.3195, 2.3195, 2.3195, 2.3194, 2.3194, 2.3194, 2.3194, 2.3194, 2.3193, 2.3193, 2.3193, 2.3192, 2.3192, 2.3192, 2.3192, 2.3191, 2.3191, 2.3191, 2.3191, 2.3191, 2.3191, 2.3191, 2.319, 2.319, 2.319, 2.2754, 2.2413, 2.1569, 2.1453, 2.022, 2.0627, 2.1689, 1.8043, 1.85, 2.029, 1.9241, 1.6991, 2.0052, 2.159, 1.6701, 1.1489, 1.9272, 2.0797, 1.0001, 1.9879, 1.9273, 1.1073, 1.5361, 0.4976, 0.5506, -0.125, 1.4194, 0.0403, 2.3314, 2.3314, 2.3313, 2.3313, 2.3313, 2.3312, 2.3312, 2.3311, 2.331, 2.331, 2.3309, 2.3309, 2.3308, 2.3308, 2.3308, 2.3308, 2.3307, 2.3307, 2.3307, 2.3306, 2.3306, 2.3305, 2.3305, 2.3305, 2.3305, 2.3304, 2.3304, 2.3304, 2.3304, 2.3304, 2.2479, 2.2641, 2.1598, 2.0873, 2.1695, 1.9215, 1.8122, 2.1615, 1.4376, 1.8987, 2.1152, 2.2017, 1.2061, 1.6813, 1.8619, 1.8992, 1.5048, 0.856, 0.4807, 0.9801, 0.1131, 2.3763, 2.3761, 2.376, 2.3759, 2.3759, 2.3758, 2.3758, 2.3758, 2.3757, 2.3757, 2.3757, 2.3756, 2.3756, 2.3756, 2.3755, 2.3754, 2.3754, 2.3753, 2.3753, 2.3753, 2.3753, 2.3753, 2.3752, 2.3749, 2.3749, 2.3749, 2.3749, 2.3748, 2.3748, 2.3747, 2.3358, 2.2972, 2.3241, 2.26, 2.2769, 2.1333, 2.1072, 1.901, 1.9542, 1.7478, 2.0912, 2.1726, 2.0559, 2.208, 2.2994, 2.1327, 2.2041, 1.6412, 2.0624, 1.9207, 1.238, 0.3336, 1.9652, 0.6705, 0.9932, 1.6236, 0.127, 1.3753, -0.0525, 1.0031, 0.4877, 2.4321, 2.4319, 2.4319, 2.4319, 2.4318, 2.4318, 2.4318, 2.4317, 2.4317, 2.4316, 2.4316, 2.4316, 2.4315, 2.4315, 2.4314, 2.4314, 2.4314, 2.4314, 2.4314, 2.4313, 2.4313, 2.4313, 2.4313, 2.4312, 2.4312, 2.4311, 2.4311, 2.431, 2.431, 2.4309, 2.4101, 2.2917, 2.189, 2.3458, 2.1383, 2.1962, 2.0259, 2.0371, 1.334, 2.1067, 2.1479, 1.5235, 0.4903, 1.5473, 0.5519, 1.8166, 0.4245, 2.562, 2.562, 2.562, 2.5619, 2.5619, 2.5619, 2.5619, 2.5618, 2.5617, 2.5617, 2.5616, 2.5616, 2.5615, 2.5615, 2.5615, 2.5614, 2.5614, 2.5614, 2.5614, 2.5613, 2.5613, 2.5612, 2.5612, 2.5612, 2.5612, 2.5611, 2.5611, 2.561, 2.561, 2.561, 2.4111, 2.3341, 2.4715, 2.3817, 2.4238, 2.4357, 2.3853, 2.0492, 2.3671, 2.3261, 2.2638, 2.198, 2.0007, 1.9893, 2.0712, 2.2059, 2.0798, 2.1522, 1.4093, 1.7607, 1.9199, 1.4275, 1.8852, 1.4288, 0.973, 1.8504, 0.7712, 0.3841, 0.47, 0.946, 0.6266, 1.3727, 2.0547, 0.9464, 2.5961, 2.5961, 2.5961, 2.596, 2.5958, 2.5957, 2.5957, 2.5956, 2.5956, 2.5955, 2.5955, 2.5955, 2.5955, 2.5954, 2.5954, 2.5953, 2.5952, 2.5952, 2.5952, 2.5952, 2.5951, 2.5951, 2.5951, 2.595, 2.595, 2.595, 2.5949, 2.5949, 2.5949, 2.5949, 2.549, 2.4944, 2.4185, 2.349, 2.2664, 2.2921, 2.4455, 2.2074, 1.6673, 1.643, 1.6819, 1.6544, 0.7744, 1.2138, 1.2776, 2.0207, 0.6466, 1.147, 0.5334, 0.38, 0.5323, 2.6719, 2.6717, 2.6716, 2.6715, 2.6714, 2.6714, 2.6714, 2.6714, 2.6714, 2.6713, 2.6712, 2.6712, 2.6712, 2.6712, 2.6712, 2.6711, 2.6711, 2.6711, 2.6711, 2.671, 2.671, 2.671, 2.6709, 2.6709, 2.6708, 2.6708, 2.6707, 2.6707, 2.6707, 2.6707, 2.5678, 2.3587, 2.435, 2.5619, 2.4417, 2.4516, 2.2913, 2.3667, 2.4518, 2.4694, 1.8933, 1.6548, 1.9973, 1.787, 2.1264, 1.5829, 1.2039, 1.5275, 0.1649, 2.6987, 2.6984, 2.6984, 2.6984, 2.6983, 2.6982, 2.6982, 2.6982, 2.6981, 2.6981, 2.6981, 2.6981, 2.6981, 2.6979, 2.6979, 2.6978, 2.6978, 2.6978, 2.6978, 2.6978, 2.6977, 2.6977, 2.6977, 2.6976, 2.6976, 2.6975, 2.6975, 2.6975, 2.6974, 2.6973, 2.5981, 2.5817, 2.6236, 2.3552, 2.0732, 2.4131, 2.278, 2.1441, 1.373, 2.2494, 2.1119, 0.904, 0.249, 2.7452, 2.7449, 2.7448, 2.7448, 2.7447, 2.7447, 2.7447, 2.7446, 2.7445, 2.7444, 2.7444, 2.7443, 2.7443, 2.7443, 2.7442, 2.7441, 2.7441, 2.7441, 2.744, 2.744, 2.7439, 2.7439, 2.7438, 2.7438, 2.7438, 2.7438, 2.7438, 2.7438, 2.7437, 2.7437, 2.6217, 2.662, 2.5092, 2.6403, 2.4417, 2.6197, 2.4348, 2.0873, 1.7861, 1.6749, 2.2474, 1.9763, 1.5867, 0.3339, 1.0021, 0.4414, 0.2727, 2.7563, 2.756, 2.7559, 2.7559, 2.7557, 2.7557, 2.7557, 2.7556, 2.7555, 2.7555, 2.7554, 2.7554, 2.7553, 2.7553, 2.7553, 2.7552, 2.7552, 2.7551, 2.7551, 2.755, 2.755, 2.7548, 2.7548, 2.7548, 2.7548, 2.7548, 2.7547, 2.7547, 2.7547, 2.7547, 2.66, 2.4215, 2.6069, 2.5717, 2.5143, 2.3533, 2.4279, 2.4236, 2.1465, 1.402, 2.246, 1.2196, 1.1009, 1.2919, 2.3156, 2.3166, 0.4041, 1.828, 2.3743]}, \"token.table\": {\"Topic\": [10, 5, 1, 2, 5, 3, 6, 7, 8, 2, 3, 5, 6, 7, 8, 9, 11, 12, 7, 12, 7, 4, 6, 1, 3, 6, 7, 8, 10, 11, 12, 2, 7, 8, 12, 1, 11, 7, 1, 1, 6, 1, 2, 3, 7, 4, 6, 3, 11, 1, 2, 3, 4, 5, 6, 7, 8, 9, 10, 11, 12, 4, 6, 7, 8, 1, 11, 12, 12, 2, 1, 2, 9, 8, 5, 11, 8, 1, 7, 10, 4, 5, 1, 1, 2, 3, 4, 5, 6, 9, 10, 1, 2, 10, 1, 3, 8, 3, 6, 4, 5, 7, 1, 2, 4, 6, 7, 9, 3, 8, 1, 1, 11, 1, 2, 3, 7, 9, 1, 7, 10, 8, 1, 10, 4, 9, 3, 10, 8, 1, 2, 3, 4, 5, 6, 7, 8, 9, 10, 11, 12, 5, 12, 1, 2, 3, 5, 9, 11, 12, 3, 1, 3, 4, 3, 7, 11, 12, 1, 2, 3, 5, 9, 9, 9, 3, 9, 10, 11, 12, 1, 2, 3, 4, 5, 6, 7, 8, 9, 10, 11, 12, 5, 10, 1, 2, 3, 4, 5, 7, 4, 3, 8, 9, 2, 1, 2, 3, 7, 8, 9, 11, 12, 10, 10, 10, 9, 3, 9, 11, 1, 6, 7, 11, 9, 7, 8, 10, 2, 7, 12, 5, 1, 2, 3, 4, 5, 6, 7, 8, 9, 10, 11, 12, 6, 2, 3, 5, 9, 9, 2, 12, 1, 6, 8, 9, 6, 8, 9, 2, 2, 3, 5, 7, 8, 9, 11, 12, 3, 5, 3, 7, 1, 4, 1, 2, 3, 4, 12, 11, 9, 2, 5, 6, 11, 3, 7, 12, 1, 1, 2, 3, 5, 7, 8, 9, 10, 11, 12, 8, 2, 4, 5, 2, 3, 8, 10, 10, 1, 2, 3, 4, 5, 6, 7, 8, 9, 10, 11, 12, 11, 1, 2, 5, 7, 9, 10, 11, 12, 3, 1, 2, 9, 6, 8, 2, 2, 5, 9, 1, 4, 3, 12, 8, 4, 7, 11, 9, 8, 1, 9, 2, 11, 2, 7, 3, 9, 3, 4, 6, 7, 2, 3, 4, 10, 2, 3, 4, 5, 8, 9, 1, 2, 3, 4, 5, 6, 12, 1, 2, 3, 10, 11, 7, 10, 12, 2, 3, 7, 8, 9, 11, 12, 5, 10, 5, 6, 6, 7, 8, 9, 12, 11, 5, 5, 11, 1, 2, 5, 7, 1, 2, 5, 6, 9, 5, 5, 7, 1, 3, 5, 7, 4, 9, 6, 1, 3, 1, 4, 5, 10, 12, 6, 9, 12, 12, 6, 2, 3, 4, 5, 6, 7, 8, 9, 12, 1, 3, 5, 7, 9, 10, 11, 12, 1, 9, 1, 2, 10, 4, 8, 10, 8, 2, 3, 1, 2, 3, 6, 7, 10, 11, 4, 1, 2, 4, 5, 6, 7, 11, 12, 12, 6, 7, 6, 9, 2, 6, 7, 8, 9, 12, 1, 2, 7, 10, 10, 4, 1, 1, 2, 4, 5, 9, 10, 1, 2, 3, 4, 5, 6, 7, 8, 9, 10, 11, 12, 1, 2, 3, 4, 5, 6, 7, 9, 10, 11, 12, 5, 2, 1, 2, 3, 4, 5, 6, 7, 8, 9, 10, 11, 12, 5, 9, 4, 5, 1, 2, 3, 4, 5, 6, 7, 8, 9, 10, 11, 12, 5, 6, 3, 4, 5, 6, 1, 2, 3, 4, 5, 6, 7, 8, 9, 10, 11, 12, 5, 2, 3, 4, 5, 6, 1, 2, 3, 4, 5, 9, 11, 1, 5, 1, 2, 3, 4, 5, 6, 7, 8, 9, 10, 12, 9, 4, 5, 5, 10, 1, 2, 3, 4, 5, 6, 7, 8, 9, 10, 11, 12, 2, 3, 5, 6, 10, 12, 11, 8, 12, 11, 8, 3, 6, 7, 7, 9, 12, 12, 5, 6, 8, 12, 4, 6, 4, 2, 4, 6, 7, 8, 10, 4, 1, 2, 3, 4, 5, 6, 7, 8, 9, 11, 12, 2, 3, 7, 4, 1, 5, 1, 3, 8, 1, 11, 7, 2, 3, 10, 1, 2, 3, 4, 5, 6, 9, 11, 4, 11, 4, 9, 5, 4, 5, 10, 4, 7, 4, 1, 3, 5, 7, 8, 9, 11, 7, 8, 1, 2, 6, 7, 6, 1, 2, 5, 10, 2, 3, 6, 7, 8, 9, 10, 12, 6, 2, 4, 5, 7, 8, 8, 10, 1, 2, 4, 5, 6, 10, 5, 10, 1, 10, 4, 4, 3, 4, 2, 7, 9, 9, 7, 6, 8, 6, 10, 4, 10, 2, 3, 2, 4, 6, 7, 8, 9, 11, 1, 1, 1, 2, 3, 4, 5, 6, 8, 9, 11, 9, 1, 2, 3, 4, 5, 6, 8, 9, 11, 1, 2, 3, 4, 5, 6, 7, 9, 10, 12, 3, 3, 7, 8, 12, 7, 8, 11, 2, 3, 5, 12, 1, 2, 3, 4, 5, 6, 7, 8, 9, 10, 11, 12, 6, 12, 8, 6, 11, 1, 2, 3, 4, 5, 6, 7, 8, 9, 10, 11, 12, 5, 6, 8, 1, 2, 3, 4, 5, 6, 7, 8, 9, 10, 11, 12, 10, 1, 2, 3, 5, 6, 10, 5, 10, 4, 7, 1, 2, 3, 5, 7, 8, 9, 11, 12, 5, 1, 2, 3, 5, 6, 7, 8, 9, 11, 12, 2, 3, 5, 7, 8, 9, 10, 11, 12, 11, 12, 10, 2, 12, 7, 6, 8, 9, 12, 7, 2, 6, 1, 9, 8, 5, 12, 1, 2, 3, 4, 5, 6, 7, 8, 9, 10, 11, 12, 3, 12, 3, 2, 3, 4, 5, 6, 7, 8, 9, 11, 12, 1, 2, 3, 8, 11, 1, 2, 3, 4, 5, 6, 7, 8, 9, 11, 12, 4, 6, 1, 2, 3, 4, 6, 11, 1, 9, 1, 2, 3, 5, 7, 9, 3, 6, 7, 11, 12, 1, 7, 5, 6, 7, 2, 6, 8, 1, 2, 12, 1, 2, 9, 7, 3, 6, 2, 7, 12, 1, 3, 6, 7, 9, 2, 5, 6, 10, 1, 2, 3, 5, 6, 7, 11, 2, 3, 9, 1, 4, 6, 5, 1, 2, 3, 4, 5, 6, 7, 8, 9, 11, 12, 2, 7, 12, 2, 2, 7, 7, 8, 5, 8, 4, 1, 2, 3, 6, 7, 8, 9, 10, 11, 10, 4, 11, 11, 12, 12, 2, 11, 1, 2, 12, 11, 1, 2, 3, 5, 7, 8, 9, 11, 12, 9, 2, 7, 8, 7, 7, 1, 2, 3, 5, 9, 11, 12, 11, 12, 3, 8, 2, 5, 11, 8, 9, 12, 2, 1, 8, 9, 5, 8, 9, 12, 11, 2, 3, 9, 11, 9, 2, 1, 2, 3, 9, 12, 3, 1, 3, 1, 3, 4, 5, 3, 8, 10, 4, 8, 1, 2, 3, 4, 5, 6, 9, 10, 11, 1, 2, 9, 1, 3, 8, 12, 8, 4, 6, 7, 8, 10, 5, 1, 9, 11, 1, 2, 10, 2, 2, 3, 4, 5, 6, 7, 8, 9, 11, 12, 1, 4, 6, 10, 9, 6, 1, 2, 3, 5, 6, 7, 8, 9, 10, 11, 12, 2, 3, 6, 8, 12, 2, 12, 2, 4, 5, 6, 5, 3, 5, 7, 10, 11, 9, 5, 4, 6, 3, 6, 8, 7, 7, 1, 2, 2, 8, 9, 12, 5, 2, 4, 6, 8, 4, 4, 6, 9, 9, 6, 12, 11, 10, 1, 5, 6, 6, 8, 6, 7, 8, 8, 1, 9, 12, 9, 1, 9, 12, 2, 3, 3, 2, 2, 3, 4, 5, 6, 7, 8, 9, 10, 11, 6, 8, 4, 3, 5, 11, 4, 5, 6, 5, 2, 3, 4, 5, 6, 7, 8, 9, 11, 12, 2, 3, 4, 11, 12, 9, 1, 3, 4, 5, 6, 7, 8, 11, 12, 3, 5, 7, 1, 2, 3, 4, 5, 6, 7, 8, 9, 10, 11, 12, 4, 5, 4, 7, 8, 1, 2, 3, 4, 5, 6, 7, 8, 9, 10, 11, 12, 8, 1, 3, 9, 11, 1, 2, 3, 4, 5, 6, 7, 8, 9, 10, 11, 12, 4, 5, 11, 1, 2, 3, 4, 5, 6, 7, 8, 9, 10, 11, 12, 1, 2, 5, 5, 6, 12, 12, 1, 9, 11, 3, 3, 9, 3, 1, 3, 11, 5, 1, 3, 12, 7, 8, 10, 10, 12, 1, 2, 3, 4, 6, 7, 8, 5, 6, 8, 12, 11, 1, 2, 3, 8, 4, 3, 7, 8, 12, 12, 3, 1, 2, 3, 4, 6, 7, 8, 9, 12, 6, 9, 1, 2, 3, 4, 5, 6, 7, 8, 9, 10, 11, 12, 6, 7, 11, 6, 2, 1, 1, 2, 3, 4, 5, 6, 8, 9, 10, 11, 12, 5, 11, 6, 1, 2, 3, 4, 5, 6, 7, 8, 9, 10, 11, 12, 4, 5, 6, 7, 8, 10, 12, 11, 6, 1, 2, 7, 8, 9, 12, 5, 5, 6, 7, 8, 7, 2, 6, 12, 10, 1, 2, 3, 4, 5, 6, 7, 8, 9, 10, 11, 12, 3, 11, 4, 1, 2, 3, 4, 5, 6, 7, 8, 9, 10, 11, 12, 7, 1, 2, 3, 10, 3, 1, 10, 12, 6], \"Freq\": [0.9994288958168603, 0.9991216397462538, 0.09068694595425346, 0.12480678700634883, 0.7829605630901884, 0.09544154167239419, 0.10330760279923987, 0.5076231447191075, 0.29314187799378216, 0.00849151097829187, 0.30975555264290777, 0.011322014637722493, 0.02239789852245102, 0.16663051977691581, 0.39479372780232347, 0.003199699788921574, 0.050702935116757254, 0.032735390148197645, 0.9980342769789979, 0.9982243118169544, 0.9985091023834287, 0.9980052682128449, 0.999071738761765, 0.07490844516478738, 0.09714154532785213, 0.15871013039480067, 0.5633525533625791, 0.041045723377965686, 0.024969481721595792, 0.00478866772742933, 0.03488886487127083, 0.27605427033920527, 0.6114845795635687, 0.11210550625332093, 0.9977074019416458, 0.9984385683186314, 0.9977098147846384, 0.9973839436371089, 0.9992468151335152, 0.9994144772884906, 0.9984298638974538, 0.9990253136857721, 0.8050896190171077, 0.11296218685433838, 0.08175716286142723, 0.8049192449133836, 0.19431809052864804, 0.11613888785716081, 0.8835846588172794, 0.02225060089553035, 0.015415448986445862, 0.07475038470786013, 0.22861401704427262, 0.013379446290122825, 0.333322727140886, 0.14426533391088958, 0.10616299773684415, 0.015415448986445862, 0.00014542876402307418, 0.016433450334607382, 0.029812896624730207, 0.4373226113277765, 0.40283139347007985, 0.07353787958339099, 0.08590265579652753, 0.1809778762145027, 0.17471024413780997, 0.6432157418705919, 0.9995933937279521, 0.9977438477820608, 0.14266922013321623, 0.8309401245334594, 0.02637218917613997, 0.9994243881605068, 0.9986958619044913, 0.9995559513054948, 0.9982608336441033, 0.998574865551522, 0.9985592390919565, 0.9993421857111681, 0.05012704072246462, 0.9487459414788425, 0.9989683555744882, 0.06103455004433937, 0.04939983894213718, 0.046538844408808774, 0.0705711984887674, 0.6551677481322055, 0.03833732674660067, 0.03871879268437779, 0.03986319049770915, 0.8258386759323239, 0.048550186709719216, 0.12525948171107557, 0.9992895810133268, 0.9989166707336392, 0.9978139830563066, 0.9994784854708793, 0.9984104813554757, 0.9997522587197331, 0.9992113262773352, 0.9981862038947265, 0.9992622794811721, 0.07917271219072904, 0.1876284823150154, 0.15129579932337947, 0.07266536598327186, 0.5091998407335244, 0.16273680239547844, 0.8369321266053178, 0.9993443290570518, 0.9994409587602469, 0.9982469651425467, 0.621898306799305, 0.050828226998020115, 0.14215595037414183, 0.11470327162120048, 0.07039845343576048, 0.2583539063189133, 0.74155761006812, 0.9990099885054404, 0.9990722541208941, 0.1101553346894006, 0.88902539137913, 0.9996864215137657, 0.9979262349961704, 0.9978080546466831, 0.999156930562666, 0.9990174131935218, 0.08827247942269897, 0.2280200112487985, 0.12279590814305195, 0.07028722014922166, 0.014057444029844332, 0.08021012181734707, 0.19845803336250822, 0.03038888635863407, 0.02356689146179785, 0.10460392175148871, 0.03721088125547029, 0.0020672711808594605, 0.1386013721099631, 0.8608201810416991, 0.17415562618975058, 0.09254373642767048, 0.5371683275333216, 0.057297954936887635, 0.10667974504696842, 0.016963210343157523, 0.01526688930884177, 0.9982545266173731, 0.11991397023079046, 0.7469965504853138, 0.13289167263672017, 0.624484910491328, 0.32112412094714765, 0.03552666280593444, 0.01868610186545902, 0.06913877131489743, 0.07822269747305913, 0.05854085746370877, 0.7252001049599095, 0.06812944618621279, 0.9995101617050864, 0.9984771457894059, 0.9982484170092739, 0.11487016681908697, 0.638167593439372, 0.13363980192024497, 0.11261781060694802, 0.23614445129199657, 0.06820130293168677, 0.07618884291467712, 0.05939452807864614, 0.03010688147434822, 0.03993769991495172, 0.1511488335242788, 0.23471079026940855, 0.03317901223703681, 0.014951036378417822, 0.02396261994897103, 0.03235977736698652, 0.07204428813229012, 0.9276935732103112, 0.03889605152381565, 0.043639472441354146, 0.7416812946663189, 0.10530394436935457, 0.02997842019884328, 0.04003447254402489, 0.998880401248497, 0.9986791058563962, 0.21068051721736897, 0.7889192486123521, 0.9967095153272226, 0.2748732674420434, 0.06763999805100211, 0.08234434545339388, 0.10998851856989039, 0.047053911687653646, 0.04313275238034917, 0.3429053814237759, 0.03195744835453143, 0.9990495213833762, 0.9978389153371329, 0.9993864920068518, 0.998758424954621, 0.16221740721958328, 0.7362712491475051, 0.10068666655008617, 0.9995725590661093, 0.17691682414500398, 0.8225080420776502, 0.9982329181844515, 0.9988594814310245, 0.7952693498086107, 0.20449783280792846, 0.9985447502624204, 0.9990408073887095, 0.9971680673037915, 0.9980207358882216, 0.9992681747555198, 0.08068044604916572, 0.2757384218195831, 0.06566117446960743, 0.13267023228609828, 0.06527606494192643, 0.0914635128242332, 0.04756102666860127, 0.029075769339914136, 0.03716306942121476, 0.07124526262098166, 0.01810014780100615, 0.085109205617497, 0.9986468902817038, 0.11803639473930633, 0.09009308496428686, 0.7515786767074198, 0.039987839850458874, 0.9994967768229597, 0.9973281994903527, 0.9986600858727599, 0.10723911798677137, 0.14544017718377578, 0.6774934835902466, 0.06949831251503209, 0.1540337499877621, 0.16262099737383942, 0.6832228701547776, 0.9983426396961624, 0.10303954541355477, 0.13768734577191383, 0.05483391013235956, 0.07080202681925547, 0.40070934327493524, 0.05272491358880727, 0.14853361371018275, 0.03193623337379183, 0.1573430960498968, 0.8416777946230781, 0.9991079169234506, 0.9980477586997653, 0.1563254443904535, 0.8432889250173908, 0.16248054143210172, 0.05095543607042243, 0.7854828541421722, 0.9988386670377415, 0.9983512382336825, 0.999422220418465, 0.9986741881118194, 0.9968734509072305, 0.999122647759992, 0.999187360848232, 0.998145600087693, 0.8390509889609239, 0.1198644269944177, 0.04059924140133503, 0.9989984654080265, 0.03891403306590919, 0.06263640157155352, 0.06100037615737116, 0.6213390805148323, 0.023254932673020805, 0.01390621602055013, 0.06485672177651532, 0.013789357062394246, 0.0782955019644419, 0.02196948413330609, 0.9974232136082067, 0.9992275834478496, 0.9343576867196688, 0.06515330937506407, 0.7714027346622044, 0.10348810781127492, 0.04995977618475341, 0.07434490503683544, 0.9983531825266162, 0.08401483309989727, 0.4013426261935726, 0.0698276317321046, 0.04621924195601209, 0.08257394546098083, 0.053202005129222546, 0.026046815011181872, 0.03580051595153934, 0.04322662916749332, 0.03979066633623103, 0.03280790316302057, 0.08512320820675608, 0.9977535076573191, 0.045379043779164796, 0.06568019494352799, 0.47926639219398603, 0.11066117693515624, 0.10548637369718132, 0.09314645828354878, 0.05334027952989546, 0.046971290929310926, 0.9991970404813004, 0.6173579610912121, 0.20920010543820833, 0.1730958032756779, 0.7218500166962492, 0.2772528060198757, 0.9997934334321692, 0.9244956094267857, 0.0339753054715843, 0.04132131746544036, 0.9992353325800185, 0.999435463896859, 0.9978746284946112, 0.9990753751828351, 0.9992050272440516, 0.9991875543480232, 0.9981768243509491, 0.9982744421757508, 0.9995551124018471, 0.9986798845969942, 0.9989944550887989, 0.9994029228381123, 0.9985334057318129, 0.999616937522973, 0.9980739687950589, 0.9994187054035497, 0.859442984698669, 0.14027532791658212, 0.9986988906797871, 0.06907547433043493, 0.8686931651795496, 0.062444228794713175, 0.01157558451944077, 0.7292618247247685, 0.15221893643064613, 0.10707415680482713, 0.11459863092313612, 0.5965708633702014, 0.12629609883235576, 0.06872262396666536, 0.029974761517375315, 0.06342220882030021, 0.06403498942760226, 0.10963566371695538, 0.10818032304814623, 0.17658133448217592, 0.08004373678450283, 0.06646055720895083, 0.39536754835981697, 0.7885490877593543, 0.09589014042725844, 0.053569910853217, 0.06106969837266738, 0.0005356991085321701, 0.9984087913488477, 0.9995278248683931, 0.9978490592234742, 0.0934819847702723, 0.0768218290686396, 0.3154322812842455, 0.2508278997301365, 0.037207681066979664, 0.1749316348671432, 0.05109114415167357, 0.8446503985163915, 0.15431991064785963, 0.998933475018224, 0.999136461520371, 0.1755511169557697, 0.5696805854152919, 0.177272206337689, 0.07710480430998512, 0.9981872036712588, 0.9991261636503422, 0.9987913665580432, 0.9987336939234773, 0.9983934204724156, 0.12640317276826693, 0.7673320808432615, 0.10614625405540365, 0.9976953096594485, 0.13626652761509653, 0.009515818967534674, 0.7635493139549823, 0.041108337939749794, 0.049482258631180304, 0.9990800267789641, 0.9987688929208731, 0.9991560034943353, 0.24475627540636133, 0.01849543642869229, 0.04253950378599227, 0.694195380623584, 0.9990531356706525, 0.9991547806075116, 0.9985965686651284, 0.07580207008532619, 0.9235476702232599, 0.14731446211632315, 0.08005012281037938, 0.19790169250343792, 0.5742484504383465, 0.9994195084340094, 0.19768284501917846, 0.8016631503081891, 0.9976796538267502, 0.9986379215634938, 0.9985404043805987, 0.9968964334536397, 0.023088393538173376, 0.5947251714832935, 0.04139987806844881, 0.15246301250207592, 0.042196029569765134, 0.051086388001130745, 0.023486469288831538, 0.07152094320158305, 0.8295976163091366, 0.023339063374425838, 0.02429384323974326, 0.02906774256633036, 0.0509215928169291, 0.01601908440699228, 0.026627749577185843, 0.00021217330340387127, 0.9996280383206855, 0.9995876101882112, 0.08603387211526062, 0.20420683438852089, 0.7090377736395617, 0.9979312872258107, 0.8595968765978983, 0.13963497649804568, 0.9990679539622107, 0.9977388494287363, 0.9981768348086274, 0.14817038492504975, 0.10250143066732893, 0.16339336967762336, 0.06021536191018003, 0.3041214065014149, 0.18876501093191267, 0.032813989355547545, 0.9992115601541002, 0.1366217010722367, 0.040365502589524475, 0.03001537372041564, 0.043988047693712576, 0.17750471010521662, 0.5257865465507291, 0.045540567024078896, 0.000517506443455442, 0.9989098358961447, 0.12924139788002573, 0.8695361249368132, 0.9981271807596136, 0.9983906166795153, 0.02183421210884174, 0.7837332978015824, 0.0815910031435665, 0.0514253153616141, 0.027580057400642198, 0.033325902692442656, 0.9993900429645654, 0.140445303634112, 0.8590026710644525, 0.9981622618661674, 0.9992508611879143, 0.9994289051007721, 0.998663407785481, 0.044176634338734956, 0.0912596261997551, 0.6486989989740554, 0.09939742726215364, 0.043014091329820876, 0.0732402095615869, 0.16255001905141328, 0.0741329341613787, 0.03760890318430919, 0.03128048197541101, 0.1815352826781078, 0.05333955018928467, 0.04158676794418805, 0.018081203453994804, 0.038512963357008934, 0.26561287873918366, 0.06925100922880009, 0.02676018111191231, 0.4212161262070003, 0.04597781659301763, 0.018687757712000715, 0.029959738554159877, 0.25302630679899385, 0.05131717593930355, 0.005635990421079581, 0.04241824369549369, 0.08898932243809865, 0.025806903507048607, 0.016907971263238744, 0.9979383732016541, 0.9983385178554098, 0.06008392428826434, 0.0963809577292686, 0.08510420947575272, 0.09215217713420014, 0.15117890627369737, 0.06995107901009073, 0.044402196248218805, 0.07030347739301311, 0.04316880190799051, 0.054269350970045205, 0.10149073428164299, 0.13162079602150575, 0.9987051755618399, 0.9992602330889864, 0.0940241111215763, 0.9046397487522535, 0.05556060671734587, 0.1158497757085084, 0.06170773767330754, 0.2588887844914627, 0.06738201240188754, 0.1193961974138709, 0.0557970348310367, 0.07423842769892171, 0.07447485581261254, 0.033572792144098355, 0.02789851741551835, 0.05532417860365504, 0.2100395281077389, 0.7895930408494629, 0.9989659031558238, 0.25330949740020864, 0.6625017624313149, 0.08362460971865862, 0.052701873429389146, 0.05089869891080973, 0.08663433936992897, 0.048685712001644094, 0.03458816576547779, 0.058357284419479113, 0.1131082198017994, 0.16163000684720902, 0.04270245109908514, 0.0029506492122208542, 0.08966695106026706, 0.25809984359120747, 0.9987405549449575, 0.0553382741477075, 0.07905467735386786, 0.012648748376618857, 0.09960889346587351, 0.7526005284088221, 0.10074287334758426, 0.04887894966123533, 0.1156677434731523, 0.0041043392845312105, 0.21267939928934457, 0.4589397563612172, 0.05932635874913295, 0.797967802138852, 0.20146356909345678, 0.31397446681770086, 0.18859192396310742, 0.06502276499277468, 0.03523145832277831, 0.053624352005993456, 0.04922041971564617, 0.040671609975560255, 0.04118971965677758, 0.04429837774408155, 0.07175819084859994, 0.09636840070642302, 0.9979930697500453, 0.039930177398059874, 0.9600603522229177, 0.9985609834211364, 0.998145218875196, 0.2779786314263757, 0.07721628650732658, 0.04753091413895436, 0.09214476856540972, 0.14465184339039178, 0.022650110708815795, 0.010123913119849485, 0.03637745053234052, 0.12062899869922351, 0.006692078163968303, 0.050447973851453366, 0.11393692053525521, 0.6500815370668636, 0.08040120490150426, 0.09483219039664605, 0.06115989090798187, 0.05085204412573774, 0.06253427047894776, 0.999025822797922, 0.9985304835182698, 0.9986453184838658, 0.9991054458675145, 0.9991350271767858, 0.9985905844639998, 0.9983985640135101, 0.9982289350123135, 0.17044435484700016, 0.10898605382043759, 0.7202912880313131, 0.9991414891325958, 0.12105772292476509, 0.09722402957583175, 0.06626929370191222, 0.7153014552649385, 0.9194855774713205, 0.08028295312917802, 0.9987774379408159, 0.021181640363222086, 0.7830884056671807, 0.08757185642705251, 0.03856955409422529, 0.05485096422416466, 0.014700690699848164, 0.9978372722068409, 0.025302301945640055, 0.022853692079932954, 0.03150544693876471, 0.16160825113666874, 0.08472190135346573, 0.09745467265514267, 0.05974608072325329, 0.11541114500366141, 0.09174124963515942, 0.07835551570262726, 0.23114877132275044, 0.903104979125219, 0.030625263044939604, 0.06601445589686981, 0.9994230366235546, 0.18426386968143585, 0.8153862735295927, 0.9982019905187947, 0.9989950666327861, 0.9994379986397725, 0.9991896896313011, 0.9996134187936235, 0.9985715042584207, 0.9956538061573179, 0.9989529735755943, 0.9990158845566413, 0.14448973488628533, 0.187346859640692, 0.05632650682007734, 0.20173460866538567, 0.008265302631207, 0.039489779237989006, 0.3615304595353877, 0.0006122446393486667, 0.9990719024433855, 0.9979459679740847, 0.9987968733527223, 0.9991028395015481, 0.9990032502984352, 0.625156518685938, 0.18993470619798464, 0.18450800030661366, 0.11904189796181713, 0.8809100449174467, 0.9989027166233077, 0.05397485054930691, 0.04797764493271725, 0.15442804462718365, 0.06109653221900713, 0.04797764493271725, 0.11657068417246144, 0.5176338097818948, 0.8342458314902891, 0.16532098908800066, 0.11885959615987074, 0.08199807583180957, 0.13540966651124514, 0.6627550899800387, 0.9987693628637503, 0.14603252835236696, 0.07977702937768195, 0.021634448644795103, 0.75112101388648, 0.06840986085205274, 0.02375911334981472, 0.41250736453902453, 0.08151833718298498, 0.1224823257171483, 0.15074747780572098, 0.051204985667704137, 0.08971113488981765, 0.9995407517226296, 0.8145975501639456, 0.0021868390608428072, 0.1826010615803744, 0.04613528277679005, 0.9532953538986726, 0.998866345271457, 0.9991628691265886, 0.15153360245960443, 0.05043581096789819, 0.0646844929902192, 0.10607352172172309, 0.09250334836713166, 0.5348909997268126, 0.9984189047421177, 0.9987347434866916, 0.9995094098258853, 0.9982014552579249, 0.9991835626240662, 0.9985312130374815, 0.998240517302549, 0.9981703519484296, 0.21012539474927344, 0.7890975124704476, 0.9978869930873911, 0.999185817070525, 0.9981336974893811, 0.9988178553666657, 0.9986749937761766, 0.9987613481764303, 0.9992674715314219, 0.9989987917092549, 0.9990101332270533, 0.9986364136928227, 0.9981762337682445, 0.04304857471812989, 0.033236031951497345, 0.0671051311782613, 0.17504310161121933, 0.3896529079266022, 0.05602645386109552, 0.23550102639918116, 0.9985572496949296, 0.9991773375231598, 0.18269013698984127, 0.05078937418389778, 0.24522929176852135, 0.06291817995915695, 0.07694211163680037, 0.03335421588196272, 0.008717579150967528, 0.31838115160055325, 0.0208463849262267, 0.9983738669069145, 0.1834452736866119, 0.03181428522676906, 0.18498467458468137, 0.1244349059272822, 0.1159682009879001, 0.06311543682084829, 0.025143548001801352, 0.23014043426138583, 0.04079412379884097, 0.23143515773031917, 0.1734896234859964, 0.04094355114269515, 0.0020818754818319567, 0.05135292855185493, 0.06141532671404272, 0.025676464275927464, 0.336222890315861, 0.06904887014742656, 0.008327501927327827, 0.9990922536043638, 0.10255769948671274, 0.6013275185731718, 0.2951300704653604, 0.9990778311392852, 0.9979412267562163, 0.999312508157496, 0.9980212535390313, 0.09890314464988334, 0.7725748499222316, 0.12263989936585534, 0.005651608265707619, 0.03376723611630305, 0.08190836328211348, 0.2972885720239384, 0.06502474522396195, 0.1263989784353506, 0.0725539262498944, 0.07323839725225188, 0.03947116113594884, 0.031029352106873076, 0.014602048050293212, 0.05065085417445458, 0.11430665739370155, 0.9988040358987686, 0.9989612724193345, 0.9973990814036143, 0.9996430105071036, 0.9985717751962102, 0.06868627073174721, 0.06701642622449243, 0.0861639765743474, 0.08705456031154996, 0.0612276319326758, 0.05432560796935598, 0.06634848842159051, 0.1270195055185147, 0.0566633902795127, 0.03462144278374941, 0.09985670153383672, 0.1909188886627982, 0.12068099713134611, 0.1414705806707797, 0.7372696211301565, 0.07201070193492992, 0.06681405334168755, 0.06042959935570408, 0.3244193478924162, 0.06815033440852131, 0.13422200937974565, 0.06933813980126242, 0.09636071248612271, 0.029101232122157247, 0.04483965357597698, 0.020489643024784183, 0.013808237690615429, 0.9977610827026663, 0.25804603232430146, 0.07846367578169337, 0.014366588523408646, 0.4707820546901602, 0.05304586531720115, 0.12543136903129856, 0.9976362387837763, 0.9987776561963874, 0.29939066174413115, 0.6995662987288609, 0.02792732275591549, 0.04047095077340296, 0.09963900745966459, 0.03739421182571735, 0.16093711418663165, 0.38530238514093573, 0.03739421182571735, 0.14034663045981258, 0.07029165134327882, 0.9968624475629428, 0.05556788287066804, 0.21574947950254678, 0.05348082623702792, 0.021131448415606154, 0.06730757643489367, 0.3216676036597826, 0.10278753920677561, 0.11322282237497619, 0.0028697028712551566, 0.045915245940082505, 0.6513390256487576, 0.09473299498349505, 0.020404029688752778, 0.07737632037812742, 0.01947657379380947, 0.027293702051188782, 0.044650376656556405, 0.014176825822704853, 0.05048009942477149, 0.9988013978805319, 0.9996197033289056, 0.9988464530400449, 0.9568583217215565, 0.0430917719943888, 0.9980588217240711, 0.5402260774331442, 0.23921675682486906, 0.10767813094930168, 0.1125725914469972, 0.9988455675980609, 0.9995796135474437, 0.9982794432260158, 0.9342141085038568, 0.06468928629028504, 0.9996373800599143, 0.16847598525646473, 0.831098052269614, 0.09038841060977902, 0.16449473378648335, 0.2669044986692801, 0.021912341966007037, 0.1141267810729533, 0.12371343068308138, 0.06421533548371507, 0.01628208743307467, 0.012021354273017749, 0.02556439896034154, 0.01749943976451951, 0.08247562045538759, 0.45648539140379985, 0.5433931870749079, 0.9994251922141597, 0.074018502168639, 0.086103155583927, 0.0546830567041782, 0.320243315505132, 0.056797871051853605, 0.0350454949043352, 0.059214801734911206, 0.16042377408794822, 0.12537827918361302, 0.027794702855162404, 0.09430761910584297, 0.16110884930581507, 0.10478624345093664, 0.03209078705684935, 0.6077602120154325, 0.0038358809108235605, 0.027887890946257776, 0.07371111696204193, 0.4088841706023817, 0.10543488881912327, 0.05442803995087484, 0.04924441709841057, 0.1422386110716196, 0.027887890946257776, 0.06075205983088126, 0.0455122086446363, 0.08263864743864942, 0.9165377261377481, 0.08050196690914889, 0.5991098761810129, 0.2924357165271123, 0.02738162139766969, 0.9984975428312945, 0.9993743659478174, 0.9982634210585447, 0.9987948518704672, 0.056963426093649315, 0.5799912474989748, 0.09321287906233525, 0.09206210277761505, 0.0966652079164958, 0.08112972807277326, 0.10477508237881003, 0.1537311252370313, 0.19490910521123614, 0.46348104126521644, 0.08281349305923413, 0.9997415325383456, 0.9980429280484211, 0.9986695529459173, 0.9777038779541588, 0.022018877251404584, 0.9981953669791447, 0.9992802033752262, 0.9986392763582153, 0.15189484069564024, 0.7569922616367692, 0.0903426830281259, 0.058376762983256725, 0.1472995065972873, 0.7941954964001205, 0.9983378983148856, 0.9990418364061994, 0.9983435178972746, 0.9979167716272603, 0.9988938622340161, 0.9978215710130417, 0.032264710161999034, 0.1882108092783277, 0.16251854007525438, 0.6166144608737593, 0.99825797212772, 0.07700301709268782, 0.7302308587216688, 0.059698968307814154, 0.13237597320428357, 0.11995512793819334, 0.1875160620643022, 0.4058252029479874, 0.10616718219817112, 0.0004595981913340741, 0.1240915116602, 0.05607097934275704, 0.8872269355341852, 0.11239701498139298, 0.9984049050558033, 0.9980283989216497, 0.8778033605942543, 0.12152655221041737, 0.9979424391727166, 0.0203374921425877, 0.02179017015277254, 0.0284309839136175, 0.1826223784232365, 0.06537051045831761, 0.10646054560354583, 0.0811424431403244, 0.2672927538740098, 0.10272508786307054, 0.06225762900792153, 0.06122000185778951, 0.10392258850011707, 0.17911860782133998, 0.7164744312853599, 0.9990689463243309, 0.9989958405719659, 0.9991553874471177, 0.998695521494586, 0.9978251177392387, 0.9979442325295924, 0.9992724016833868, 0.998948203160089, 0.07527538779451258, 0.1626553605610071, 0.14260714170116204, 0.07187097327114267, 0.4482479122437056, 0.032531072112201416, 0.0003782682803744351, 0.02383090166358941, 0.042744315682311164, 0.9997829637812952, 0.21000818577871289, 0.7894468297520959, 0.9987841731907, 0.9983842598079715, 0.9987150786568094, 0.9986812581605675, 0.9994532617056259, 0.14728047262458366, 0.1693284475683836, 0.6826053042600464, 0.9991150937732274, 0.007917927266479531, 0.32127589726715433, 0.12476733874452595, 0.028072651217518337, 0.1984280560417749, 0.146601623024818, 0.0551855536754634, 0.08445789084244833, 0.03335126939517136, 0.9987125469055567, 0.08300169507212245, 0.9130186457933469, 0.0036618394884759906, 0.9986773780230871, 0.9986502889839528, 0.08115888034713788, 0.2049194321057302, 0.5217356593744578, 0.030468283984141465, 0.0746877403859043, 0.06120619880000099, 0.025345298181498208, 0.9987662755066725, 0.0008323052295888938, 0.9987698731559184, 0.9982916023396256, 0.9974161479791294, 0.9985704275357997, 0.9995291589791276, 0.09874542763635544, 0.9009713528127594, 0.997394371066971, 0.9983582521505797, 0.9984583068235199, 0.9993790336392671, 0.9984941529535483, 0.20289551055786398, 0.11385045890237509, 0.08268469082295397, 0.6004180625912966, 0.9996401347428019, 0.07453911092656652, 0.0787682803408398, 0.10837246624075275, 0.737990062790687, 0.9981797873295651, 0.9983350466334523, 0.19359471709064774, 0.633253747492773, 0.11850891560221893, 0.05020797569406985, 0.0045232410535198065, 0.9980325314419348, 0.04380815512026667, 0.9556380740836933, 0.11219408001947385, 0.13448429459287925, 0.11962415154394232, 0.6337851010371602, 0.998538753492662, 0.9985752329205038, 0.998633764540432, 0.9993299763725848, 0.9987755853899487, 0.07126185082953604, 0.013211466726824096, 0.05925142653242322, 0.19096574632409374, 0.06525663868097963, 0.09368130951747995, 0.41235790086754, 0.04884239214159211, 0.04483891737588784, 0.9989156866239853, 0.1975406779070365, 0.8017827515050305, 0.10516222573091616, 0.15573642589158576, 0.09392351458410068, 0.6438175956961432, 0.9994765092236741, 0.6484935465777505, 0.25251818566610984, 0.03481563024964637, 0.06417820997826379, 0.9987795278657402, 0.9993757921146658, 0.9998303370423609, 0.0985133948287236, 0.9003912430582264, 0.0339350595208136, 0.8322434269366744, 0.13351498827861086, 0.9993020012478737, 0.13279546885943755, 0.08948843283889947, 0.03506720173344455, 0.019545653425198598, 0.001724616478693994, 0.1500416336463775, 0.13931068666783708, 0.02471950286128058, 0.3830564823232549, 0.024336254754904137, 0.08491289404160736, 0.18749222912542832, 0.07066576416885444, 0.6565077445364542, 0.9983404792230895, 0.9988260327535603, 0.051379270896189405, 0.056368399415921595, 0.04822824235741118, 0.5330489944766499, 0.019956514078928764, 0.01846852838006127, 0.03343591393925784, 0.08148909915562579, 0.009453085616334678, 0.05304231373610013, 0.0951435561569981, 0.11761401542429527, 0.12686455596328478, 0.11563175673736895, 0.5623007141914341, 0.07730808879012667, 0.9996642578194626, 0.9985330678623959, 0.9990964802195295, 0.8420286079742976, 0.10053243934257773, 0.057486781613020975, 0.9987569103505151, 0.07686566348761681, 0.14905254745859606, 0.15640491527045505, 0.5561063654060625, 0.061492530790093446, 0.9992235429442932, 0.9988308303589953, 0.9993977074265925, 0.9980651657148797, 0.18994754819362183, 0.09136179611102616, 0.7185711498778848, 0.9984567603426506, 0.9989936954215117, 0.812467770613971, 0.1867082798352106, 0.07578397432668679, 0.14780562368680047, 0.10803247404017052, 0.6680814190643382, 0.9974376705843263, 0.9965915338584548, 0.8501482764679319, 0.14936306735734936, 0.998697819324719, 0.998971521797367, 0.9989803312853849, 0.10422619603371241, 0.8958768535482022, 0.9982624376302607, 0.9990736202702838, 0.9991894055519371, 0.9983686748282978, 0.9982187945282264, 0.9981914004361909, 0.924755471355664, 0.07398043770845313, 0.9992692850579702, 0.9983578195609651, 0.7452132335757933, 0.15253119472094176, 0.1020585852755693, 0.9982880798086473, 0.18270926706727647, 0.8158913822487002, 0.9992640721745318, 0.998838057844154, 0.2813203983951616, 0.579436044455706, 0.13926059522546558, 0.28235862797763245, 0.7166926351314612, 0.9991462081484624, 0.9991047039072839, 0.40298084211334856, 0.028237374922431786, 0.0038287965996517677, 0.12108569246398716, 0.07442223390573124, 0.12970048481320365, 0.0478599574956471, 0.07490083348068771, 0.08184052731755653, 0.035177068759300614, 0.9987316106229007, 0.9976616900582213, 0.998235215975447, 0.9989686288880962, 0.07947840771948049, 0.920276299909774, 0.163634747419547, 0.7839440195252788, 0.0521794475189882, 0.9981997065073912, 0.012258192885788045, 0.05853287102963791, 0.05087150047602038, 0.17896961613250545, 0.03309712079162772, 0.05914578067392731, 0.11308182937139472, 0.12258192885788044, 0.31380973787617394, 0.05730705174105911, 0.6943510507376855, 0.07802248555992368, 0.0878366346869581, 0.05201499037328245, 0.08685521977425466, 0.9988026044756125, 0.0644124756957329, 0.09009042208795073, 0.15363245892293048, 0.36732519923782814, 0.115333149049792, 0.039169748733891625, 0.05353198993631855, 0.05701374537933114, 0.059625061961590585, 0.10961658367216388, 0.8896506155492195, 0.9993978590032763, 0.10477609713016901, 0.230362645331097, 0.1234150228718053, 0.04849739901707305, 0.10513801801835612, 0.04759259679660527, 0.07075553364058046, 0.06261231365637043, 0.08143219984210026, 0.03329672171321433, 0.04469722969110837, 0.047411636352511714, 0.0762351006100768, 0.9236175650836227, 0.10057563432177237, 0.11814607646232296, 0.780369981966523, 0.3096540858296796, 0.07135161541261552, 0.05555090949255164, 0.0496877544656097, 0.08804670091306038, 0.039750203572487756, 0.060022807394456514, 0.03398642405447703, 0.06320282368025552, 0.08625794175229842, 0.08436980708260526, 0.058134672724763345, 0.9993319394737875, 0.752158525187126, 0.09629711222118914, 0.1193954060310014, 0.03188215201917749, 0.12851469977581234, 0.1460018046567401, 0.10223230545773154, 0.1087511670405626, 0.12954943970959504, 0.0825722467158601, 0.039940961444012525, 0.05991144216601879, 0.07274221734492436, 0.04170001933144313, 0.0258684983445677, 0.06218787002034075, 0.9988058159688291, 0.26655377248772777, 0.7326702899861088, 0.15293220630681384, 0.36659401337894215, 0.06279824896656606, 0.012559649793313213, 0.12042487743000317, 0.023789454314393263, 0.027483468959485384, 0.022311848456356417, 0.0625027277949587, 0.08245040687845616, 0.025710341929841167, 0.04048640051020965, 0.6820327169447167, 0.2865009406127633, 0.03115166734834, 0.9992336689867922, 0.09146694839513542, 0.9081939477817871, 0.9993138140399302, 0.1991460913882727, 0.7306187844658837, 0.07021336471782262, 0.9983037744036709, 0.850434339150892, 0.1489287188126562, 0.9992126957016763, 0.8981871623187346, 0.09775020191344701, 0.0038585606018465926, 0.9994145023667229, 0.32664050224055363, 0.6727007727474899, 0.00038839536532765, 0.0964620280547562, 0.9027856471791286, 0.9991563609795183, 0.9982649735656779, 0.997519415998215, 0.054397141649232615, 0.09091550247668947, 0.05896193675266472, 0.5219082401590709, 0.12058667064899817, 0.04260475429869967, 0.1106962812582286, 0.043830196783788425, 0.6734678313509028, 0.053523413380203166, 0.22884420051535687, 0.9993460373929287, 0.04546013459740037, 0.1924479031289949, 0.6750829987713955, 0.08713192464501739, 0.9991536627364072, 0.8490508440640301, 0.06561169847612597, 0.08511787910416342, 0.9990880046122426, 0.9993603570207983, 0.9982554568764398, 0.016652676884785958, 0.03345674174125179, 0.00514719103711566, 0.6633820919012007, 0.12126176531557775, 0.025433179242218554, 0.05071497051275724, 0.028006774760776385, 0.055559385606513155, 0.998457112425858, 0.9985478716336043, 0.03919478973780955, 0.08651359043945599, 0.16148253371977536, 0.10789256666007938, 0.06527714072697009, 0.10660982808684198, 0.20395543314474715, 0.12684859224236544, 0.022946767810135774, 0.024799612415923135, 0.032638570363485046, 0.02166402923689837, 0.16173798643995288, 0.8371033622500264, 0.9987209025791981, 0.9987307832120861, 0.998422405542585, 0.9985257836593178, 0.15121150730697436, 0.25060658726926577, 0.14755161095177372, 0.018106855652045336, 0.1038254808133238, 0.025811900610362502, 0.01964786464370877, 0.13252677328305523, 0.025619274486404574, 0.10228447182166037, 0.022729882627035635, 0.11762163336342732, 0.8815912714229699, 0.9993360986914706, 0.07847901764599322, 0.08825012063353782, 0.1702963663543489, 0.06033268352626751, 0.08406250506744727, 0.10438019540662732, 0.09073167059862851, 0.06793243029435776, 0.030088793326724667, 0.16610875078825835, 0.0353620870025424, 0.023729821541179766, 0.07345923437519014, 0.06239003467481903, 0.6658291334920203, 0.021467538812840956, 0.05769401055951007, 0.050985404680497275, 0.06809234967197991, 0.9990806221781754, 0.9988999080879629, 0.04968895862335607, 0.06636091184566634, 0.5982289097417212, 0.12291479238409135, 0.1065697402053558, 0.055900078451275585, 0.9982316178115184, 0.16745681077203062, 0.11061367317051564, 0.4900800241860346, 0.23146935311607902, 0.9980625986854061, 0.15354911750368125, 0.0609321894855878, 0.7848066005743708, 0.9983774526200213, 0.04466241025634013, 0.023489899733877002, 0.04129166231246541, 0.15705578700991304, 0.05825073790508512, 0.143362123487922, 0.12334830757116579, 0.1090226288096982, 0.035182181664192465, 0.02559661719879871, 0.02380590735361526, 0.21509585316850602, 0.9975049241769434, 0.9978859949750297, 0.9995254961721453, 0.151133341351727, 0.07502882960343743, 0.11913179754237557, 0.05055706080805103, 0.25063393975055087, 0.06991933941538972, 0.06534769029976809, 0.031732623273138416, 0.013714947346864908, 0.12397236719421025, 0.03415290809905575, 0.014521708955504021, 0.997124855808843, 0.12381860903930175, 0.20071648202160494, 0.6744855808193543, 0.9990754480674422, 0.9978947380252524, 0.0956969327870181, 0.904117938717029, 0.9990437615322119, 0.9991677920920943], \"Term\": [\"\\\\u200d\", \"absolute\", \"absolutely\", \"absolutely\", \"absolutely\", \"access\", \"access\", \"access\", \"access\", \"account\", \"account\", \"account\", \"account\", \"account\", \"account\", \"account\", \"account\", \"account\", \"acct\", \"act\", \"activate\", \"actual\", \"ad\", \"add\", \"add\", \"add\", \"add\", \"add\", \"add\", \"add\", \"add\", \"address\", \"address\", \"address\", \"adobe\", \"advance\", \"advice\", \"afternoon\", \"airline\", \"airport\", \"album\", \"amazing\", \"amazon\", \"amazon\", \"amazon\", \"annoying\", \"annoying\", \"answer\", \"answer\", \"app\", \"app\", \"app\", \"app\", \"app\", \"app\", \"app\", \"app\", \"app\", \"app\", \"app\", \"app\", \"apple\", \"apple\", \"apple\", \"apple\", \"appreciate\", \"appreciate\", \"appreciate\", \"area\", \"argo\", \"arrive\", \"arrive\", \"arrive\", \"asap\", \"ass\", \"assist\", \"assistance\", \"attendant\", \"automatically\", \"awesome\", \"awful\", \"awful\", \"baby\", \"bad\", \"bad\", \"bad\", \"bad\", \"bad\", \"bad\", \"bad\", \"bad\", \"bag\", \"bag\", \"bag\", \"baggage\", \"balance\", \"ban\", \"bank\", \"bar\", \"battery\", \"believe\", \"billing\", \"birthday\", \"black\", \"black\", \"black\", \"black\", \"black\", \"block\", \"block\", \"board\", \"boarding\", \"bonus\", \"book\", \"book\", \"book\", \"book\", \"book\", \"booking\", \"booking\", \"bowl\", \"branch\", \"bring\", \"bring\", \"bug\", \"bullshit\", \"bundle\", \"burrito\", \"busy\", \"buy\", \"buy\", \"buy\", \"buy\", \"buy\", \"buy\", \"buy\", \"buy\", \"buy\", \"buy\", \"buy\", \"buy\", \"cable\", \"cable\", \"cancel\", \"cancel\", \"cancel\", \"cancel\", \"cancel\", \"cancel\", \"cancel\", \"cancellation\", \"car\", \"car\", \"car\", \"card\", \"card\", \"card\", \"card\", \"care\", \"care\", \"care\", \"care\", \"care\", \"carriage\", \"carry\", \"cash\", \"chance\", \"chance\", \"chance\", \"chance\", \"change\", \"change\", \"change\", \"change\", \"change\", \"change\", \"change\", \"change\", \"change\", \"change\", \"change\", \"change\", \"channel\", \"channel\", \"charge\", \"charge\", \"charge\", \"charge\", \"charge\", \"charge\", \"charger\", \"chase\", \"chat\", \"chat\", \"cheat\", \"check\", \"check\", \"check\", \"check\", \"check\", \"check\", \"check\", \"check\", \"chicken\", \"chip\", \"chipotle\", \"city\", \"claim\", \"claim\", \"claim\", \"class\", \"click\", \"click\", \"coach\", \"cod\", \"code\", \"code\", \"cold\", \"collect\", \"collection\", \"com\", \"comcast\", \"come\", \"come\", \"come\", \"come\", \"come\", \"come\", \"come\", \"come\", \"come\", \"come\", \"come\", \"come\", \"commercial\", \"company\", \"company\", \"company\", \"company\", \"complaint\", \"condition\", \"confirmation\", \"connect\", \"connect\", \"connect\", \"connect\", \"connection\", \"connection\", \"connection\", \"consider\", \"contact\", \"contact\", \"contact\", \"contact\", \"contact\", \"contact\", \"contact\", \"contact\", \"continue\", \"continue\", \"contract\", \"control\", \"cool\", \"cool\", \"cost\", \"cost\", \"cost\", \"count\", \"country\", \"couple\", \"coupon\", \"courier\", \"crap\", \"crash\", \"crazy\", \"credit\", \"credit\", \"credit\", \"crew\", \"customer\", \"customer\", \"customer\", \"customer\", \"customer\", \"customer\", \"customer\", \"customer\", \"customer\", \"customer\", \"customerservice\", \"damage\", \"damn\", \"damn\", \"date\", \"date\", \"date\", \"date\", \"daughter\", \"day\", \"day\", \"day\", \"day\", \"day\", \"day\", \"day\", \"day\", \"day\", \"day\", \"day\", \"day\", \"dead\", \"deal\", \"deal\", \"deal\", \"deal\", \"deal\", \"deal\", \"deal\", \"deal\", \"debit\", \"delay\", \"delay\", \"delay\", \"delete\", \"delete\", \"deliver\", \"delivery\", \"delivery\", \"delivery\", \"delta\", \"demand\", \"deposit\", \"destination\", \"device\", \"die\", \"difference\", \"difficult\", \"direct\", \"disappear\", \"disappoint\", \"disconnect\", \"disgusting\", \"dm\", \"dog\", \"dollar\", \"door\", \"door\", \"double\", \"download\", \"download\", \"download\", \"drive\", \"drive\", \"drive\", \"drive\", \"driver\", \"driver\", \"driver\", \"driver\", \"driver\", \"driver\", \"drop\", \"drop\", \"drop\", \"drop\", \"drop\", \"drop\", \"drop\", \"early\", \"early\", \"early\", \"early\", \"early\", \"easy\", \"eat\", \"echo\", \"email\", \"email\", \"email\", \"email\", \"email\", \"email\", \"email\", \"employee\", \"employee\", \"entire\", \"episode\", \"error\", \"error\", \"error\", \"error\", \"eta\", \"evening\", \"excellent\", \"excuse\", \"exist\", \"expect\", \"expect\", \"expect\", \"expensive\", \"experience\", \"experience\", \"experience\", \"experience\", \"experience\", \"extremely\", \"fact\", \"fake\", \"family\", \"family\", \"family\", \"family\", \"fare\", \"fault\", \"feature\", \"fee\", \"fee\", \"feel\", \"feel\", \"feel\", \"feel\", \"figure\", \"file\", \"file\", \"final\", \"finally\", \"finish\", \"fit\", \"fix\", \"fix\", \"fix\", \"fix\", \"fix\", \"fix\", \"fix\", \"fix\", \"flight\", \"flight\", \"flight\", \"flight\", \"flight\", \"flight\", \"flight\", \"flight\", \"fly\", \"follow\", \"food\", \"food\", \"food\", \"forever\", \"forget\", \"forget\", \"form\", \"forward\", \"fraud\", \"free\", \"free\", \"free\", \"free\", \"free\", \"free\", \"free\", \"freeze\", \"friend\", \"friend\", \"friend\", \"friend\", \"friend\", \"friend\", \"friend\", \"friend\", \"frustrated\", \"frustrating\", \"frustrating\", \"fun\", \"future\", \"game\", \"game\", \"game\", \"game\", \"game\", \"game\", \"gate\", \"gift\", \"gift\", \"girl\", \"glad\", \"glitch\", \"gold\", \"gon\", \"gon\", \"gon\", \"gon\", \"gon\", \"gon\", \"good\", \"good\", \"good\", \"good\", \"good\", \"good\", \"good\", \"good\", \"good\", \"good\", \"good\", \"good\", \"great\", \"great\", \"great\", \"great\", \"great\", \"great\", \"great\", \"great\", \"great\", \"great\", \"great\", \"group\", \"guarantee\", \"guy\", \"guy\", \"guy\", \"guy\", \"guy\", \"guy\", \"guy\", \"guy\", \"guy\", \"guy\", \"guy\", \"guy\", \"halloween\", \"handle\", \"hang\", \"hang\", \"happen\", \"happen\", \"happen\", \"happen\", \"happen\", \"happen\", \"happen\", \"happen\", \"happen\", \"happen\", \"happen\", \"happen\", \"hate\", \"hate\", \"head\", \"hell\", \"hell\", \"hell\", \"help\", \"help\", \"help\", \"help\", \"help\", \"help\", \"help\", \"help\", \"help\", \"help\", \"help\", \"help\", \"helpful\", \"high\", \"high\", \"high\", \"high\", \"high\", \"hold\", \"hold\", \"hold\", \"hold\", \"hold\", \"hold\", \"hold\", \"holiday\", \"holiday\", \"home\", \"home\", \"home\", \"home\", \"home\", \"home\", \"home\", \"home\", \"home\", \"home\", \"home\", \"honestly\", \"horrible\", \"horrible\", \"host\", \"hot\", \"hour\", \"hour\", \"hour\", \"hour\", \"hour\", \"hour\", \"hour\", \"hour\", \"hour\", \"hour\", \"hour\", \"hour\", \"house\", \"house\", \"house\", \"house\", \"house\", \"house\", \"hrs\", \"huge\", \"hulu\", \"ignore\", \"imessage\", \"immediately\", \"impossible\", \"incorrect\", \"information\", \"information\", \"information\", \"international\", \"internet\", \"internet\", \"internet\", \"internet\", \"io\", \"io\", \"ipad\", \"iphone\", \"iphone\", \"iphone\", \"iphone\", \"iphone\", \"iphone\", \"iphonex\", \"issue\", \"issue\", \"issue\", \"issue\", \"issue\", \"issue\", \"issue\", \"issue\", \"issue\", \"issue\", \"issue\", \"item\", \"item\", \"item\", \"i\\ufe0f\", \"job\", \"job\", \"journey\", \"kick\", \"kill\", \"kindle\", \"kindly\", \"la\", \"label\", \"laptop\", \"large\", \"late\", \"late\", \"late\", \"late\", \"late\", \"late\", \"late\", \"late\", \"lately\", \"launch\", \"letter\", \"level\", \"lie\", \"life\", \"life\", \"life\", \"light\", \"light\", \"limit\", \"line\", \"line\", \"line\", \"line\", \"line\", \"line\", \"line\", \"link\", \"link\", \"list\", \"list\", \"list\", \"list\", \"listen\", \"little\", \"little\", \"little\", \"little\", \"live\", \"live\", \"live\", \"live\", \"live\", \"live\", \"live\", \"live\", \"load\", \"location\", \"location\", \"location\", \"log\", \"log\", \"login\", \"lol\", \"love\", \"love\", \"love\", \"love\", \"love\", \"love\", \"lovely\", \"loyal\", \"luggage\", \"lunch\", \"lyft\", \"macbook\", \"machine\", \"mad\", \"mail\", \"mail\", \"major\", \"manager\", \"map\", \"match\", \"matter\", \"mbps\", \"mcdonald\", \"mcdonalds\", \"meal\", \"meet\", \"membership\", \"message\", \"message\", \"message\", \"message\", \"message\", \"message\", \"message\", \"middle\", \"mile\", \"min\", \"min\", \"min\", \"min\", \"min\", \"min\", \"min\", \"min\", \"min\", \"mind\", \"minute\", \"minute\", \"minute\", \"minute\", \"minute\", \"minute\", \"minute\", \"minute\", \"minute\", \"miss\", \"miss\", \"miss\", \"miss\", \"miss\", \"miss\", \"miss\", \"miss\", \"miss\", \"miss\", \"mistake\", \"mobile\", \"mobile\", \"mobile\", \"mobilecare\", \"mobilecarexi\", \"modem\", \"moment\", \"money\", \"money\", \"money\", \"money\", \"month\", \"month\", \"month\", \"month\", \"month\", \"month\", \"month\", \"month\", \"month\", \"month\", \"month\", \"month\", \"monthly\", \"movie\", \"mpesa\", \"music\", \"nearly\", \"need\", \"need\", \"need\", \"need\", \"need\", \"need\", \"need\", \"need\", \"need\", \"need\", \"need\", \"need\", \"network\", \"network\", \"network\", \"new\", \"new\", \"new\", \"new\", \"new\", \"new\", \"new\", \"new\", \"new\", \"new\", \"new\", \"new\", \"news\", \"nice\", \"nice\", \"nice\", \"nice\", \"nice\", \"nice\", \"non\", \"normal\", \"notification\", \"notification\", \"number\", \"number\", \"number\", \"number\", \"number\", \"number\", \"number\", \"number\", \"number\", \"omg\", \"online\", \"online\", \"online\", \"online\", \"online\", \"online\", \"online\", \"online\", \"online\", \"online\", \"order\", \"order\", \"order\", \"order\", \"order\", \"order\", \"order\", \"order\", \"order\", \"original\", \"outage\", \"pack\", \"package\", \"package\", \"packaging\", \"page\", \"page\", \"page\", \"page\", \"paper\", \"parcel\", \"party\", \"passenger\", \"passenger\", \"password\", \"past\", \"past\", \"pay\", \"pay\", \"pay\", \"pay\", \"pay\", \"pay\", \"pay\", \"pay\", \"pay\", \"pay\", \"pay\", \"pay\", \"payment\", \"payment\", \"paypal\", \"people\", \"people\", \"people\", \"people\", \"people\", \"people\", \"people\", \"people\", \"people\", \"people\", \"person\", \"person\", \"person\", \"person\", \"person\", \"phone\", \"phone\", \"phone\", \"phone\", \"phone\", \"phone\", \"phone\", \"phone\", \"phone\", \"phone\", \"phone\", \"photo\", \"photo\", \"pick\", \"pick\", \"pick\", \"pick\", \"picture\", \"pie\", \"pilot\", \"piss\", \"place\", \"place\", \"place\", \"place\", \"place\", \"place\", \"plan\", \"plan\", \"plan\", \"plan\", \"plan\", \"plane\", \"plastic\", \"platform\", \"play\", \"play\", \"player\", \"playlist\", \"playstation\", \"pm\", \"pm\", \"pm\", \"poor\", \"poor\", \"poor\", \"pop\", \"por\", \"port\", \"post\", \"pour\", \"pre\", \"premium\", \"premium\", \"premium\", \"premium\", \"present\", \"pretty\", \"pretty\", \"pretty\", \"pretty\", \"price\", \"price\", \"price\", \"price\", \"price\", \"price\", \"price\", \"prime\", \"prime\", \"print\", \"priority\", \"pro\", \"pro\", \"probably\", \"problem\", \"problem\", \"problem\", \"problem\", \"problem\", \"problem\", \"problem\", \"problem\", \"problem\", \"problem\", \"problem\", \"process\", \"process\", \"process\", \"product\", \"promise\", \"promo\", \"promotion\", \"properly\", \"provider\", \"ps\", \"pull\", \"purchase\", \"purchase\", \"purchase\", \"purchase\", \"purchase\", \"purchase\", \"purchase\", \"purchase\", \"purchase\", \"que\", \"question\", \"question\", \"quick\", \"raise\", \"rate\", \"rd\", \"read\", \"ready\", \"ready\", \"ready\", \"real\", \"receive\", \"receive\", \"receive\", \"receive\", \"receive\", \"receive\", \"receive\", \"receive\", \"receive\", \"recent\", \"recently\", \"recently\", \"recently\", \"red\", \"redeem\", \"refund\", \"refund\", \"refund\", \"refund\", \"refund\", \"refund\", \"refund\", \"regard\", \"regard\", \"regular\", \"remember\", \"remote\", \"rep\", \"reply\", \"report\", \"report\", \"representative\", \"reschedule\", \"reservation\", \"reset\", \"resolution\", \"resolve\", \"resolve\", \"resolve\", \"resolve\", \"respond\", \"response\", \"response\", \"response\", \"response\", \"restore\", \"result\", \"return\", \"return\", \"return\", \"return\", \"return\", \"reward\", \"ride\", \"ride\", \"ridiculous\", \"ridiculous\", \"ridiculous\", \"ridiculous\", \"ring\", \"road\", \"roll\", \"route\", \"router\", \"run\", \"run\", \"run\", \"run\", \"run\", \"run\", \"run\", \"run\", \"run\", \"safe\", \"sale\", \"sale\", \"save\", \"save\", \"save\", \"save\", \"scam\", \"screen\", \"screen\", \"screen\", \"screen\", \"search\", \"season\", \"seat\", \"security\", \"security\", \"sell\", \"sell\", \"sell\", \"seller\", \"send\", \"send\", \"send\", \"send\", \"send\", \"send\", \"send\", \"send\", \"send\", \"send\", \"seriously\", \"seriously\", \"seriously\", \"seriously\", \"serve\", \"server\", \"service\", \"service\", \"service\", \"service\", \"service\", \"service\", \"service\", \"service\", \"service\", \"service\", \"service\", \"set\", \"set\", \"set\", \"set\", \"set\", \"ship\", \"shipment\", \"shipping\", \"shit\", \"shit\", \"shit\", \"shitty\", \"shop\", \"shop\", \"shop\", \"shop\", \"shop\", \"shopping\", \"short\", \"shut\", \"sierra\", \"sign\", \"sign\", \"sign\", \"sim\", \"simple\", \"sit\", \"sit\", \"site\", \"site\", \"site\", \"site\", \"situation\", \"size\", \"slow\", \"slow\", \"small\", \"smh\", \"software\", \"solution\", \"solution\", \"solve\", \"song\", \"soon\", \"southwest\", \"space\", \"special\", \"spectrum\", \"spectrum\", \"speed\", \"spot\", \"spotify\", \"spotify\", \"spotify\", \"sprint\", \"stand\", \"stand\", \"state\", \"station\", \"status\", \"status\", \"status\", \"steal\", \"steal\", \"step\", \"stock\", \"store\", \"store\", \"store\", \"store\", \"store\", \"store\", \"store\", \"store\", \"store\", \"store\", \"stream\", \"streaming\", \"street\", \"student\", \"stupid\", \"stupid\", \"suck\", \"suck\", \"suck\", \"supervisor\", \"support\", \"support\", \"support\", \"support\", \"support\", \"support\", \"support\", \"support\", \"support\", \"support\", \"suppose\", \"suppose\", \"suppose\", \"suppose\", \"suppose\", \"surprise\", \"switch\", \"switch\", \"switch\", \"switch\", \"switch\", \"switch\", \"switch\", \"switch\", \"switch\", \"talk\", \"talk\", \"target\", \"tell\", \"tell\", \"tell\", \"tell\", \"tell\", \"tell\", \"tell\", \"tell\", \"tell\", \"tell\", \"tell\", \"tell\", \"terrible\", \"terrible\", \"text\", \"text\", \"text\", \"thank\", \"thank\", \"thank\", \"thank\", \"thank\", \"thank\", \"thank\", \"thank\", \"thank\", \"thank\", \"thank\", \"thank\", \"throw\", \"ticket\", \"ticket\", \"ticket\", \"ticket\", \"time\", \"time\", \"time\", \"time\", \"time\", \"time\", \"time\", \"time\", \"time\", \"time\", \"time\", \"time\", \"tired\", \"tmobile\", \"tmobile\", \"today\", \"today\", \"today\", \"today\", \"today\", \"today\", \"today\", \"today\", \"today\", \"today\", \"today\", \"today\", \"tomorrow\", \"tomorrow\", \"tomorrow\", \"totally\", \"track\", \"track\", \"tracking\", \"train\", \"train\", \"train\", \"transaction\", \"transfer\", \"transfer\", \"trash\", \"travel\", \"travel\", \"travel\", \"treat\", \"trip\", \"trip\", \"trip\", \"trouble\", \"trouble\", \"truck\", \"true\", \"trust\", \"turn\", \"turn\", \"turn\", \"turn\", \"turn\", \"turn\", \"turn\", \"tv\", \"tv\", \"tv\", \"tv\", \"tweet\", \"twice\", \"twice\", \"twice\", \"twice\", \"type\", \"uber\", \"uber\", \"uber\", \"unavailable\", \"understand\", \"unlock\", \"update\", \"update\", \"update\", \"update\", \"update\", \"update\", \"update\", \"update\", \"update\", \"upload\", \"urgent\", \"use\", \"use\", \"use\", \"use\", \"use\", \"use\", \"use\", \"use\", \"use\", \"use\", \"use\", \"use\", \"user\", \"user\", \"valid\", \"video\", \"visit\", \"vous\", \"wait\", \"wait\", \"wait\", \"wait\", \"wait\", \"wait\", \"wait\", \"wait\", \"wait\", \"wait\", \"wait\", \"walk\", \"walk\", \"wanna\", \"want\", \"want\", \"want\", \"want\", \"want\", \"want\", \"want\", \"want\", \"want\", \"want\", \"want\", \"want\", \"watch\", \"watch\", \"watch\", \"watch\", \"watch\", \"watch\", \"watch\", \"waterloo\", \"web\", \"website\", \"website\", \"website\", \"website\", \"website\", \"website\", \"weekend\", \"wifi\", \"wifi\", \"wifi\", \"wifi\", \"win\", \"wonder\", \"wonder\", \"wonder\", \"word\", \"work\", \"work\", \"work\", \"work\", \"work\", \"work\", \"work\", \"work\", \"work\", \"work\", \"work\", \"work\", \"worth\", \"write\", \"x\", \"year\", \"year\", \"year\", \"year\", \"year\", \"year\", \"year\", \"year\", \"year\", \"year\", \"year\", \"year\", \"yr\", \"\\u00a3\", \"\\u00a3\", \"\\u00a3\", \"\\u2642\", \"\\u2764\", \"\\ufe0f\", \"\\ufe0f\", \"\\ud83e\\udd14\", \"\\ud83e\\udd2c\"]}, \"R\": 30, \"lambda.step\": 0.01, \"plot.opts\": {\"xlab\": \"PC1\", \"ylab\": \"PC2\"}, \"topic.order\": [2, 9, 8, 5, 12, 3, 10, 4, 6, 7, 1, 11]};\n",
       "\n",
       "function LDAvis_load_lib(url, callback){\n",
       "  var s = document.createElement('script');\n",
       "  s.src = url;\n",
       "  s.async = true;\n",
       "  s.onreadystatechange = s.onload = callback;\n",
       "  s.onerror = function(){console.warn(\"failed to load library \" + url);};\n",
       "  document.getElementsByTagName(\"head\")[0].appendChild(s);\n",
       "}\n",
       "\n",
       "if(typeof(LDAvis) !== \"undefined\"){\n",
       "   // already loaded: just create the visualization\n",
       "   !function(LDAvis){\n",
       "       new LDAvis(\"#\" + \"ldavis_el1719614701746709123551094870\", ldavis_el1719614701746709123551094870_data);\n",
       "   }(LDAvis);\n",
       "}else if(typeof define === \"function\" && define.amd){\n",
       "   // require.js is available: use it to load d3/LDAvis\n",
       "   require.config({paths: {d3: \"https://d3js.org/d3.v5\"}});\n",
       "   require([\"d3\"], function(d3){\n",
       "      window.d3 = d3;\n",
       "      LDAvis_load_lib(\"https://cdn.jsdelivr.net/gh/bmabey/pyLDAvis@3.3.1/pyLDAvis/js/ldavis.v3.0.0.js\", function(){\n",
       "        new LDAvis(\"#\" + \"ldavis_el1719614701746709123551094870\", ldavis_el1719614701746709123551094870_data);\n",
       "      });\n",
       "    });\n",
       "}else{\n",
       "    // require.js not available: dynamically load d3 & LDAvis\n",
       "    LDAvis_load_lib(\"https://d3js.org/d3.v5.js\", function(){\n",
       "         LDAvis_load_lib(\"https://cdn.jsdelivr.net/gh/bmabey/pyLDAvis@3.3.1/pyLDAvis/js/ldavis.v3.0.0.js\", function(){\n",
       "                 new LDAvis(\"#\" + \"ldavis_el1719614701746709123551094870\", ldavis_el1719614701746709123551094870_data);\n",
       "            })\n",
       "         });\n",
       "}\n",
       "</script>"
      ],
      "text/plain": [
       "<IPython.core.display.HTML object>"
      ]
     },
     "execution_count": 31,
     "metadata": {},
     "output_type": "execute_result"
    }
   ],
   "source": [
    "%matplotlib inline\n",
    "import pyLDAvis\n",
    "import pyLDAvis.gensim_models as gensimvis\n",
    "vis = gensimvis.prepare(topic_model=lda_model, corpus=corpus_tfidf, dictionary=dictionary)\n",
    "pyLDAvis.enable_notebook()\n",
    "pyLDAvis.display(vis)"
   ]
  },
  {
   "cell_type": "code",
   "execution_count": 63,
   "metadata": {},
   "outputs": [],
   "source": [
    "#lda_model.save('lda.model')"
   ]
  },
  {
   "cell_type": "code",
   "execution_count": 297,
   "metadata": {},
   "outputs": [],
   "source": [
    "#lda_model = gensim.models.LdaMulticore.load('lda.model')"
   ]
  },
  {
   "cell_type": "markdown",
   "metadata": {},
   "source": [
    "Deciding on topics based on most relevant words:"
   ]
  },
  {
   "cell_type": "code",
   "execution_count": 39,
   "metadata": {},
   "outputs": [],
   "source": [
    "dictionary_topics = {4: 'Phone problems (mostly iPhone): battery, glitch, crash, freeze', \n",
    "                     5: 'Train problems (late etc.)',\n",
    "                     3: 'Problems with account/password/logging', \n",
    "                     9: 'Problem with websites',\n",
    "                     8: 'Problems with package delivery', \n",
    "                     11:'Bad customer service', \n",
    "                     7: 'Problems with taxi rides (Uber, Lyft)', \n",
    "                     6: 'Food category ',\n",
    "                     10: 'Internet problems (outage etc.)', \n",
    "                     0: 'General questions, customer support',\n",
    "                     2: 'Problems with apps (download, speed) and games',\n",
    "                     1: 'Problems with travel (mostly airlines delays etc.)',\n",
    "                     -1: 'Unknown'}"
   ]
  },
  {
   "cell_type": "markdown",
   "metadata": {},
   "source": [
    "Applying model to small test dataset to test it on unseen tweets:"
   ]
  },
  {
   "cell_type": "code",
   "execution_count": 84,
   "metadata": {},
   "outputs": [],
   "source": [
    "data_test['lemma_text_new'] = data_test[\"lemma_text\"].apply(lambda x: lemma(x))"
   ]
  },
  {
   "cell_type": "code",
   "execution_count": 85,
   "metadata": {},
   "outputs": [],
   "source": [
    "data_test['lemma_text_new'] = data_test[\"lemma_text_new\"].apply(lambda x: remove_more_stop(x))"
   ]
  },
  {
   "cell_type": "code",
   "execution_count": 86,
   "metadata": {},
   "outputs": [],
   "source": [
    "def topic_prediction(text):\n",
    "    corpus = dictionary.doc2bow(text)\n",
    "    corpus_tfidf = tfidf[corpus]\n",
    "    topics = sorted(lda_model.get_document_topics(corpus_tfidf, minimum_probability= 0.2),key=lambda x:x[1],reverse=True)\n",
    "    if topics:\n",
    "        return topics[0][0]\n",
    "    else:\n",
    "        return -1"
   ]
  },
  {
   "cell_type": "code",
   "execution_count": 87,
   "metadata": {},
   "outputs": [],
   "source": [
    "data_test['topic']= data_test[\"lemma_text_new\"].apply(lambda x: topic_prediction(x))"
   ]
  },
  {
   "cell_type": "code",
   "execution_count": 88,
   "metadata": {},
   "outputs": [],
   "source": [
    "data_test['topic_name'] = data_test.topic.apply(lambda x: dictionary_topics.get(x))"
   ]
  },
  {
   "cell_type": "code",
   "execution_count": 89,
   "metadata": {},
   "outputs": [
    {
     "data": {
      "text/html": [
       "<div>\n",
       "<style scoped>\n",
       "    .dataframe tbody tr th:only-of-type {\n",
       "        vertical-align: middle;\n",
       "    }\n",
       "\n",
       "    .dataframe tbody tr th {\n",
       "        vertical-align: top;\n",
       "    }\n",
       "\n",
       "    .dataframe thead th {\n",
       "        text-align: right;\n",
       "    }\n",
       "</style>\n",
       "<table border=\"1\" class=\"dataframe\">\n",
       "  <thead>\n",
       "    <tr style=\"text-align: right;\">\n",
       "      <th></th>\n",
       "      <th>tweet_id</th>\n",
       "      <th>text</th>\n",
       "      <th>lemma_text</th>\n",
       "      <th>lemma_text_new</th>\n",
       "      <th>topic</th>\n",
       "      <th>topic_name</th>\n",
       "    </tr>\n",
       "  </thead>\n",
       "  <tbody>\n",
       "    <tr>\n",
       "      <th>0</th>\n",
       "      <td>632</td>\n",
       "      <td>@115830 my package was ‘accidentally’ opened.. 4 items missing worth £97.\\nYou need better delivery drivers!! https://t.co/f6SaVBSMqM</td>\n",
       "      <td>['package', 'accidentally', 'open', 'item', 'miss', 'worth', 'need', 'well', 'delivery', 'driver']</td>\n",
       "      <td>[package, accidentally, open, item, miss, worth, need, delivery, driver]</td>\n",
       "      <td>8</td>\n",
       "      <td>Problems with package delivery</td>\n",
       "    </tr>\n",
       "    <tr>\n",
       "      <th>1</th>\n",
       "      <td>634</td>\n",
       "      <td>@115821 @AmazonHelp why is my order at my local courier for the last 6 days and still hasn’t been delivered to me?? Over 1 week late 😡</td>\n",
       "      <td>['why', 'order', 'local', 'courier', 'last', 'day', 'still', 'deliver', 'week', 'late']</td>\n",
       "      <td>[order, local, courier, day, deliver, week, late]</td>\n",
       "      <td>8</td>\n",
       "      <td>Problems with package delivery</td>\n",
       "    </tr>\n",
       "    <tr>\n",
       "      <th>2</th>\n",
       "      <td>664</td>\n",
       "      <td>@AmazonHelp delivery I paid for today,didn’t arrive.why not?i paid enough for it.where is it??I’m unhappy.refund the delivery charge</td>\n",
       "      <td>['delivery', 'pay', 'todaydidnt', 'pay', 'enough', 'itwhere', 'itim', 'unhappyrefund', 'delivery', 'charge']</td>\n",
       "      <td>[delivery, pay, todaydidnt, pay, itwhere, itim, unhappyrefund, delivery, charge]</td>\n",
       "      <td>8</td>\n",
       "      <td>Problems with package delivery</td>\n",
       "    </tr>\n",
       "    <tr>\n",
       "      <th>3</th>\n",
       "      <td>784</td>\n",
       "      <td>1 hour+ inside an old Altima that smells and has ripped stain seats, with an inexperienced miami driver @115873 standards down now 4 applying!</td>\n",
       "      <td>['hour', 'old', 'altima', 'smell', 'rip', 'stain', 'seat', 'inexperienced', 'driver', 'standard', 'down', 'now', 'apply']</td>\n",
       "      <td>[hour, old, altima, smell, rip, stain, seat, inexperienced, driver, standard, apply]</td>\n",
       "      <td>1</td>\n",
       "      <td>Problems with airlines - delays etc.</td>\n",
       "    </tr>\n",
       "    <tr>\n",
       "      <th>4</th>\n",
       "      <td>2410</td>\n",
       "      <td>.@115873 I️t took our driver over 5 minutes to start moving for our ride. We have a flight to catch. If they can’t do the ride then they shouldn’t accept I️t. #CustomerService</td>\n",
       "      <td>['i️t', 'take', 'driver', 'minute', 'start', 'move', 'ride', 'have', 'flight', 'catch', 'do', 'ride', 'then', 'accept', 'i️t', 'customerservice']</td>\n",
       "      <td>[i️t, driver, minute, start, ride, flight, catch, ride, accept, i️t, customerservice]</td>\n",
       "      <td>7</td>\n",
       "      <td>Problems with taxi rides (Uber, Lyft)</td>\n",
       "    </tr>\n",
       "    <tr>\n",
       "      <th>5</th>\n",
       "      <td>2037</td>\n",
       "      <td>@115911 once again you are being slow 😑</td>\n",
       "      <td>['once', 'again', 'be', 'slow']</td>\n",
       "      <td>[slow]</td>\n",
       "      <td>4</td>\n",
       "      <td>Phone problems (mostly iPhone): battery, glitch, crash, freeze</td>\n",
       "    </tr>\n",
       "    <tr>\n",
       "      <th>6</th>\n",
       "      <td>4081</td>\n",
       "      <td>@115911 how much for the iPhone x with the jump? I’m not spending $200 plus on a phone 😂 sry</td>\n",
       "      <td>['how', 'much', 'iphone', 'jump', 'spend', 'phone', 'sry']</td>\n",
       "      <td>[iphone, jump, spend, phone, sry]</td>\n",
       "      <td>4</td>\n",
       "      <td>Phone problems (mostly iPhone): battery, glitch, crash, freeze</td>\n",
       "    </tr>\n",
       "    <tr>\n",
       "      <th>7</th>\n",
       "      <td>3794</td>\n",
       "      <td>@UPSHelp I’m having trouble with My Choice account. Please Help!</td>\n",
       "      <td>['have', 'trouble', 'choice', 'account', 'help']</td>\n",
       "      <td>[trouble, choice, account, help]</td>\n",
       "      <td>3</td>\n",
       "      <td>Problems with account/password/logging</td>\n",
       "    </tr>\n",
       "    <tr>\n",
       "      <th>8</th>\n",
       "      <td>5741</td>\n",
       "      <td>@115817 I used UPS My Choice to hold two packages that were going to arrive on Friday until Monday.  They're still not here.  Where'd they go?</td>\n",
       "      <td>['use', 'up', 'choice', 'hold', 'package', 'go', 'arrive', 're', 'still', 'here', 'where', 'go']</td>\n",
       "      <td>[use, choice, hold, package, arrive]</td>\n",
       "      <td>8</td>\n",
       "      <td>Problems with package delivery</td>\n",
       "    </tr>\n",
       "    <tr>\n",
       "      <th>9</th>\n",
       "      <td>7780</td>\n",
       "      <td>@AskPayPal \\nBeen having an issue for a couple hours now trying to signup and now access my new account. Help? https://t.co/4xiV4wgMw4</td>\n",
       "      <td>['have', 'issue', 'couple', 'hour', 'now', 'try', 'signup', 'now', 'access', 'new', 'account', 'help']</td>\n",
       "      <td>[issue, couple, hour, signup, access, new, account, help]</td>\n",
       "      <td>3</td>\n",
       "      <td>Problems with account/password/logging</td>\n",
       "    </tr>\n",
       "    <tr>\n",
       "      <th>10</th>\n",
       "      <td>7782</td>\n",
       "      <td>@AskPayPal Your customer service is the most horrible I've experience. Jeez!</td>\n",
       "      <td>['customer', 'service', 'most', 'horrible', 'experience', 'jeez']</td>\n",
       "      <td>[customer, service, horrible, experience, jeez]</td>\n",
       "      <td>11</td>\n",
       "      <td>Bad customer service</td>\n",
       "    </tr>\n",
       "  </tbody>\n",
       "</table>\n",
       "</div>"
      ],
      "text/plain": [
       "    tweet_id                                                                                                                                                                             text                                                                                                                                         lemma_text                                                                         lemma_text_new  topic                                                      topic_name\n",
       "0        632                                            @115830 my package was ‘accidentally’ opened.. 4 items missing worth £97.\\nYou need better delivery drivers!! https://t.co/f6SaVBSMqM                                                 ['package', 'accidentally', 'open', 'item', 'miss', 'worth', 'need', 'well', 'delivery', 'driver']               [package, accidentally, open, item, miss, worth, need, delivery, driver]      8                                  Problems with package delivery\n",
       "1        634                                           @115821 @AmazonHelp why is my order at my local courier for the last 6 days and still hasn’t been delivered to me?? Over 1 week late 😡                                                            ['why', 'order', 'local', 'courier', 'last', 'day', 'still', 'deliver', 'week', 'late']                                      [order, local, courier, day, deliver, week, late]      8                                  Problems with package delivery\n",
       "2        664                                             @AmazonHelp delivery I paid for today,didn’t arrive.why not?i paid enough for it.where is it??I’m unhappy.refund the delivery charge                                       ['delivery', 'pay', 'todaydidnt', 'pay', 'enough', 'itwhere', 'itim', 'unhappyrefund', 'delivery', 'charge']       [delivery, pay, todaydidnt, pay, itwhere, itim, unhappyrefund, delivery, charge]      8                                  Problems with package delivery\n",
       "3        784                                   1 hour+ inside an old Altima that smells and has ripped stain seats, with an inexperienced miami driver @115873 standards down now 4 applying!                          ['hour', 'old', 'altima', 'smell', 'rip', 'stain', 'seat', 'inexperienced', 'driver', 'standard', 'down', 'now', 'apply']   [hour, old, altima, smell, rip, stain, seat, inexperienced, driver, standard, apply]      1                            Problems with airlines - delays etc.\n",
       "4       2410  .@115873 I️t took our driver over 5 minutes to start moving for our ride. We have a flight to catch. If they can’t do the ride then they shouldn’t accept I️t. #CustomerService  ['i️t', 'take', 'driver', 'minute', 'start', 'move', 'ride', 'have', 'flight', 'catch', 'do', 'ride', 'then', 'accept', 'i️t', 'customerservice']  [i️t, driver, minute, start, ride, flight, catch, ride, accept, i️t, customerservice]      7                           Problems with taxi rides (Uber, Lyft)\n",
       "5       2037                                                                                                                                          @115911 once again you are being slow 😑                                                                                                                    ['once', 'again', 'be', 'slow']                                                                                 [slow]      4  Phone problems (mostly iPhone): battery, glitch, crash, freeze\n",
       "6       4081                                                                                     @115911 how much for the iPhone x with the jump? I’m not spending $200 plus on a phone 😂 sry                                                                                         ['how', 'much', 'iphone', 'jump', 'spend', 'phone', 'sry']                                                      [iphone, jump, spend, phone, sry]      4  Phone problems (mostly iPhone): battery, glitch, crash, freeze\n",
       "7       3794                                                                                                                 @UPSHelp I’m having trouble with My Choice account. Please Help!                                                                                                   ['have', 'trouble', 'choice', 'account', 'help']                                                       [trouble, choice, account, help]      3                          Problems with account/password/logging\n",
       "8       5741                                   @115817 I used UPS My Choice to hold two packages that were going to arrive on Friday until Monday.  They're still not here.  Where'd they go?                                                   ['use', 'up', 'choice', 'hold', 'package', 'go', 'arrive', 're', 'still', 'here', 'where', 'go']                                                   [use, choice, hold, package, arrive]      8                                  Problems with package delivery\n",
       "9       7780                                           @AskPayPal \\nBeen having an issue for a couple hours now trying to signup and now access my new account. Help? https://t.co/4xiV4wgMw4                                             ['have', 'issue', 'couple', 'hour', 'now', 'try', 'signup', 'now', 'access', 'new', 'account', 'help']                              [issue, couple, hour, signup, access, new, account, help]      3                          Problems with account/password/logging\n",
       "10      7782                                                                                                     @AskPayPal Your customer service is the most horrible I've experience. Jeez!                                                                                  ['customer', 'service', 'most', 'horrible', 'experience', 'jeez']                                        [customer, service, horrible, experience, jeez]     11                                            Bad customer service"
      ]
     },
     "execution_count": 89,
     "metadata": {},
     "output_type": "execute_result"
    }
   ],
   "source": [
    "data_test"
   ]
  },
  {
   "cell_type": "markdown",
   "metadata": {},
   "source": [
    "Predicted topics in this small test dataset seem mostly accurate and relevant."
   ]
  }
 ],
 "metadata": {
  "kernelspec": {
   "display_name": "Python 3",
   "language": "python",
   "name": "python3"
  },
  "language_info": {
   "codemirror_mode": {
    "name": "ipython",
    "version": 3
   },
   "file_extension": ".py",
   "mimetype": "text/x-python",
   "name": "python",
   "nbconvert_exporter": "python",
   "pygments_lexer": "ipython3",
   "version": "3.8.5"
  }
 },
 "nbformat": 4,
 "nbformat_minor": 4
}
